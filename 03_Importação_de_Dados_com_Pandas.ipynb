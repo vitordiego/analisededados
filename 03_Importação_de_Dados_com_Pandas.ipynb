{
  "nbformat": 4,
  "nbformat_minor": 0,
  "metadata": {
    "colab": {
      "name": "Pandas III - Importação de Dados com Pandas.ipynb",
      "provenance": [],
      "toc_visible": true,
      "mount_file_id": "1pUZ1__IqK1kPqloYTnxzTbH32zNa7bQp",
      "authorship_tag": "ABX9TyPtEoUfhV8xuKa9UvxDHpCE",
      "include_colab_link": true
    },
    "kernelspec": {
      "name": "python3",
      "display_name": "Python 3"
    }
  },
  "cells": [
    {
      "cell_type": "markdown",
      "metadata": {
        "id": "view-in-github",
        "colab_type": "text"
      },
      "source": [
        "<a href=\"https://colab.research.google.com/github/vitordiego/analisededados/blob/main/03_Importa%C3%A7%C3%A3o_de_Dados_com_Pandas.ipynb\" target=\"_parent\"><img src=\"https://colab.research.google.com/assets/colab-badge.svg\" alt=\"Open In Colab\"/></a>"
      ]
    },
    {
      "cell_type": "markdown",
      "metadata": {
        "id": "ZCiK8NBDzKvC"
      },
      "source": [
        "# **Importação de Dados com Pandas**\r\n",
        "\r\n",
        "- O pacote Pandas consegue lidar com variados formatos de dados, que vão além do CVS, ou estrutura tabular de linhas com rótulos e índices. Muitas vezes há necessidade de leitura de arquivos em formato de texto, JSON, APIs WEB, tabelas de HTML, em formato SAS, uma consulta SQL, etc.\r\n",
        "\r\n",
        "- A documentação do Pandas é um grande apoio, por exemplo a função read_csv possui mais de 50 parâmetros diferentes"
      ]
    },
    {
      "cell_type": "markdown",
      "metadata": {
        "id": "Nb5kzQI8zntU"
      },
      "source": [
        "## Dataset\r\n",
        "\r\n",
        "\r\n",
        "https://www.kaggle.com/dhruvildave/new-york-times-best-sellers\r\n",
        "\r\n",
        "Converti o arquivo para .xlsx e divide em 2 planilhas pelo ano de 2010 e 2009\r\n",
        "\r\n",
        "\r\n",
        "\r\n"
      ]
    },
    {
      "cell_type": "markdown",
      "metadata": {
        "id": "SDZOyu9szpDE"
      },
      "source": [
        "## Importando Bibliotecas"
      ]
    },
    {
      "cell_type": "code",
      "metadata": {
        "id": "E1u0Q161z7am"
      },
      "source": [
        "import pandas as pd\r\n",
        "import numpy as np\r\n"
      ],
      "execution_count": 13,
      "outputs": []
    },
    {
      "cell_type": "markdown",
      "metadata": {
        "id": "hkc6hEibzxbg"
      },
      "source": [
        "## Importando arquivos CSV\r\n",
        "\r\n",
        "Arquivos planos e mais simples, populares para representação de dados. Armazenados como strings (textos), sendo cada linha representa um registro de dados, sendo os valores das colunas separados por um caracterer delimitador (, ou ;), assim é a estrutura dos arquivos CSV.\r\n",
        "\r\n",
        " arquivo = pd.read_csv(\"arquivo.csv\")"
      ]
    },
    {
      "cell_type": "code",
      "metadata": {
        "colab": {
          "base_uri": "https://localhost:8080/",
          "height": 195
        },
        "id": "WVRxawxFDd1y",
        "outputId": "4e0b0eb2-1a6e-4f69-e40e-aaa404edd4e8"
      },
      "source": [
        "# Importando o arquivo, neste caso separa por \";\", sem o parâmetro \"sep=\" traz por padrão separação por vírgula (,)\r\n",
        "\r\n",
        "megasena = pd.read_csv(\"https://raw.githubusercontent.com/vitordiego/datasets/main/lotofacil_megasena_brasil/megascsv.csv\", sep=\";\")\r\n",
        "megasena.head()"
      ],
      "execution_count": 14,
      "outputs": [
        {
          "output_type": "execute_result",
          "data": {
            "text/html": [
              "<div>\n",
              "<style scoped>\n",
              "    .dataframe tbody tr th:only-of-type {\n",
              "        vertical-align: middle;\n",
              "    }\n",
              "\n",
              "    .dataframe tbody tr th {\n",
              "        vertical-align: top;\n",
              "    }\n",
              "\n",
              "    .dataframe thead th {\n",
              "        text-align: right;\n",
              "    }\n",
              "</style>\n",
              "<table border=\"1\" class=\"dataframe\">\n",
              "  <thead>\n",
              "    <tr style=\"text-align: right;\">\n",
              "      <th></th>\n",
              "      <th>lottery</th>\n",
              "      <th>date_occured</th>\n",
              "      <th>ball_01</th>\n",
              "      <th>ball_02</th>\n",
              "      <th>ball_03</th>\n",
              "      <th>ball_04</th>\n",
              "      <th>ball_05</th>\n",
              "      <th>ball_06</th>\n",
              "    </tr>\n",
              "  </thead>\n",
              "  <tbody>\n",
              "    <tr>\n",
              "      <th>0</th>\n",
              "      <td>2221</td>\n",
              "      <td>2020-01-04</td>\n",
              "      <td>23</td>\n",
              "      <td>34</td>\n",
              "      <td>45</td>\n",
              "      <td>57</td>\n",
              "      <td>5</td>\n",
              "      <td>56</td>\n",
              "    </tr>\n",
              "    <tr>\n",
              "      <th>1</th>\n",
              "      <td>2220</td>\n",
              "      <td>2019-12-31</td>\n",
              "      <td>38</td>\n",
              "      <td>58</td>\n",
              "      <td>35</td>\n",
              "      <td>3</td>\n",
              "      <td>40</td>\n",
              "      <td>57</td>\n",
              "    </tr>\n",
              "    <tr>\n",
              "      <th>2</th>\n",
              "      <td>2219</td>\n",
              "      <td>2019-12-21</td>\n",
              "      <td>57</td>\n",
              "      <td>59</td>\n",
              "      <td>45</td>\n",
              "      <td>8</td>\n",
              "      <td>28</td>\n",
              "      <td>36</td>\n",
              "    </tr>\n",
              "    <tr>\n",
              "      <th>3</th>\n",
              "      <td>2218</td>\n",
              "      <td>2019-12-19</td>\n",
              "      <td>16</td>\n",
              "      <td>6</td>\n",
              "      <td>38</td>\n",
              "      <td>22</td>\n",
              "      <td>52</td>\n",
              "      <td>48</td>\n",
              "    </tr>\n",
              "    <tr>\n",
              "      <th>4</th>\n",
              "      <td>2217</td>\n",
              "      <td>2019-12-17</td>\n",
              "      <td>16</td>\n",
              "      <td>32</td>\n",
              "      <td>36</td>\n",
              "      <td>30</td>\n",
              "      <td>14</td>\n",
              "      <td>10</td>\n",
              "    </tr>\n",
              "  </tbody>\n",
              "</table>\n",
              "</div>"
            ],
            "text/plain": [
              "   lottery date_occured  ball_01  ball_02  ball_03  ball_04  ball_05  ball_06\n",
              "0     2221   2020-01-04       23       34       45       57        5       56\n",
              "1     2220   2019-12-31       38       58       35        3       40       57\n",
              "2     2219   2019-12-21       57       59       45        8       28       36\n",
              "3     2218   2019-12-19       16        6       38       22       52       48\n",
              "4     2217   2019-12-17       16       32       36       30       14       10"
            ]
          },
          "metadata": {
            "tags": []
          },
          "execution_count": 14
        }
      ]
    },
    {
      "cell_type": "code",
      "metadata": {
        "colab": {
          "base_uri": "https://localhost:8080/",
          "height": 195
        },
        "id": "oANSYBRm0xYn",
        "outputId": "5ce53a3b-cf9a-4520-f716-cf7ebec584d5"
      },
      "source": [
        "# Importando o arquivo, neste caso separa por \";\", sem o parâmetro \"sep=\" traz por padrão separação por vírgula (,)\r\n",
        "# nomeando as colunas\r\n",
        "cols = [\"loteria\", \"data_sorteio\", \"bola_01\", \"bola_02\", \"bola_03\", \"bola_04\", \"bola_05\", \"bola_06\"]\r\n",
        "url = \"https://raw.githubusercontent.com/vitordiego/datasets/main/lotofacil_megasena_brasil/megascsv.csv\"\r\n",
        "megasena = pd.read_csv(url, sep=\";\", names=cols)\r\n",
        "megasena.head()"
      ],
      "execution_count": 15,
      "outputs": [
        {
          "output_type": "execute_result",
          "data": {
            "text/html": [
              "<div>\n",
              "<style scoped>\n",
              "    .dataframe tbody tr th:only-of-type {\n",
              "        vertical-align: middle;\n",
              "    }\n",
              "\n",
              "    .dataframe tbody tr th {\n",
              "        vertical-align: top;\n",
              "    }\n",
              "\n",
              "    .dataframe thead th {\n",
              "        text-align: right;\n",
              "    }\n",
              "</style>\n",
              "<table border=\"1\" class=\"dataframe\">\n",
              "  <thead>\n",
              "    <tr style=\"text-align: right;\">\n",
              "      <th></th>\n",
              "      <th>loteria</th>\n",
              "      <th>data_sorteio</th>\n",
              "      <th>bola_01</th>\n",
              "      <th>bola_02</th>\n",
              "      <th>bola_03</th>\n",
              "      <th>bola_04</th>\n",
              "      <th>bola_05</th>\n",
              "      <th>bola_06</th>\n",
              "    </tr>\n",
              "  </thead>\n",
              "  <tbody>\n",
              "    <tr>\n",
              "      <th>0</th>\n",
              "      <td>lottery</td>\n",
              "      <td>date_occured</td>\n",
              "      <td>ball_01</td>\n",
              "      <td>ball_02</td>\n",
              "      <td>ball_03</td>\n",
              "      <td>ball_04</td>\n",
              "      <td>ball_05</td>\n",
              "      <td>ball_06</td>\n",
              "    </tr>\n",
              "    <tr>\n",
              "      <th>1</th>\n",
              "      <td>2221</td>\n",
              "      <td>2020-01-04</td>\n",
              "      <td>23</td>\n",
              "      <td>34</td>\n",
              "      <td>45</td>\n",
              "      <td>57</td>\n",
              "      <td>5</td>\n",
              "      <td>56</td>\n",
              "    </tr>\n",
              "    <tr>\n",
              "      <th>2</th>\n",
              "      <td>2220</td>\n",
              "      <td>2019-12-31</td>\n",
              "      <td>38</td>\n",
              "      <td>58</td>\n",
              "      <td>35</td>\n",
              "      <td>3</td>\n",
              "      <td>40</td>\n",
              "      <td>57</td>\n",
              "    </tr>\n",
              "    <tr>\n",
              "      <th>3</th>\n",
              "      <td>2219</td>\n",
              "      <td>2019-12-21</td>\n",
              "      <td>57</td>\n",
              "      <td>59</td>\n",
              "      <td>45</td>\n",
              "      <td>8</td>\n",
              "      <td>28</td>\n",
              "      <td>36</td>\n",
              "    </tr>\n",
              "    <tr>\n",
              "      <th>4</th>\n",
              "      <td>2218</td>\n",
              "      <td>2019-12-19</td>\n",
              "      <td>16</td>\n",
              "      <td>6</td>\n",
              "      <td>38</td>\n",
              "      <td>22</td>\n",
              "      <td>52</td>\n",
              "      <td>48</td>\n",
              "    </tr>\n",
              "  </tbody>\n",
              "</table>\n",
              "</div>"
            ],
            "text/plain": [
              "   loteria  data_sorteio  bola_01  bola_02  bola_03  bola_04  bola_05  bola_06\n",
              "0  lottery  date_occured  ball_01  ball_02  ball_03  ball_04  ball_05  ball_06\n",
              "1     2221    2020-01-04       23       34       45       57        5       56\n",
              "2     2220    2019-12-31       38       58       35        3       40       57\n",
              "3     2219    2019-12-21       57       59       45        8       28       36\n",
              "4     2218    2019-12-19       16        6       38       22       52       48"
            ]
          },
          "metadata": {
            "tags": []
          },
          "execution_count": 15
        }
      ]
    },
    {
      "cell_type": "code",
      "metadata": {
        "id": "eW580yLeEy0i"
      },
      "source": [
        "# Determinando variáveis com caminho dos arquivos\r\n",
        "url_csv = \"https://raw.githubusercontent.com/vitordiego/datasets/main/lotofacil_megasena_brasil/megascsv.csv\""
      ],
      "execution_count": 16,
      "outputs": []
    },
    {
      "cell_type": "code",
      "metadata": {
        "colab": {
          "base_uri": "https://localhost:8080/",
          "height": 195
        },
        "id": "qoebOm5AErGm",
        "outputId": "8756e4d7-98b0-44d2-9e28-0db6ec3152b8"
      },
      "source": [
        "# Determinando quais colunas importar\r\n",
        "cols_name = [\"lottery\", \"date_occured\"]\r\n",
        "\r\n",
        "megasena = pd.read_csv(url_csv, usecols=cols_name, sep=\";\")\r\n",
        "megasena.head()"
      ],
      "execution_count": 17,
      "outputs": [
        {
          "output_type": "execute_result",
          "data": {
            "text/html": [
              "<div>\n",
              "<style scoped>\n",
              "    .dataframe tbody tr th:only-of-type {\n",
              "        vertical-align: middle;\n",
              "    }\n",
              "\n",
              "    .dataframe tbody tr th {\n",
              "        vertical-align: top;\n",
              "    }\n",
              "\n",
              "    .dataframe thead th {\n",
              "        text-align: right;\n",
              "    }\n",
              "</style>\n",
              "<table border=\"1\" class=\"dataframe\">\n",
              "  <thead>\n",
              "    <tr style=\"text-align: right;\">\n",
              "      <th></th>\n",
              "      <th>lottery</th>\n",
              "      <th>date_occured</th>\n",
              "    </tr>\n",
              "  </thead>\n",
              "  <tbody>\n",
              "    <tr>\n",
              "      <th>0</th>\n",
              "      <td>2221</td>\n",
              "      <td>2020-01-04</td>\n",
              "    </tr>\n",
              "    <tr>\n",
              "      <th>1</th>\n",
              "      <td>2220</td>\n",
              "      <td>2019-12-31</td>\n",
              "    </tr>\n",
              "    <tr>\n",
              "      <th>2</th>\n",
              "      <td>2219</td>\n",
              "      <td>2019-12-21</td>\n",
              "    </tr>\n",
              "    <tr>\n",
              "      <th>3</th>\n",
              "      <td>2218</td>\n",
              "      <td>2019-12-19</td>\n",
              "    </tr>\n",
              "    <tr>\n",
              "      <th>4</th>\n",
              "      <td>2217</td>\n",
              "      <td>2019-12-17</td>\n",
              "    </tr>\n",
              "  </tbody>\n",
              "</table>\n",
              "</div>"
            ],
            "text/plain": [
              "   lottery date_occured\n",
              "0     2221   2020-01-04\n",
              "1     2220   2019-12-31\n",
              "2     2219   2019-12-21\n",
              "3     2218   2019-12-19\n",
              "4     2217   2019-12-17"
            ]
          },
          "metadata": {
            "tags": []
          },
          "execution_count": 17
        }
      ]
    },
    {
      "cell_type": "code",
      "metadata": {
        "colab": {
          "base_uri": "https://localhost:8080/",
          "height": 195
        },
        "id": "taoiDQAdF0Jd",
        "outputId": "b193992f-9222-4797-b238-46f85e343475"
      },
      "source": [
        "# Determinando quais colunas importar por localização\r\n",
        "cols_name = [0, 1]\r\n",
        "\r\n",
        "megasena = pd.read_csv(url_csv, usecols=cols_name, sep=\";\")\r\n",
        "megasena.head()"
      ],
      "execution_count": 18,
      "outputs": [
        {
          "output_type": "execute_result",
          "data": {
            "text/html": [
              "<div>\n",
              "<style scoped>\n",
              "    .dataframe tbody tr th:only-of-type {\n",
              "        vertical-align: middle;\n",
              "    }\n",
              "\n",
              "    .dataframe tbody tr th {\n",
              "        vertical-align: top;\n",
              "    }\n",
              "\n",
              "    .dataframe thead th {\n",
              "        text-align: right;\n",
              "    }\n",
              "</style>\n",
              "<table border=\"1\" class=\"dataframe\">\n",
              "  <thead>\n",
              "    <tr style=\"text-align: right;\">\n",
              "      <th></th>\n",
              "      <th>lottery</th>\n",
              "      <th>date_occured</th>\n",
              "    </tr>\n",
              "  </thead>\n",
              "  <tbody>\n",
              "    <tr>\n",
              "      <th>0</th>\n",
              "      <td>2221</td>\n",
              "      <td>2020-01-04</td>\n",
              "    </tr>\n",
              "    <tr>\n",
              "      <th>1</th>\n",
              "      <td>2220</td>\n",
              "      <td>2019-12-31</td>\n",
              "    </tr>\n",
              "    <tr>\n",
              "      <th>2</th>\n",
              "      <td>2219</td>\n",
              "      <td>2019-12-21</td>\n",
              "    </tr>\n",
              "    <tr>\n",
              "      <th>3</th>\n",
              "      <td>2218</td>\n",
              "      <td>2019-12-19</td>\n",
              "    </tr>\n",
              "    <tr>\n",
              "      <th>4</th>\n",
              "      <td>2217</td>\n",
              "      <td>2019-12-17</td>\n",
              "    </tr>\n",
              "  </tbody>\n",
              "</table>\n",
              "</div>"
            ],
            "text/plain": [
              "   lottery date_occured\n",
              "0     2221   2020-01-04\n",
              "1     2220   2019-12-31\n",
              "2     2219   2019-12-21\n",
              "3     2218   2019-12-19\n",
              "4     2217   2019-12-17"
            ]
          },
          "metadata": {
            "tags": []
          },
          "execution_count": 18
        }
      ]
    },
    {
      "cell_type": "code",
      "metadata": {
        "colab": {
          "base_uri": "https://localhost:8080/",
          "height": 343
        },
        "id": "C_hR8o8eF8nA",
        "outputId": "e4f85ab0-fbe1-4c3e-be94-484f8fbd0cf2"
      },
      "source": [
        "# Limitando a quantidade de linhas\r\n",
        "megasena = pd.read_csv(url_csv, sep=\";\", nrows=10)\r\n",
        "megasena"
      ],
      "execution_count": 19,
      "outputs": [
        {
          "output_type": "execute_result",
          "data": {
            "text/html": [
              "<div>\n",
              "<style scoped>\n",
              "    .dataframe tbody tr th:only-of-type {\n",
              "        vertical-align: middle;\n",
              "    }\n",
              "\n",
              "    .dataframe tbody tr th {\n",
              "        vertical-align: top;\n",
              "    }\n",
              "\n",
              "    .dataframe thead th {\n",
              "        text-align: right;\n",
              "    }\n",
              "</style>\n",
              "<table border=\"1\" class=\"dataframe\">\n",
              "  <thead>\n",
              "    <tr style=\"text-align: right;\">\n",
              "      <th></th>\n",
              "      <th>lottery</th>\n",
              "      <th>date_occured</th>\n",
              "      <th>ball_01</th>\n",
              "      <th>ball_02</th>\n",
              "      <th>ball_03</th>\n",
              "      <th>ball_04</th>\n",
              "      <th>ball_05</th>\n",
              "      <th>ball_06</th>\n",
              "    </tr>\n",
              "  </thead>\n",
              "  <tbody>\n",
              "    <tr>\n",
              "      <th>0</th>\n",
              "      <td>2221</td>\n",
              "      <td>2020-01-04</td>\n",
              "      <td>23</td>\n",
              "      <td>34</td>\n",
              "      <td>45</td>\n",
              "      <td>57</td>\n",
              "      <td>5</td>\n",
              "      <td>56</td>\n",
              "    </tr>\n",
              "    <tr>\n",
              "      <th>1</th>\n",
              "      <td>2220</td>\n",
              "      <td>2019-12-31</td>\n",
              "      <td>38</td>\n",
              "      <td>58</td>\n",
              "      <td>35</td>\n",
              "      <td>3</td>\n",
              "      <td>40</td>\n",
              "      <td>57</td>\n",
              "    </tr>\n",
              "    <tr>\n",
              "      <th>2</th>\n",
              "      <td>2219</td>\n",
              "      <td>2019-12-21</td>\n",
              "      <td>57</td>\n",
              "      <td>59</td>\n",
              "      <td>45</td>\n",
              "      <td>8</td>\n",
              "      <td>28</td>\n",
              "      <td>36</td>\n",
              "    </tr>\n",
              "    <tr>\n",
              "      <th>3</th>\n",
              "      <td>2218</td>\n",
              "      <td>2019-12-19</td>\n",
              "      <td>16</td>\n",
              "      <td>6</td>\n",
              "      <td>38</td>\n",
              "      <td>22</td>\n",
              "      <td>52</td>\n",
              "      <td>48</td>\n",
              "    </tr>\n",
              "    <tr>\n",
              "      <th>4</th>\n",
              "      <td>2217</td>\n",
              "      <td>2019-12-17</td>\n",
              "      <td>16</td>\n",
              "      <td>32</td>\n",
              "      <td>36</td>\n",
              "      <td>30</td>\n",
              "      <td>14</td>\n",
              "      <td>10</td>\n",
              "    </tr>\n",
              "    <tr>\n",
              "      <th>5</th>\n",
              "      <td>2216</td>\n",
              "      <td>2019-12-14</td>\n",
              "      <td>24</td>\n",
              "      <td>42</td>\n",
              "      <td>48</td>\n",
              "      <td>10</td>\n",
              "      <td>43</td>\n",
              "      <td>49</td>\n",
              "    </tr>\n",
              "    <tr>\n",
              "      <th>6</th>\n",
              "      <td>2215</td>\n",
              "      <td>2019-12-11</td>\n",
              "      <td>21</td>\n",
              "      <td>23</td>\n",
              "      <td>43</td>\n",
              "      <td>1</td>\n",
              "      <td>19</td>\n",
              "      <td>33</td>\n",
              "    </tr>\n",
              "    <tr>\n",
              "      <th>7</th>\n",
              "      <td>2214</td>\n",
              "      <td>2019-12-07</td>\n",
              "      <td>18</td>\n",
              "      <td>30</td>\n",
              "      <td>4</td>\n",
              "      <td>10</td>\n",
              "      <td>34</td>\n",
              "      <td>47</td>\n",
              "    </tr>\n",
              "    <tr>\n",
              "      <th>8</th>\n",
              "      <td>2213</td>\n",
              "      <td>2019-12-04</td>\n",
              "      <td>7</td>\n",
              "      <td>5</td>\n",
              "      <td>10</td>\n",
              "      <td>60</td>\n",
              "      <td>32</td>\n",
              "      <td>46</td>\n",
              "    </tr>\n",
              "    <tr>\n",
              "      <th>9</th>\n",
              "      <td>2212</td>\n",
              "      <td>2019-11-30</td>\n",
              "      <td>51</td>\n",
              "      <td>58</td>\n",
              "      <td>53</td>\n",
              "      <td>52</td>\n",
              "      <td>26</td>\n",
              "      <td>23</td>\n",
              "    </tr>\n",
              "  </tbody>\n",
              "</table>\n",
              "</div>"
            ],
            "text/plain": [
              "   lottery date_occured  ball_01  ball_02  ball_03  ball_04  ball_05  ball_06\n",
              "0     2221   2020-01-04       23       34       45       57        5       56\n",
              "1     2220   2019-12-31       38       58       35        3       40       57\n",
              "2     2219   2019-12-21       57       59       45        8       28       36\n",
              "3     2218   2019-12-19       16        6       38       22       52       48\n",
              "4     2217   2019-12-17       16       32       36       30       14       10\n",
              "5     2216   2019-12-14       24       42       48       10       43       49\n",
              "6     2215   2019-12-11       21       23       43        1       19       33\n",
              "7     2214   2019-12-07       18       30        4       10       34       47\n",
              "8     2213   2019-12-04        7        5       10       60       32       46\n",
              "9     2212   2019-11-30       51       58       53       52       26       23"
            ]
          },
          "metadata": {
            "tags": []
          },
          "execution_count": 19
        }
      ]
    },
    {
      "cell_type": "code",
      "metadata": {
        "colab": {
          "base_uri": "https://localhost:8080/",
          "height": 402
        },
        "id": "hiuf0W2TGXO7",
        "outputId": "0b2033e7-076f-4ea1-9244-052f9c4bc3ff"
      },
      "source": [
        "# Limitando a quantidade de linhas e para qual linha pular / iniciar a importação\r\n",
        "megasena = pd.read_csv(url_csv, sep=\";\", \r\n",
        "                       nrows=100,\r\n",
        "                       skiprows=2)\r\n",
        "megasena"
      ],
      "execution_count": 20,
      "outputs": [
        {
          "output_type": "execute_result",
          "data": {
            "text/html": [
              "<div>\n",
              "<style scoped>\n",
              "    .dataframe tbody tr th:only-of-type {\n",
              "        vertical-align: middle;\n",
              "    }\n",
              "\n",
              "    .dataframe tbody tr th {\n",
              "        vertical-align: top;\n",
              "    }\n",
              "\n",
              "    .dataframe thead th {\n",
              "        text-align: right;\n",
              "    }\n",
              "</style>\n",
              "<table border=\"1\" class=\"dataframe\">\n",
              "  <thead>\n",
              "    <tr style=\"text-align: right;\">\n",
              "      <th></th>\n",
              "      <th>2220</th>\n",
              "      <th>2019-12-31</th>\n",
              "      <th>38</th>\n",
              "      <th>58</th>\n",
              "      <th>35</th>\n",
              "      <th>3</th>\n",
              "      <th>40</th>\n",
              "      <th>57</th>\n",
              "    </tr>\n",
              "  </thead>\n",
              "  <tbody>\n",
              "    <tr>\n",
              "      <th>0</th>\n",
              "      <td>2219</td>\n",
              "      <td>2019-12-21</td>\n",
              "      <td>57</td>\n",
              "      <td>59</td>\n",
              "      <td>45</td>\n",
              "      <td>8</td>\n",
              "      <td>28</td>\n",
              "      <td>36</td>\n",
              "    </tr>\n",
              "    <tr>\n",
              "      <th>1</th>\n",
              "      <td>2218</td>\n",
              "      <td>2019-12-19</td>\n",
              "      <td>16</td>\n",
              "      <td>6</td>\n",
              "      <td>38</td>\n",
              "      <td>22</td>\n",
              "      <td>52</td>\n",
              "      <td>48</td>\n",
              "    </tr>\n",
              "    <tr>\n",
              "      <th>2</th>\n",
              "      <td>2217</td>\n",
              "      <td>2019-12-17</td>\n",
              "      <td>16</td>\n",
              "      <td>32</td>\n",
              "      <td>36</td>\n",
              "      <td>30</td>\n",
              "      <td>14</td>\n",
              "      <td>10</td>\n",
              "    </tr>\n",
              "    <tr>\n",
              "      <th>3</th>\n",
              "      <td>2216</td>\n",
              "      <td>2019-12-14</td>\n",
              "      <td>24</td>\n",
              "      <td>42</td>\n",
              "      <td>48</td>\n",
              "      <td>10</td>\n",
              "      <td>43</td>\n",
              "      <td>49</td>\n",
              "    </tr>\n",
              "    <tr>\n",
              "      <th>4</th>\n",
              "      <td>2215</td>\n",
              "      <td>2019-12-11</td>\n",
              "      <td>21</td>\n",
              "      <td>23</td>\n",
              "      <td>43</td>\n",
              "      <td>1</td>\n",
              "      <td>19</td>\n",
              "      <td>33</td>\n",
              "    </tr>\n",
              "    <tr>\n",
              "      <th>...</th>\n",
              "      <td>...</td>\n",
              "      <td>...</td>\n",
              "      <td>...</td>\n",
              "      <td>...</td>\n",
              "      <td>...</td>\n",
              "      <td>...</td>\n",
              "      <td>...</td>\n",
              "      <td>...</td>\n",
              "    </tr>\n",
              "    <tr>\n",
              "      <th>95</th>\n",
              "      <td>2124</td>\n",
              "      <td>2019-02-13</td>\n",
              "      <td>31</td>\n",
              "      <td>20</td>\n",
              "      <td>47</td>\n",
              "      <td>43</td>\n",
              "      <td>2</td>\n",
              "      <td>11</td>\n",
              "    </tr>\n",
              "    <tr>\n",
              "      <th>96</th>\n",
              "      <td>2123</td>\n",
              "      <td>2019-02-09</td>\n",
              "      <td>47</td>\n",
              "      <td>59</td>\n",
              "      <td>14</td>\n",
              "      <td>56</td>\n",
              "      <td>50</td>\n",
              "      <td>15</td>\n",
              "    </tr>\n",
              "    <tr>\n",
              "      <th>97</th>\n",
              "      <td>2122</td>\n",
              "      <td>2019-02-06</td>\n",
              "      <td>27</td>\n",
              "      <td>21</td>\n",
              "      <td>3</td>\n",
              "      <td>11</td>\n",
              "      <td>15</td>\n",
              "      <td>49</td>\n",
              "    </tr>\n",
              "    <tr>\n",
              "      <th>98</th>\n",
              "      <td>2121</td>\n",
              "      <td>2019-02-02</td>\n",
              "      <td>37</td>\n",
              "      <td>8</td>\n",
              "      <td>17</td>\n",
              "      <td>29</td>\n",
              "      <td>10</td>\n",
              "      <td>40</td>\n",
              "    </tr>\n",
              "    <tr>\n",
              "      <th>99</th>\n",
              "      <td>2120</td>\n",
              "      <td>2019-01-30</td>\n",
              "      <td>38</td>\n",
              "      <td>41</td>\n",
              "      <td>20</td>\n",
              "      <td>24</td>\n",
              "      <td>25</td>\n",
              "      <td>13</td>\n",
              "    </tr>\n",
              "  </tbody>\n",
              "</table>\n",
              "<p>100 rows × 8 columns</p>\n",
              "</div>"
            ],
            "text/plain": [
              "    2220  2019-12-31  38  58  35   3  40  57\n",
              "0   2219  2019-12-21  57  59  45   8  28  36\n",
              "1   2218  2019-12-19  16   6  38  22  52  48\n",
              "2   2217  2019-12-17  16  32  36  30  14  10\n",
              "3   2216  2019-12-14  24  42  48  10  43  49\n",
              "4   2215  2019-12-11  21  23  43   1  19  33\n",
              "..   ...         ...  ..  ..  ..  ..  ..  ..\n",
              "95  2124  2019-02-13  31  20  47  43   2  11\n",
              "96  2123  2019-02-09  47  59  14  56  50  15\n",
              "97  2122  2019-02-06  27  21   3  11  15  49\n",
              "98  2121  2019-02-02  37   8  17  29  10  40\n",
              "99  2120  2019-01-30  38  41  20  24  25  13\n",
              "\n",
              "[100 rows x 8 columns]"
            ]
          },
          "metadata": {
            "tags": []
          },
          "execution_count": 20
        }
      ]
    },
    {
      "cell_type": "code",
      "metadata": {
        "colab": {
          "base_uri": "https://localhost:8080/",
          "height": 343
        },
        "id": "kYJPYEKsGwEU",
        "outputId": "eb306b5e-51e5-4a72-ccd5-d63689792662"
      },
      "source": [
        "# Limitando a quantidade de linhas, o \"header=None\" desconsidera cabeçalho\r\n",
        "megasena = pd.read_csv(url_csv, sep=\";\", nrows=10,\r\n",
        "                       skiprows=1,\r\n",
        "                       names=(\"loteria\", \"data_jogo\", \"bola_01\", \"bola_02\", \"bola_03\", \"bola_04\", \"bola_05\", \"bola_06\"), \r\n",
        "                       header=None)\r\n",
        "megasena"
      ],
      "execution_count": 21,
      "outputs": [
        {
          "output_type": "execute_result",
          "data": {
            "text/html": [
              "<div>\n",
              "<style scoped>\n",
              "    .dataframe tbody tr th:only-of-type {\n",
              "        vertical-align: middle;\n",
              "    }\n",
              "\n",
              "    .dataframe tbody tr th {\n",
              "        vertical-align: top;\n",
              "    }\n",
              "\n",
              "    .dataframe thead th {\n",
              "        text-align: right;\n",
              "    }\n",
              "</style>\n",
              "<table border=\"1\" class=\"dataframe\">\n",
              "  <thead>\n",
              "    <tr style=\"text-align: right;\">\n",
              "      <th></th>\n",
              "      <th>loteria</th>\n",
              "      <th>data_jogo</th>\n",
              "      <th>bola_01</th>\n",
              "      <th>bola_02</th>\n",
              "      <th>bola_03</th>\n",
              "      <th>bola_04</th>\n",
              "      <th>bola_05</th>\n",
              "      <th>bola_06</th>\n",
              "    </tr>\n",
              "  </thead>\n",
              "  <tbody>\n",
              "    <tr>\n",
              "      <th>0</th>\n",
              "      <td>2221</td>\n",
              "      <td>2020-01-04</td>\n",
              "      <td>23</td>\n",
              "      <td>34</td>\n",
              "      <td>45</td>\n",
              "      <td>57</td>\n",
              "      <td>5</td>\n",
              "      <td>56</td>\n",
              "    </tr>\n",
              "    <tr>\n",
              "      <th>1</th>\n",
              "      <td>2220</td>\n",
              "      <td>2019-12-31</td>\n",
              "      <td>38</td>\n",
              "      <td>58</td>\n",
              "      <td>35</td>\n",
              "      <td>3</td>\n",
              "      <td>40</td>\n",
              "      <td>57</td>\n",
              "    </tr>\n",
              "    <tr>\n",
              "      <th>2</th>\n",
              "      <td>2219</td>\n",
              "      <td>2019-12-21</td>\n",
              "      <td>57</td>\n",
              "      <td>59</td>\n",
              "      <td>45</td>\n",
              "      <td>8</td>\n",
              "      <td>28</td>\n",
              "      <td>36</td>\n",
              "    </tr>\n",
              "    <tr>\n",
              "      <th>3</th>\n",
              "      <td>2218</td>\n",
              "      <td>2019-12-19</td>\n",
              "      <td>16</td>\n",
              "      <td>6</td>\n",
              "      <td>38</td>\n",
              "      <td>22</td>\n",
              "      <td>52</td>\n",
              "      <td>48</td>\n",
              "    </tr>\n",
              "    <tr>\n",
              "      <th>4</th>\n",
              "      <td>2217</td>\n",
              "      <td>2019-12-17</td>\n",
              "      <td>16</td>\n",
              "      <td>32</td>\n",
              "      <td>36</td>\n",
              "      <td>30</td>\n",
              "      <td>14</td>\n",
              "      <td>10</td>\n",
              "    </tr>\n",
              "    <tr>\n",
              "      <th>5</th>\n",
              "      <td>2216</td>\n",
              "      <td>2019-12-14</td>\n",
              "      <td>24</td>\n",
              "      <td>42</td>\n",
              "      <td>48</td>\n",
              "      <td>10</td>\n",
              "      <td>43</td>\n",
              "      <td>49</td>\n",
              "    </tr>\n",
              "    <tr>\n",
              "      <th>6</th>\n",
              "      <td>2215</td>\n",
              "      <td>2019-12-11</td>\n",
              "      <td>21</td>\n",
              "      <td>23</td>\n",
              "      <td>43</td>\n",
              "      <td>1</td>\n",
              "      <td>19</td>\n",
              "      <td>33</td>\n",
              "    </tr>\n",
              "    <tr>\n",
              "      <th>7</th>\n",
              "      <td>2214</td>\n",
              "      <td>2019-12-07</td>\n",
              "      <td>18</td>\n",
              "      <td>30</td>\n",
              "      <td>4</td>\n",
              "      <td>10</td>\n",
              "      <td>34</td>\n",
              "      <td>47</td>\n",
              "    </tr>\n",
              "    <tr>\n",
              "      <th>8</th>\n",
              "      <td>2213</td>\n",
              "      <td>2019-12-04</td>\n",
              "      <td>7</td>\n",
              "      <td>5</td>\n",
              "      <td>10</td>\n",
              "      <td>60</td>\n",
              "      <td>32</td>\n",
              "      <td>46</td>\n",
              "    </tr>\n",
              "    <tr>\n",
              "      <th>9</th>\n",
              "      <td>2212</td>\n",
              "      <td>2019-11-30</td>\n",
              "      <td>51</td>\n",
              "      <td>58</td>\n",
              "      <td>53</td>\n",
              "      <td>52</td>\n",
              "      <td>26</td>\n",
              "      <td>23</td>\n",
              "    </tr>\n",
              "  </tbody>\n",
              "</table>\n",
              "</div>"
            ],
            "text/plain": [
              "   loteria   data_jogo  bola_01  bola_02  bola_03  bola_04  bola_05  bola_06\n",
              "0     2221  2020-01-04       23       34       45       57        5       56\n",
              "1     2220  2019-12-31       38       58       35        3       40       57\n",
              "2     2219  2019-12-21       57       59       45        8       28       36\n",
              "3     2218  2019-12-19       16        6       38       22       52       48\n",
              "4     2217  2019-12-17       16       32       36       30       14       10\n",
              "5     2216  2019-12-14       24       42       48       10       43       49\n",
              "6     2215  2019-12-11       21       23       43        1       19       33\n",
              "7     2214  2019-12-07       18       30        4       10       34       47\n",
              "8     2213  2019-12-04        7        5       10       60       32       46\n",
              "9     2212  2019-11-30       51       58       53       52       26       23"
            ]
          },
          "metadata": {
            "tags": []
          },
          "execution_count": 21
        }
      ]
    },
    {
      "cell_type": "code",
      "metadata": {
        "colab": {
          "base_uri": "https://localhost:8080/"
        },
        "id": "4_H_Lg49H8Dr",
        "outputId": "7ca48ba7-ecd0-4117-a1ec-023c86863410"
      },
      "source": [
        "megasena = pd.read_csv(url_csv, sep=\";\")\r\n",
        "megasena.dtypes"
      ],
      "execution_count": 22,
      "outputs": [
        {
          "output_type": "execute_result",
          "data": {
            "text/plain": [
              "lottery          int64\n",
              "date_occured    object\n",
              "ball_01          int64\n",
              "ball_02          int64\n",
              "ball_03          int64\n",
              "ball_04          int64\n",
              "ball_05          int64\n",
              "ball_06          int64\n",
              "dtype: object"
            ]
          },
          "metadata": {
            "tags": []
          },
          "execution_count": 22
        }
      ]
    },
    {
      "cell_type": "code",
      "metadata": {
        "colab": {
          "base_uri": "https://localhost:8080/"
        },
        "id": "ctL7iEABIfCv",
        "outputId": "3ed7b476-039f-4b07-86c2-ec2cbbc50c6a"
      },
      "source": [
        "# Alterando o tipo de \"lottery\" de \"int64\" para \"float\"\r\n",
        "megasena = pd.read_csv(url_csv, sep=\";\", dtype={\"lottery\": float})\r\n",
        "megasena.dtypes"
      ],
      "execution_count": 23,
      "outputs": [
        {
          "output_type": "execute_result",
          "data": {
            "text/plain": [
              "lottery         float64\n",
              "date_occured     object\n",
              "ball_01           int64\n",
              "ball_02           int64\n",
              "ball_03           int64\n",
              "ball_04           int64\n",
              "ball_05           int64\n",
              "ball_06           int64\n",
              "dtype: object"
            ]
          },
          "metadata": {
            "tags": []
          },
          "execution_count": 23
        }
      ]
    },
    {
      "cell_type": "markdown",
      "metadata": {
        "id": "ml_qdd5215kk"
      },
      "source": [
        "## Importando arquivos Excel\r\n",
        "\r\n",
        "Similar aos parâmetros do pd.read_cvs:\r\n",
        "- nrow: limitar quantidade de linhas carregadas\r\n",
        "- skiprows: estipular em qual linha inicia o carregamento dos dados\r\n",
        "- usecols: escolher as colunas para serem carregadas, podendo sinalizar pela localização Excel, ex: \"A:C, G\""
      ]
    },
    {
      "cell_type": "code",
      "metadata": {
        "colab": {
          "base_uri": "https://localhost:8080/",
          "height": 432
        },
        "id": "ClH779v72BOC",
        "outputId": "6836e07e-3288-4261-d3cf-0f0dff8ce923"
      },
      "source": [
        "lotofacil = pd.read_excel(\"/content/d_lotfac.xls\", \r\n",
        "                          nrows=13, skiprows=10,\r\n",
        "                          usecols=\"A:C\")\r\n",
        "lotofacil"
      ],
      "execution_count": 24,
      "outputs": [
        {
          "output_type": "execute_result",
          "data": {
            "text/html": [
              "<div>\n",
              "<style scoped>\n",
              "    .dataframe tbody tr th:only-of-type {\n",
              "        vertical-align: middle;\n",
              "    }\n",
              "\n",
              "    .dataframe tbody tr th {\n",
              "        vertical-align: top;\n",
              "    }\n",
              "\n",
              "    .dataframe thead th {\n",
              "        text-align: right;\n",
              "    }\n",
              "</style>\n",
              "<table border=\"1\" class=\"dataframe\">\n",
              "  <thead>\n",
              "    <tr style=\"text-align: right;\">\n",
              "      <th></th>\n",
              "      <th>10</th>\n",
              "      <th>2003-12-01 00:00:00</th>\n",
              "      <th>24</th>\n",
              "    </tr>\n",
              "  </thead>\n",
              "  <tbody>\n",
              "    <tr>\n",
              "      <th>0</th>\n",
              "      <td>11</td>\n",
              "      <td>2003-12-08</td>\n",
              "      <td>24</td>\n",
              "    </tr>\n",
              "    <tr>\n",
              "      <th>1</th>\n",
              "      <td>12</td>\n",
              "      <td>2003-12-15</td>\n",
              "      <td>11</td>\n",
              "    </tr>\n",
              "    <tr>\n",
              "      <th>2</th>\n",
              "      <td>13</td>\n",
              "      <td>2003-12-22</td>\n",
              "      <td>13</td>\n",
              "    </tr>\n",
              "    <tr>\n",
              "      <th>3</th>\n",
              "      <td>14</td>\n",
              "      <td>2003-12-29</td>\n",
              "      <td>14</td>\n",
              "    </tr>\n",
              "    <tr>\n",
              "      <th>4</th>\n",
              "      <td>15</td>\n",
              "      <td>2004-01-05</td>\n",
              "      <td>23</td>\n",
              "    </tr>\n",
              "    <tr>\n",
              "      <th>5</th>\n",
              "      <td>16</td>\n",
              "      <td>2004-01-12</td>\n",
              "      <td>24</td>\n",
              "    </tr>\n",
              "    <tr>\n",
              "      <th>6</th>\n",
              "      <td>17</td>\n",
              "      <td>2004-01-19</td>\n",
              "      <td>13</td>\n",
              "    </tr>\n",
              "    <tr>\n",
              "      <th>7</th>\n",
              "      <td>18</td>\n",
              "      <td>2004-01-26</td>\n",
              "      <td>2</td>\n",
              "    </tr>\n",
              "    <tr>\n",
              "      <th>8</th>\n",
              "      <td>19</td>\n",
              "      <td>2004-02-02</td>\n",
              "      <td>15</td>\n",
              "    </tr>\n",
              "    <tr>\n",
              "      <th>9</th>\n",
              "      <td>20</td>\n",
              "      <td>2004-02-09</td>\n",
              "      <td>4</td>\n",
              "    </tr>\n",
              "    <tr>\n",
              "      <th>10</th>\n",
              "      <td>21</td>\n",
              "      <td>2004-02-16</td>\n",
              "      <td>5</td>\n",
              "    </tr>\n",
              "    <tr>\n",
              "      <th>11</th>\n",
              "      <td>22</td>\n",
              "      <td>2004-02-25</td>\n",
              "      <td>13</td>\n",
              "    </tr>\n",
              "    <tr>\n",
              "      <th>12</th>\n",
              "      <td>23</td>\n",
              "      <td>2004-03-01</td>\n",
              "      <td>10</td>\n",
              "    </tr>\n",
              "  </tbody>\n",
              "</table>\n",
              "</div>"
            ],
            "text/plain": [
              "    10 2003-12-01 00:00:00  24\n",
              "0   11          2003-12-08  24\n",
              "1   12          2003-12-15  11\n",
              "2   13          2003-12-22  13\n",
              "3   14          2003-12-29  14\n",
              "4   15          2004-01-05  23\n",
              "5   16          2004-01-12  24\n",
              "6   17          2004-01-19  13\n",
              "7   18          2004-01-26   2\n",
              "8   19          2004-02-02  15\n",
              "9   20          2004-02-09   4\n",
              "10  21          2004-02-16   5\n",
              "11  22          2004-02-25  13\n",
              "12  23          2004-03-01  10"
            ]
          },
          "metadata": {
            "tags": []
          },
          "execution_count": 24
        }
      ]
    },
    {
      "cell_type": "markdown",
      "metadata": {
        "id": "HL2yAjiR4Xe-"
      },
      "source": [
        "### Importando diferentes planilhas em um arquivo Excel"
      ]
    },
    {
      "cell_type": "markdown",
      "metadata": {
        "id": "KnU5igZO4gh1"
      },
      "source": [
        "![image.png](data:image/png;base64,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)"
      ]
    },
    {
      "cell_type": "code",
      "metadata": {
        "colab": {
          "base_uri": "https://localhost:8080/"
        },
        "id": "bLk2dmuP4sI_",
        "outputId": "5c034169-eaca-49ab-e378-042e835020fa"
      },
      "source": [
        "# Importante a segunda planilha (2020) do arquivo Excel\r\n",
        "\r\n",
        "# Considerando a posição (inicia em 0)\r\n",
        "megas20_a = pd.read_excel(\"/content/megas.xls\",\r\n",
        "                        sheet_name=1)\r\n",
        "\r\n",
        "# Considerando o nome da planilha\r\n",
        "megas20_b = pd.read_excel(\"/content/megas.xls\",\r\n",
        "                        sheet_name=\"2020\")\r\n",
        "\r\n",
        "# Método para comprar igualdade de conteúdo e características\r\n",
        "print(megas20_a.equals(megas20_b))"
      ],
      "execution_count": 25,
      "outputs": [
        {
          "output_type": "stream",
          "text": [
            "True\n"
          ],
          "name": "stdout"
        }
      ]
    },
    {
      "cell_type": "markdown",
      "metadata": {
        "id": "g4WzSVO-5vHD"
      },
      "source": [
        "### Carregando todas as planilhas do arquivo Excel"
      ]
    },
    {
      "cell_type": "code",
      "metadata": {
        "colab": {
          "base_uri": "https://localhost:8080/"
        },
        "id": "ppPRNwh-501f",
        "outputId": "41c9a424-4b41-4442-a2e3-e9505fe8e4c8"
      },
      "source": [
        "# O parâmetro \"sheet_name=None\", obtendo um dicionário ordenado com os dados\r\n",
        "megas20 = pd.read_excel(\"/content/megas.xls\",\r\n",
        "                        sheet_name=None)\r\n",
        "\r\n",
        "# Verificar o tipo\r\n",
        "type(megas20)"
      ],
      "execution_count": 26,
      "outputs": [
        {
          "output_type": "execute_result",
          "data": {
            "text/plain": [
              "dict"
            ]
          },
          "metadata": {
            "tags": []
          },
          "execution_count": 26
        }
      ]
    },
    {
      "cell_type": "code",
      "metadata": {
        "colab": {
          "base_uri": "https://localhost:8080/"
        },
        "id": "z2zWb5EQ6ZbU",
        "outputId": "4c6a843b-cf72-4bed-9f7f-60f9dd421265"
      },
      "source": [
        "# Demostrar as tabelas de dados dentro do dicionário\r\n",
        "for key, value in megas20.items():\r\n",
        "  print(key, type(value))"
      ],
      "execution_count": 27,
      "outputs": [
        {
          "output_type": "stream",
          "text": [
            "megas <class 'pandas.core.frame.DataFrame'>\n",
            "2020 <class 'pandas.core.frame.DataFrame'>\n",
            "2019 <class 'pandas.core.frame.DataFrame'>\n",
            "2018 <class 'pandas.core.frame.DataFrame'>\n"
          ],
          "name": "stdout"
        }
      ]
    },
    {
      "cell_type": "markdown",
      "metadata": {
        "id": "GKv2iTa8655U"
      },
      "source": [
        "### Carregando todas as planilhas\r\n",
        "\r\n",
        "Com os dicionários as chaves são nomes de planilhas e os valores são quadros de dados para cada planilha."
      ]
    },
    {
      "cell_type": "code",
      "metadata": {
        "colab": {
          "base_uri": "https://localhost:8080/"
        },
        "id": "sEiO45EC7Xt_",
        "outputId": "04467312-1588-45e2-aff8-36a62f295a47"
      },
      "source": [
        "# Criar DataFrame para receber os dados\r\n",
        "megas_all = pd.DataFrame()\r\n",
        "\r\n",
        "# Iteração com os dados do dicionário\r\n",
        "for sheet_name, frame in megas20.items():\r\n",
        "  # Adicionando a coluna\r\n",
        "  frame[\"Year\"] = sheet_name\r\n",
        "\r\n",
        "  # Adicionar dados ao DataFrame \"megas_all\"\r\n",
        "  megas_all = megas_all.append(frame)\r\n",
        "\r\n",
        "  # Ver years nos dados\r\n",
        "  print(megas_all.Year.unique())"
      ],
      "execution_count": 28,
      "outputs": [
        {
          "output_type": "stream",
          "text": [
            "['megas']\n",
            "['megas' '2020']\n",
            "['megas' '2020' '2019']\n",
            "['megas' '2020' '2019' '2018']\n"
          ],
          "name": "stdout"
        }
      ]
    },
    {
      "cell_type": "code",
      "metadata": {
        "colab": {
          "base_uri": "https://localhost:8080/"
        },
        "id": "Se_-dsSj8p23",
        "outputId": "09de3200-0afe-4396-aff3-a9f62e686d5a"
      },
      "source": [
        "megas_all.shape"
      ],
      "execution_count": 29,
      "outputs": [
        {
          "output_type": "execute_result",
          "data": {
            "text/plain": [
              "(2442, 9)"
            ]
          },
          "metadata": {
            "tags": []
          },
          "execution_count": 29
        }
      ]
    },
    {
      "cell_type": "code",
      "metadata": {
        "colab": {
          "base_uri": "https://localhost:8080/"
        },
        "id": "1_ynkoF98tE3",
        "outputId": "abc437ea-18c0-4666-aba9-ae5f7cc77004"
      },
      "source": [
        "megas = pd.read_excel(\"/content/megas.xls\")\r\n",
        "megas.shape"
      ],
      "execution_count": 30,
      "outputs": [
        {
          "output_type": "execute_result",
          "data": {
            "text/plain": [
              "(2221, 8)"
            ]
          },
          "metadata": {
            "tags": []
          },
          "execution_count": 30
        }
      ]
    },
    {
      "cell_type": "markdown",
      "metadata": {
        "id": "MfjXceYK9xXD"
      },
      "source": [
        "### Boleanos no Pandas arquivos Excel\r\n",
        "\r\n",
        "- dtype={\"colunm\": bool} - determina os dados como boleano, se forem 0 ou 1\r\n",
        "- true_valuers=[\"Yes\"] - valores verdadeiros boleanos substituir por \"Yes\"\r\n",
        "- false_valuers=[\"No\"] - valores falsos boleanos substituir por \"No\""
      ]
    },
    {
      "cell_type": "markdown",
      "metadata": {
        "id": "7bi9_2XsAJXY"
      },
      "source": [
        "### Datetime - dados de formato data"
      ]
    },
    {
      "cell_type": "code",
      "metadata": {
        "colab": {
          "base_uri": "https://localhost:8080/",
          "height": 195
        },
        "id": "oVamvb-_AV-S",
        "outputId": "e598dc8b-c5c4-4f01-8d7c-838dc5b299e3"
      },
      "source": [
        "megas20 = pd.read_excel(\"/content/megas.xls\",\r\n",
        "                        parse_dates=[\"date_occured\"])\r\n",
        "megas20.head()"
      ],
      "execution_count": 31,
      "outputs": [
        {
          "output_type": "execute_result",
          "data": {
            "text/html": [
              "<div>\n",
              "<style scoped>\n",
              "    .dataframe tbody tr th:only-of-type {\n",
              "        vertical-align: middle;\n",
              "    }\n",
              "\n",
              "    .dataframe tbody tr th {\n",
              "        vertical-align: top;\n",
              "    }\n",
              "\n",
              "    .dataframe thead th {\n",
              "        text-align: right;\n",
              "    }\n",
              "</style>\n",
              "<table border=\"1\" class=\"dataframe\">\n",
              "  <thead>\n",
              "    <tr style=\"text-align: right;\">\n",
              "      <th></th>\n",
              "      <th>lottery</th>\n",
              "      <th>date_occured</th>\n",
              "      <th>ball_01</th>\n",
              "      <th>ball_02</th>\n",
              "      <th>ball_03</th>\n",
              "      <th>ball_04</th>\n",
              "      <th>ball_05</th>\n",
              "      <th>ball_06</th>\n",
              "    </tr>\n",
              "  </thead>\n",
              "  <tbody>\n",
              "    <tr>\n",
              "      <th>0</th>\n",
              "      <td>2221</td>\n",
              "      <td>2020-01-04</td>\n",
              "      <td>23</td>\n",
              "      <td>34</td>\n",
              "      <td>45</td>\n",
              "      <td>57</td>\n",
              "      <td>5</td>\n",
              "      <td>56</td>\n",
              "    </tr>\n",
              "    <tr>\n",
              "      <th>1</th>\n",
              "      <td>2220</td>\n",
              "      <td>2019-12-31</td>\n",
              "      <td>38</td>\n",
              "      <td>58</td>\n",
              "      <td>35</td>\n",
              "      <td>3</td>\n",
              "      <td>40</td>\n",
              "      <td>57</td>\n",
              "    </tr>\n",
              "    <tr>\n",
              "      <th>2</th>\n",
              "      <td>2219</td>\n",
              "      <td>2019-12-21</td>\n",
              "      <td>57</td>\n",
              "      <td>59</td>\n",
              "      <td>45</td>\n",
              "      <td>8</td>\n",
              "      <td>28</td>\n",
              "      <td>36</td>\n",
              "    </tr>\n",
              "    <tr>\n",
              "      <th>3</th>\n",
              "      <td>2218</td>\n",
              "      <td>2019-12-19</td>\n",
              "      <td>16</td>\n",
              "      <td>6</td>\n",
              "      <td>38</td>\n",
              "      <td>22</td>\n",
              "      <td>52</td>\n",
              "      <td>48</td>\n",
              "    </tr>\n",
              "    <tr>\n",
              "      <th>4</th>\n",
              "      <td>2217</td>\n",
              "      <td>2019-12-17</td>\n",
              "      <td>16</td>\n",
              "      <td>32</td>\n",
              "      <td>36</td>\n",
              "      <td>30</td>\n",
              "      <td>14</td>\n",
              "      <td>10</td>\n",
              "    </tr>\n",
              "  </tbody>\n",
              "</table>\n",
              "</div>"
            ],
            "text/plain": [
              "   lottery date_occured  ball_01  ball_02  ball_03  ball_04  ball_05  ball_06\n",
              "0     2221   2020-01-04       23       34       45       57        5       56\n",
              "1     2220   2019-12-31       38       58       35        3       40       57\n",
              "2     2219   2019-12-21       57       59       45        8       28       36\n",
              "3     2218   2019-12-19       16        6       38       22       52       48\n",
              "4     2217   2019-12-17       16       32       36       30       14       10"
            ]
          },
          "metadata": {
            "tags": []
          },
          "execution_count": 31
        }
      ]
    },
    {
      "cell_type": "code",
      "metadata": {
        "colab": {
          "base_uri": "https://localhost:8080/"
        },
        "id": "9PqNSMCNCm9h",
        "outputId": "39c060d4-242f-4fcd-83b8-4db811dc5891"
      },
      "source": [
        "megas20.dtypes"
      ],
      "execution_count": 32,
      "outputs": [
        {
          "output_type": "execute_result",
          "data": {
            "text/plain": [
              "lottery                  int64\n",
              "date_occured    datetime64[ns]\n",
              "ball_01                  int64\n",
              "ball_02                  int64\n",
              "ball_03                  int64\n",
              "ball_04                  int64\n",
              "ball_05                  int64\n",
              "ball_06                  int64\n",
              "dtype: object"
            ]
          },
          "metadata": {
            "tags": []
          },
          "execution_count": 32
        }
      ]
    },
    {
      "cell_type": "markdown",
      "metadata": {
        "id": "FshpKVS8CwgF"
      },
      "source": [
        "![image.png](data:image/png;base64,iVBORw0KGgoAAAANSUhEUgAAA+gAAAGCCAYAAABzU+nxAAAgAElEQVR4Aey9728U1/n3fz/xH2ERP0p51G6QaleJiWhElDolsTCluKAGkgrydQoNBpoKCBXGCrHbJq6joBKaBCNKqAw3JVZQbSEsUOxEcRw5wk6QDDc3NuE2wdShDoTW/pS276/O7Pw4M3vOzOx6Z3dm/Uaydndm5/x4Xecs1/v8uM7/Av+RAAmQAAmQAAmQAAmQAAmQAAmQAAkUncD/KnoJWAASIAESIAESIAESIAESIAESIAESIAFQoLMRkAAJkAAJkAAJkAAJkAAJkAAJkEAMCFCgx8AILAIJkAAJkAAJkAAJkAAJkAAJkAAJUKCzDZAACZAACZAACZAACZAACZAACZBADAhQoMfACCwCCZAACZAACZAACZAACZAACZAACVCgsw2QAAmQAAmQAAmQAAmQAAmQAAmQQAwIUKDHwAgsAgmQAAmQAAmQAAmQAAmQAAmQAAlQoLMNkAAJkAAJkAAJkAAJkAAJkAAJkEAMCFCgx8AILAIJkAAJkAAJkAAJkAAJkAAJkAAJUKCzDZAACZAACZAACZAACZAACZAACZBADAhQoMfACHktws1BtG+tw8LyFMqq16Lx2DCm85oBEyMBEghLYHr0JLY/vRQV5SlULN2E1rMTYR/l90iABEiABEiABEiABOYhgRwE+hQ6G1IoEwIw7F91HWpWb0DjK53oGrqC6XvzkHQhqnztJNYtyrTLkvZhzBQi/4TncaNrU/g2Hdj2N6Hzy4QDYfHnRGBmqA1LMtpJFdZ1UaTPCSwfJgESIAESIAESIIESJlAYge51Uhctxbr2bozeLmGyRajaQHuVRmBSLIYxBwV6GEr8TjgCPgOZi9owEC4RfosESIAESIAESIAESGCeESiOQLcE+6J6bO+6Eo/Z3Zu92L66HjWevzeGi9Qisi6PjyAoT6F1qEj1SFC2FOgJMlYuRc26TzmZnO/I/G2o2dOLG85XPO+G0Wr9zmW8csDMA4sfSYAESIAESIAESIAETALFFeim47pw60mMF3vZ+5cnUZ/hSBdR2OZQHs6gz61fU6DPjV/sn86hT1l1GmjP3DpS1nDSR6D7DJhxBt3CylcSIAESIAESIAESIAEPgVgIdLGXvWLzSYx7ClfQj3Nw3iMpZy7l0e1B38c96GFsRIEehlKCv5NLnzKrm71AB7R70E9NJRgii04CJEACJEACJEACJBAlgfwJ9NZ+TN++o/y7cXkYPV370PjUYs0e6fTsVFGDmc3BeY/EQLmW51o/WhnFPSeTqAV6C3o07VrX3q3rDMyXkxmieyjXPgUgF4EuKjI93IlGRnGPzqZMmQRIgARIgARIgARKjED+BHp7uM3axrFDq3TBzKrQeOZOcRDPwXmPpMBxK08klYxXomqBzoBe8bLSHEozhz6Vq0CfQ2n5KAmQAAmQAAmQAAmQwDwkUHCBnmY8hXOtderZ9EUtOHe3CJaYg/MeSWnjVp5IKhmvRCnQ42WPvJdmDn2KAj3v1mCCJEACJEACJEACJEACCgJFEuiiJBPo3KyeSV9+LPic4Jkvh9G5fwfqVy1FhQjutmgpahp2oL1rGDdmzZoGOeSa+/7nuwfMqN67g9EPT6J95wbU1FpL+hdjiTgHfv9JDHxpFU5hjTmXRx05ur4rc89rkBg1+LZvc+og+K7ehu3HBh2+nircGDLrvVTYtQqpVfWo2dqGzqGJnCL1T18eTNt4dR0WWgEFa+tRv3Nfzml6iuz6GMTE9eW5frh1BT3H2tDYUI8l1WYAsuq6zDbsl89Qm2KQy4kQPn2h22iHdvoGQ6f9BtW3uG1gFu72lELF0kzbB9UBc+hTSlGuCCQp/164+pom78wTFTQB5aRVSdPj/Ti0V+qPZlt54+wVTPu1EdW926LttaDB7lfi90n07X6M3rIeCP9bYj3BVxIgARIgARIgARIggbkTKKJAB3C3H9sXKaIjP/YWzuvqdm8KPa/Up0W5zlkWx7f1TEDnnNsOssaBlh3uzPeOwHEXcRajXS1YboktXdnKq1Cz56T6DPg5lye8U60VNvcm0LUngG/1BrxxQRpouDuKNxqswQiFPUUQwKffwvmQ597PXD6J7QHxCoRdKlbtQedo/rZEaJm4DT23T7dH0RnE12g7i1G/fxA3/E430An0axPo+rVmhUq503619S12G7jZjybtNph0+xK277oGaOtgWWkOfSoWAv32cHDfWtWGc7awtiquehW/UXtQo/rNtX+vFqO+YxjTCP9bosqJ10iABEiABEiABEiABHIjUFyBDmD82FrFLOAP0X5BUaG7V3BIM+ueKaSrULN1E2psx9MRjvkX6BPo0QoiJ19XGau3GQLDVcs5iIl0OuGdarWwqUNNgDCy67BoEzqviUGWYbTWauroZV/bhoGA7QvjZ/Zgifc538+L0XAqeMWFi7Pmg5qJI2g1j4W+PHO5Ew2BAzhulhV+4ksp0H+IJbXqlSlp2zn1Ude3uG1AMFrnKyAlPovq0bC5XvH74dRRN0hnt2Nl20o/X3SB3rAtfHsJ7FuzGGjXDdpITE0eC7duUx476VohELrl84skQAIkQAIkQAIkQAJhCRRdoONWNxoUTvK6jKOI7qBnp5/wyHQydU54fgW6fqm+Ln/7+qJN6PpSMlXRBXp4hkYdGtrQGnrAJJ32kjdHpQq73453bfJfGaFoJ2mWVchsL+60w3xSC1ZJ7IVJRPcdzRF4dlvQ1i2FMp34Ugr0IBs69VHXN+h5z/18toFbvWgMK879eEmrBBIt0H3r6LFDeQrR9C13PhToug7O6yRAAiRAAiRAAiSQHwLFF+hiL/p6txNoiBZp/6Wo6vSZHTmKt8y0bYF+exiH9u9Du/hr3YTvKRzi5TvN+9b39ve6zmsfP7FJMYMn8hR7sLdhu3hO7B019mVnlqViczduWLacc3nmOoOeWb5QAlLBTf/cDvSolrpfO6mcsRPpiL3HDXuFHVrQYMUc8ObpHeywmGbxmhfBKsrVcNKxqch/NotVBt56mZ9d7cSqUxwEuqa8evuLNqZqA/kbgCuTBfoc+tT4GafvNz6l6BuPbUKT/buQ/u6hIWnLhWbAzf79sewIzR70rNm24Jy088ROfrwTy7NOS1Hf8hQo0G2qfEMCJEACJEACJEACkRCIgUAHBl5ROIM7e6XgR6No1y2jFstcO7oxcHkK0zevYKDnMBoClmlnOsgI3q+uwq+Z/S+r3YOuca+nfAejx7bZwc4cAVOFpg+9382xPFnsG/UVo9Ub0H72Cm7cvoMblwdxKMyeafFMzyjGb9/BuAhO5rMnfXuft7530LVV0QbK69DYcyUjwNz0qHqpeEXrYMZ3VWbTXfNlko3A8Qj082/qlhZXoeZXh9F1YQLTt6eM4IKtWm6KIwh9Bbqc9h1YZ7OPX3CCivnWt9Bt4MJb2q0NFat24I2eYYzeFO1xGF0dOwL2UTurBFy2Di2YXU8ZH5TL3T12zngqdH7+An3hUy049KHoj6KNdPrGZ8jsW7M416pbeSS3kaD2l+6fFOgZVuYFEiABEiABEiABEsgrgXgI9HaFOJOd36E29ex57R70iH3QGf/8l53nS6Cff/OHmbPn1t7sjDKlLyjF2tZuaTDCfDC0cy9nlIcZdM1yarFSwIiWrxKqymfuaPe8fs+7zP3CW4rVC1VY1+Wzt1wp6LahK1SwLJmZ895XsKrqrbsmt93ZQTQpl23XoXVQmm11igEt66c6Xas3oBXoAezMvLT1VdoT+nIJDspnwreBgXa1iFzya/eKFRuT75aB0hHoS1r7M38bMIWevYrfnvIUMvqWbhCxXNf+ZnH+zbXavk6BbrdAviEBEiABEiABEiCBSAjEQ6AHzKArhbBwMIe9M7ESo7uDaHpMIfzLU8iPQL+CQ6sz0//efv0ea6N0d/vRmCHsFEt+iyLQNbP5RsEncEi1zLfc5xmdON3b75rpHj+qCPTlF8nfKM8sen6dyb/xjFr0Si1D+1YrWDPslZmvsyLCvcR9pq8lcxBHLBU+4TP4gFkMvKISYPU4NC4VXyPQK1yrT6Tve96q6+tjT0TVBkbRruqrtftw3qeLzwy2KQZ2hG1KRKAvasE5XVBF3QkYnr4ltga52qbZlv3bn35GnwLd04n4kQRIgARIgARIgATyTCAGAj1oD/oUujYrBJE8S6mBohYgeRLoN7uxTiHcFtbWo2a1/18qY0a1Cq3DnkoURaBrhI1ZNKWQLtfsezWemcW5vUG209hXnPMcwFG1r79inxekh6vPR117UQkc32tS21QOLi3y52wUUbNv2DUAoRHomcuc1ZVW19e/bJG0AU1fChaDOiGpqUNOfSrNrihL3D1i223FMH0LOL9PsTIhTPvTrFoKtom7lPxEAiRAAiRAAiRAAiSQHYHiC3TNEkwnKrd6dq3m6JXgmo53+h+zJqeQrfM+vE+7DNRXvClEvfi+U1+zUNmWx3hsrkvcNcLGLFIugi5Y2AyjNWPAQiHqNdwyWMtB92T7hnivrl8Lem47e7itvdz+r9a0rwh8pqiLr/CyCqpZoSFvD1AK9E3olE8GsJJTvKrrW4Q2oNzi4FktoCi/uKQeMNDUIac+lc44uB0rChg6P81AgydQpjeH4DLNof3N9mO7os9RoHutwM8kQAIkQAIkQAIkkF8CRRfoweeghxedGWhCO8g5BGVTiiOFGFM4uRmiUhUdOZuy2xUPzyo24kwT2E7FKNQ1afbaxhLyTS5M/JPOTXil0wzxrLINJlCgz6EeWdkspz6VtkawGFa0hND5hbC1IvngMuWWbjqr8L8liqLxEgmQAAmQAAmQAAmQQI4EiivQdfsoXfuPOYMuC1Pl/nnb+OGd6qyEjZl+Ls8Ei4i4z6BrZmNt5n5v5jCDCc6gu/bbazBzBt0zKOgaoJpD++MMuqbF8TIJkAAJkAAJkAAJREugiAJdH2l9+TE5gJZmj7LLEVVDUgvKKPegK/aSq4sWfDX07JucVBIFutq+c9lLLhPJ5r26vcxFoAM570HX2D94D3oCZ9C5Bx2dDR6hLVbezHmJO/egZ9P/+V0SIAESIAESIAESiAOBIgn0KZxr1ZwNrYhcrBQ55T9E65C111eBMvIo7uqZ/cAo7oqiKi9pBFrpzaBrRKxrFYWSUN4vRiHQCx/FPYECHeq+VPZYGwZ8unjJR3HPg0BnFPe8/0wwQRIgARIgARIgARKIlEDBBfr06ElsX6WILGzs1a7KDJYmqq+JKFzmcw56z681AwBZHrPWNKjnf36/4iisgHPQ1SJQEQldI9D9ygPNfm5VYCd1Ofxni3N5JniJOwBlkLCAs7w1fMJGMFdZNZf6qdJxXdMdNac9h9rnvPFQ56AnUaAD2Z+D3ovGWsWss/E7omnHmjbj36fS1lS24/Un3efSuwyfTVyL3PaKK8vkXVmkCcJZpm1/PAfda0Z+JgESIAESIAESIIFCEsifQG/thy6y9Y3Lw+jp2ofGpxYrz+S19lhXaKNba2bYhDO+qB4NHd0YuDyF6dsTON9zGA3aAYC0Q6+ehVYvD6/Y3InR25JJZqUpPc1RWGLgoGtc+p75+I2zbahRRCyvaB10nQue/noO5UmqQNeer12Hxp4rmWxu9qNJZWOx+iITu2Q8/7eRCHSIFQK6waIq1PzqMLouTGD69hRGPzyJ1gZdH6mCa3m7qMocgquJx3Opby7PhBKSykGadH+tWLUDb/QMY/TmHUxfG0VXxw5lP7J+R7TnoGv6h28fN5uMut51aDo75WpUM3L70wwIZP7+RCjQMYtzrfoB0fDtL20L1WCfCwA/kAAJkAAJkAAJkAAJzIlA/gS6MXOlm9EKvl6x2X82SizVrJhjHpYDn+kgC4aagEpGnouxRJzJvWopKsrds3N68ZXCwtpt2L5/H9pf2YHlS3VO8lqog2HlUh61qFc51WrB4a6bt2Xl8kwocSYyuvAWlujsW12Hhr370L6/DY1PCxuo29PyMEfveSslfc6lftLj+rezw2jVzvaq62K1Veu1QnV8XCkJdKP/6fpIOEYWK71Az6VPmWb1G0BYWo+a1fVYUp2Cq6/FQqCLs+g6sVzTZxxm4Ri76qdv8bxDAiRAAiRAAiRAAiSQI4FYCPSFW09i/F5QDUQwsfw48GqBDsx82KIVf44j6xWx+mB3zjM659d/GXf25UmwQBc6omtTCP5qlkEDPEGtS9yPTKCLxK+dxDrF6ongNpJCWW0bBu4qalBSAl0sCe/OnZFLgHr7qMMu+z5lPTuBQ0+p255sQ5eAjYtAn2Pf0tbPQsNXEiABEiABEiABEiCBvBEorkBfVI/tXaOYDludu6NofzqsSK9CzdZNqHE57mkHWyfQIZaD7g1KX+H8372CQ1t1S5N1Tn0VavYNZy7fdrHItjzJFuiC/+ixbViosJksErzvK1btUwtYF8vgD5EKdAAzlzvRUK1rD+rrFavacO6WpuylJtAFowtvYXnYgQyxvWVzvWLbjKKP2giz7VP2g6FmouMq0EXfGmjXbbXIbHsLt25DvaIfuuonoeFbEiABEiABEiABEiCB/BAokkBfjPr2bvfe7rD1uTeBrj31/jOtQvj3TAChZ7CkzO9NoNNXbOuc/zsY7doTsDfWdISr16LVs3dVKoH7bVblSbpAT1fdP5CgLCYWY3l7P24Err5wI9V9ilqgG/neHkVnUPs1hNFi1O8f9K9bCQp0g9G1bp9Akmn7V6zag65rOa56yKpPuVvL9OA+3z7uErChf3+i3IMul382xG/UYtR3DGNas1/fVT85ab4nARIgARIgARIgARLIC4HCCPRFS1GzegMaX+lE19AVTOdBUM18OYzO/TtQb+wLF8HilqKmYQfau4ZxwwrUFNpBzmR5Y+gkWrfWI2XN5lXXoWZrC94ImvG/d8cI9tW+c4O5Zz0tKBbW1qN+ZxsOnc2t/uHKUxoC3bLG9OXBtI1Xe+zQsANNx/oxqptZthLI8rUgAt0q060r6DnWhsaGzLq52rD1fdVrqQp0o66zEG3e6Edm/IaKpaIP7UPn0IS98mQuNgvXpxTgb19BT8cO1Ndaq2aqkFqV/n0796X14xOTKO6K4kOU/1gLGlbXmatVRIyNbdju6lPhf0tUWfAaCZAACZAACZAACZBAbgRyEOi5ZcSnSIAESIAEEkLgZjfWKZa4hzmSLiE1ZDFJgARIgARIgARIIJYEKNBjaRYWigRIgATmRuDGmT1GdHkRYd7524GuL4PTnelrUeztr9ecOBGcHr9BAiRAAiRAAiRAAiQQjgAFejhO/BYJkAAJJIvAUJsyVkfwcYQT6GyQYz2Y7xfp4m8kCwtLSwIkQAIkQAIkQAJxJkCBHmfrsGwkQAIkkCuB2UE0WTE0XMvV69A6JO2Vd6U/i/P71ypmz1P43v5R1zf5gQRIgARIgARIgARIIP8EKNDzz5QpkgAJkEAsCJx/U3e0mjglQARadIS6CLx5SHvCwFoub4+FRVkIEiABEiABEiCBUidAgV7qFmb9SIAE5i+Bu4NoekyxXN01ox58f8m+YTty/vyFyZqTAAmQAAmQAAmQQPQEKNCjZ8wcSIAESKBoBGYuvIXlyqXuwcK8rDyFis0nMV600jNjEiABEiABEiABEphfBCjQ55e9WVsSIIF5SGDmcicaqsMJciHKrb+FWzsxenceAmOVSYAESIAESIAESKBIBCjQiwSe2ZIACZBAQQncHkWndo+5I8oNcb6oHtu7RjFd0AIyMxIgARIgARIgARIgAQp0tgESIAESmE8Ebl1Bz7E2NDbUY4k0q16xtB71O9tw6OwVTN+bT0BYVxIgARIgARIgARKIDwEK9PjYgiUhARIgARIgARIgARIgARIgARKYxwQo0Oex8Vl1EiABEiABEiABEiABEiABEiCB+BCgQI+PLVgSEiABEiABEiABEiABEiABEiCBeUyAAn0eG59VJwESIAESIAESIAESIAESIAESiA8BCvT42IIlIQESIAESIAESIAESIAESIAESmMcEKNDnsfFZdRIgARIgARIgARIgARIgARIggfgQoECPjy1YEhIgARIgARIgARIgARIgARIggXlMgAJ9HhufVScBEiABEiABEiABEiABEiABEogPAQr0+NiCJSEBEiABEiABEiABEiABEiABEpjHBCjQ57HxWXUSIAESIAESIAESIAESIAESIIH4EAgt0P9n5p+496//4V9IBjP/+IasQrJiu2K/KrU2wP6f/Db9r/+Zjc//1CwJCZAACZAACZDAvCEQWqBf/+L/4Mtrl/kXkgF5sa2wv8zfNsD+n3zbCxvyHwmQAAmQAAmQAAkUmkBWAn16agL8C8dAOHdkFY4VOZFTqbUB9v/kt2kK9EK7I8yPBEiABEiABEhAEKBAj2jQgQ568h30UhONrE/h2iT7f+FYR9WuKdDpJJEACZAACZAACRSDAAU6BTpn+iNqA1EJB6Ybf/FHgR5/GwX1Iwr0YrgkzJMESIAESIAESIACPSJxRgc9+Q56kAPP+7Sxrg2w/ye/bVCg00EiARIgARIgARIoBgEKdAp0zqBH1AZ04o3Xky/egmxIgZ58G1OgF8MlYZ4kQAIkQAIkQAIU6BGJMzroyXfQg0QY79PGujbA/p/8tkGBTgeJBEiABEiABEigGAQo0CnQOYMeURvQiTdeT754C7IhBXrybUyBXgyXhHmSAAmQAAmQAAlQoEckzuigJ99BDxJhvE8b69oA+3/y2wYFOh0kEiABEiABEiCBYhCgQKdA5wx6RG1AJ954PfniLciGFOjJtzEFejFcEuZJAiRAAiRAAiRAgR6ROKODnnwHPUiE8T5trGsD7P/JbxsU6HSQSIAESIAESIAEikGgIAL90tkOtGxZi0eXVKKsPIWy8odQvfLn2PJ2Ny5NFNCRO9ts5i/K0IzeiMS5cNqzcdB7Xxblkf/W4+AFfy4jb//E80wKTWf9n9GJieJcH0P/6+vx7VQKC5asx+8/GONMfoTtsTg2TlJ7zG9Zs+n/Vz/pxqnusH8DuDqP24nrt/Ll3kh/MyjQi+GSME8SIAESIAESIIFoBfpoF7bXWaJcFqDS+9QKbD/1eaSOli1OEiPQU1j29pAPkwH8YaXE0BT3iRLoH7Thu/KgxNI29M9j4WG3UTLwaff5FdFRMs9GoLtEp9wnlO+jHViMkkk+0naxokCnB0MCJEACJEACJFCCBCIT6JMftGFZKlNEumeKrfuVWHPET5DmyTFPkEAvqz+AEZ1Y+/QAHlU474kW6Ct96qvjwOslIWbzIdzilgYFep5+sz19nAK9BL0QVokESIAESIAESMBFIBqB/kUXtrjE+UNY8XIHei+Yy5gnPsdgVxtWPGgJdPG6HgdHonHqbOc9SQK9/Cf4w6dqHv3tP8hY3i4GPhIl0Ke4xN1ulx4Rwuvqdp8kLjkL9PpGtLza4vN3XD9wNw/aEQW66/9vfiABEiABEiABEihBAhEI9DH0viwLyCfQdOaSeqZvpANrJCG/YHc3JqN0MhMl0FN49I8DCm59aFkqD2w475Ml0JMvwpIkGFnWwra3nAV6xMu2k94OKNBL0AthlUiABEiABEiABFwE8i/QL7+Dn0nLr1cc8l+6fvXYz6XZ4F045Q0aN/k5Tr3eiBWPP5T+Xur7eHRjM44OaES/EPjmM8vMoHT3P/5zNB3rw9UzwUHiLnUfwJaNK8yAdg+h+plGtIhnsxw4yNlBl9iVqfZly3u3U5VYIH1fKdDH+nD01UasWPkE7i8XAdlW4GcvHsCpUb1guTrwDpo2pr9flvo+lm15HadGh3DwGWcwYMURJ26A22nuRvr5FUYAOCMg4MY2RX6f5zk9sz6ivi//HNXm6oxsbJ908cLy69t0odnk3P9DCvSRI+ulvl+J5/4i/x5ewoktUuyPlGd1Ura/jxc6sML+nVmPgwPpPmYF/Vyw5Cd47vVu+zfyUncbfmb9Xj/4BFa82IHBMbdtLh1Z7/zuP9OBkdFu/H7LT8zfjEp8e00jft/t/MZY9nP/1iiCxOXwe2el7X0VNuQ/EiABEiABEiABEig0gbwL9Kt/aXQcr5RCcGcjdEc68DPXMnhHIJaVV+LR3zhOoe1cfdGHljWSc2o7liksSMnXvcGWhnDihSecskvPieXjC9a0of8Lt5Np56moU84O+ou7sMXO+wdo+cCdZ/+rzuqEBbvl72YucfePA/AEnvtL5uDJyJ9/bgj5zFgBlVggrXbQCvQHH1I/7xUJUyEFeuj0JjA9chzPPS63Eef9/Q+aAzwGW6/t3Yz97Mp7ZBWmDeTc/0MK9OmpMZx6Ufo9SzXixOW0bcRvsDNwV4ktp6QTEr7oRZMmcKf299El0N2/A/LvRPXLXTjxmxVS3k7/K3u8Gb3S76dLoKcewv3Sb4uTZiWWtfe5VlX5CfRcfu/8bEmBXmh3hPmRAAmQAAmQAAkIAnkX6K790S92uZwrP2co455wJDViS3bg3MHlxtDb7AhY53uSo2iLX1mkiWX5sjivxLfX70LLi+ljwKx0Fmw5bs8SZZTXI9Jzd9C7cGq343h/99U+aZl7L5psR7YSTWe70WTXxyPQPdsHyh78CZ5rbsZz9bJQfcI9APDpASyT0rPqrXrVCnSf591bGEIK9NDpuWf4VWV2rsm2p+AMasu8n30bybn/++5BP4BeeSba8xu5oOEdXLrwjmvbUPXLvdJvsEfU+/Qt1zGULoGu+i0Nd00+mcIl0H3L8QNsP+MMMGgFei6/d57fbG87p0Cnk0QCJEACJEACJFAMAnkX6FoHKsAZ8jpH/e2yYH4C27uG0o7m5T78ocERsGXSzNG0R2Dev/EA+sWs0uQl9L/tnRmWRNoHbai2nUTPnnmX45c5o+0tt/U5ZwddONTdu5xZKGmZu+t6SpS/VyPQ3UtcFzR0YGTSEhmewYiN75iDDmOugYEycfydyXzyQuZxeXqBXok1f17Gzt8AACAASURBVOzD1ckJGM/JgyypFukotbACPVx6LjblKVTv7sIlsV0iyPZZtkvLvny12hNfVW0h5/5v/w6pRO96HLzg5j15tln67arE/Q9Kv42eWeucfx+9Av3xXThhbJG5hME/ykvtRZnN/jo1gasDB1yDBWViAMHsb16BvqCuGSfMIKJXP/A8J51oof7/JZffOzdHnQ2L8Z8y8yQBEiABEiABEpjfBPIu0PMzgy7PFKewzBsszRMlfs2f03sVL/1Z2tcoltdLSyqNJaHSzLQ8Q+Qq8/oDGBy7hKv23+c41fx9e+n7d9vlGW29k5ezg24scZXrL2bKRT5uAZ2eWdcI9LHjeM529L9vnDPv1OcSrn5yAGvs+404YczKyXmmIAtww3n1DH7I911Osy34TTZnm53BBhGp3xYYIQV6yPT6fyMJE8mhTzve3plDaXCGAl1aoaFvzyoBw2t6Xjn3f7tfhhPowgbuwUzrOc/qmKkJuH4flzaj1xXvw6ePuAS6d5DyEo5utPJMoczTX90xRpx+5xbomSdWTJ6SBinL1+OoGTPD9VtjbQfI6fdObzurXQsb8h8JkAAJkAAJkAAJFJpA3gV6XvaguxzCtcrj13qbJafQdNRczltzd6bwUAaJ+xxHG6S0fB3kFORZIMuRU73m7KDbdXEEp7E0fKJLsTddI9Dfb5FEcVDdKtH0/gSmA5kP4eBaJy2tQLecZkv4utLNQaCHSs8j9lWBCZW2D3bSVbblNXILagM59//nX8ep7m7NX296VYjVt+zXIRyUVxWVp6AKzpnb76P3t0Huw+l24ErX2181J2e4BPraDsXRcd3YLv0WWwEwlXnl8ntns9O3ZQr0QrsjzI8ESIAESIAESEAQyLtAn/ZEcc+Y/fY4RsqZEpeoi16gy9HJnX3Kjhh1XXumw16m6eek5+ygWw6uK1r7Lpw4tsuexXeiu2sEussp1tTD6/wGMqdA97M37+mFznxkM+f+7/md9Gc4gD/Uu/u56nfXJW5DD2AmQKDn8nsXgi8FOp0kEiABEiABEiCBYhDIv0D3LMUuK/fs6ZYdI0+QI2d5pHu5dYazmeMSd/f57M5yS9fy6LkEtpPqNncHXT7v3B052TkfXSPQR9+RlrCvwB8+DSOe3MzlGXJDHIRd4m4NMFgsXMJfnn3zzHprj23zHKWkSc9lQy5xz1w9YtmDrwVhM/f+H6bPiu+Mof83crwOS6g/gab3neBqog/nZ4m73IfTZXQJf2//d4ln5zfXNYNePscl7jn93gXzpUAvhkvCPEmABEiABEiABCIQ6BOY9ghocRb2ipc70GsGAZqeHMPI2QOeI7HcDqV7X2W0QeJEoKXv2jPKT6DprOTYftGLlmdW4NGV6b+fmfvd/We0JpAPB921N94unyy4NQLdc4SZESROEmYjf2606/NoXRt6jXvuPe45B4nzOugaQT3tKaM8IODr8GvSY5C4YMER1GZ5P38M89H/w9ij8EHiohDoKcwtSJx7sC/c712wrSnQ6SCRAAmQAAmQAAkUg0A0An1qAv5n0lqzPNZr5nm3097ZdVugWs+I10rk55g1sQ/d2fMtBhSqN4pj1n6Oavkc9ozAc3onLy8O+qcH8Ki33q7ZYZ1An8Dk+y1SdOcUFiwxj1lb833X/nTX6gTPLLlrab+nHHMV1PkW6NNTPGYtjKDjd/R9Np9scu7/nn6W2QedWWjvb6RxDOTl43jOPooxhfwfsxaNQM+sp/U7/wPXgKlu8C6n3ztp0FJlewr0YrgkzJMESIAESIAESCAygW44PKOZx3NlOmJP4LkjA9JZvZIDPdKBn8kC2eW8VuLR33Rnnkv+RR9a1shi23L0UliQkq9Ljq5w1L4YwB82ymeEO88ZZU79BC0fSDPrIZw7ldOnuqZzOqenBvCHle5yyGcJT2uPWUszvHqqGY9KzrqXffULxzOCM40c8R6bZOXvXmYfP4E+gemR455VGVbZU7j/Qdm2HtsH2FJlM16T+in5ZSybj16gu48WK5MGD91xPSrx3F8uOeXzGfjU/j5qVq1YfUD/+zWB6TBL3FMP4X7l71TmwK1fXrn83ll1UL1SoNNBIgESIAESIAESKAaBaAW66bhfOtuBli1r8egSSyBX4tt1P8eW199Jn1Pu5+BPfo5TrzdixeOmwEp9H49ubMbRAcnp9D5vPrPMzO/+x3+OpmN9uBoikvel7gPYsnGFXdb7H1+L5159B4PGUWThRUnODrpnifjI2z9xgsO5jikTZdHPoNsO51gfjr7aiBUrn8D9YoDD4LcLf+hOH01nf09ieHXgHTStN2faU9/Hsi2v49Soe4Y6lgJd1EHU92Vn5UM2tlex4LXwbZ6sHFY593/XIKQzwOQMrqUHl9wDaZXYckoePPQcmZZa7z4Jw/p9NAc/A/tI1AL9mQ6MjHbj91t+gm8bQr0S317TiN8rfqP8BLrR/nL4vdO1Wwr0YrgkzJMESIAESIAESKAgAl3nAJXy9Wwc9FLmUJC6TQyh3z6aqhcjXzhCycrfNdChPNYp8xnrWb6STbZtgP3fv824gsSFPBkjWxvM9fsU6HSQSIAESIAESIAEikGAAl2aOZ6rQyc/Twfd30GXWc39vRzxPoUFDQdcKx6uDhzAGmkJrXubQCHLybzmbutkMGT/97cTBXox/rtnniRAAiRAAiRAAkkgQIFOge7sT42IRSFE2dW/NLqC34kAgt+uc7Yq2EuEH29B/4S/eChEeZlHaduAAt3fvhToSXAPWEYSIAESIAESIIFiEKBAj0iU0kH3d9CjEKgjx37lilxvi3JzX++Cul/hxEjhyxVFXZlmvO3I/u9vHwr0Yvx3zzxJgARIgARIgASSQIACnQK9JGbQbcE62ouDIihenRPk7tFnGtEiggRO+osGO42I2gTTnz/8KdD9bU2BngT3gGUkARIgARIgARIoBgEK9IjEGB10fwedYpV8SrkNsP8HtO+JS7g6Zv3JEegDnovo91rVFoUN+Y8ESIAESIAESIAECk2AAj0ih48OenwcbZXzzWu0T5RtgP0/+e2LAr3Q7gjzIwESIAESIAESEAQo0CnQS2uJe0T2jFLMMe3kizmvDSnQk29TCnQ6SSRAAiRAAiRAAsUgQIEekaCjg558B90ruviZNg3bBtj/k99WKNCL4ZIwTxIgARIgARIgAQp0CnTOoEfUBsKKOX4v+WLOa0MK9OTblAKdDhIJkAAJkAAJkEAxCGQl0L/+6kvwLxwD4dyRVThW5EROpdYG2P+T36Yp0IvhkjBPEiABEiABEiCBrAT65MQY+BeOgXDuyCocK3Iip1JrA+z/yW/TFOh0kEiABEiABEiABIpBICuBXowCJjVPOndJtRzLTQJzJ8D+P3eGxU6BNiy2BZg/CZAACZAACcxPAhToEdmdzl1EYJksCSSAAPt/AowUUETaMAAQb5MACZAACZAACURCgAI9EqwAnbuIwDJZEkgAAfb/BBgpoIi0YQAg3iYBEiABEiABEoiEAAV6JFgp0CPCymRJIBEEKO4SYSbfQtKGvnh4kwRIgARIgARIICICFOgRgaVzFxFYJksCCSDA/p8AIwUUkTYMAMTbJEACJEACJEACkRCgQI8EK2fQI8LKZEkgEQQo7hJhJt9C0oa+eHiTBEiABEiABEggIgIU6BGBpXMXEVgmSwIJIMD+nwAjBRSRNgwAxNskQAIkQAIkQAKRECioQP/Pf/6NfP5FQiRPidK5yxNIJkMCCSTA/p9Ao3mKTBt6gPAjCZAACZAACZBAQQhELtD/fe9f+MedW/j6q+uYnprI659IU6Qt8ojbPzp3cbMIy0MChSPA/l841lHlRBtGRZbpkgAJkAAJkAAJ+BGIVKD/a/afeRXkfgJf5BWnf3Tu4mQNloUECkuA/b+wvKPIjTaMgirTJAESIAESIAESCCIQmUD/z7/vFUycW8Jd5BmXf3Tu4mIJloMECk+A/b/wzPOdI22Yb6JMjwRIgARIgARIIAyByAT6P76ZLrhAF3nG5R+du0xLjHdtwsLNJzGeeYtXbAKzGGivR82+YczY1/gmaQTY/5Nmsczy0oaZTHiFBEiABEiABEggegKRCfTbt24UXKCLPOPyj86d2xIzH7ZgYXkKZeVVaOiZct/kJ4fA8FtYYnJa1zXhXOe7RBFg/0+UuZSFpQ2VWHiRBEiABEiABEggYgKRCXRr2XmhXyPmFTr5UM7d3UE0PSZEawoVe/sDZkxncW5vlfHdssfaMHA3dFGK/8VrJ7FuUVqcrzt6JaCeE+jcbNazfBM6v4yi+MNoNURwCq1DTvozQ29heXUKFUt3oOuacz3Xd7mmJ1YaVBjlq0Pr0Gyu2fO5IhII1f8zyjeFzgbRT9Ttfnq0G61b65Ey+pJop2vR2NGP8dsZCTkX7k3hXMcO1NcuTv92lC/Gkq1t6BzyHyTLKS8n15J4l5sNS6LqrAQJkAAJkAAJkEARCVCgRwQ/rHM309dii7H2Cz6FueDMrDaeuePzxbjdmjBFRwoVIZa33zhliVO9UJl7DVUCfQpdW9ODJWLAZOH+4Tlm45/ezO07mL59BzPKsAlimXtdWlDVJmwwZo7USuXxsP3fXd9BNBkDM16BPouBffXm74TTRkU7Nf6qt6kHlK51o6Fa8X3juSrNNooc83JXpCQ+5WbDkqg6K0ECJEACJEACJFBEAgUT6FfPtGHNkkrDoby/fhcOfjLmWQI/hIMNlah+uReTU2M49aL47s9x9LL6aLaRt3+CsvIfoOmsO50isnRlHd65s2bNUihr0O3PDvMdV/ax+WAPQCzagZ5bAcX6stucabdEhVeoBDwf+rZKoAO5znjrstWnp87flY60umL50SuuW/wQfwLh+79Ulwtv4XsKge4MWlVh+b5BjBurZ2YxfeEkGmvNvlL7Fs5LSWF2GK32vT3ovDCVXrlydwLn9q01xX4VvIN9OeUl51tC73OyYQnVn1UhARIgARIgARIoDoHCCPRPD2BZeQr3P7MLLa8242d1lShL7cKpCUd8jxxaj7LH29BvnZVuPvPdV/s8Qn4C0xO9aFqaQtkzHbhkfd98LQ7GzFyzcu4CZsdtkVteB99Z9sxiFPnKBA49lRYQwSJzCl3m0vaK2jqlUMlfZUII5PxlpkgpXP7TZ3akhdSiFpzjSncFx/heyqr/G9VwVpq4l7iPot3cBrOkXRE48FYvGs3tI7LYnu7Zlp5dX7QJnYrtGufftFZoyMI+t7zia4W5lSx7G84tPz5NAiRAAiRAAiRAAoJAYQT62WaUla/HwQumIPd+NsT4ehwccQT7tM8s+qUj65Wz52K/e1z+ZefciSXNP0w71GJ/uSzGpJmw4H3qcam9WQ57RnAbugJmz+2ZOyEoBk+iXjGTmL/ahRPI+cvPm1LY/B3BJIsvb2r8HD8C2fT/mWuDaH3airsgBrSklSN2H9qDHk3cifGj9enfjp29SJ9jcQc9O9MDYzWHNasvZvux3ehjP3QG/XLKK37s81WibGyYrzyZDgmQAAmQAAmQAAkUX6CL2fDHK7HmyFDmTLlqFt1n9jy5Ah2APROWgjzbPH50rTkTplgiLgJAHWtBQzYBoG4O4o2da+1AUwtrN6CxYxA37jnL6Ou7pABSX0pi+fIoDu1ca0ZjdwdYU3UlWzgEBcCzl7ZXwYhcLuc5lyBx1/rRbte1CqlV29DaI4LUaQTyUFuadXkbBlQVmnN6Tr72/mFDJKXFlIu7mX9ohqry8lrRCIQTd7r24Ah0MXBltJWGk9CeUZHRbofRagaSk4MgumFI/f1EemAzt7zcqZbSp3A2LKUasy4kQAIkQAIkQAJxIFAYga5d4j6G3pefwIKGDox4lqqno79n7kW/euzn2tnzRAt0ABliXCPajYZzV9pjKom8tPBTB4CaGdqHGtNx9wrEilXbsG61QijaYrkKFZ5n9c6/KKFYsp5Oz3/2V1rabgWRs/N0hEq2nWW6r8U8rixdBrm+C7duM2foPYMMGULHyTU/6Q3jjdX1qFldZw9yLKwVn9N/289IAyNW1tas5qJ97j3G1n2+xpJAOHFnCvTqOtRsbcGhE/syVo7c6DIF+npdfAoAdru1+osj/JsGdXgcgV7Wng6ImFteuvSTfz2cDZNfT9aABEiABEiABEggXgQKI9CnJqAKEjd5phnfTTXihCYQnCHSXbPofWjR7D1PC/qkLnG3GsUo2s3AThV7u9FjLXuv3Yfz8rJ3Q/yaS2JrRQAoM6r7vTs437XHOUf7lCT47vZjuymwK1a1oeuy+czsFM4f22YLRiFkXTO5tlgWQrcOjV2jmFZGHrfqYL1aIqEeh8ata5mvrqXt1l5ZO09LcGQ+53vFfj6Fiqf34dw1E54rQFZauLsGGWyh45lBz3d6uhl8VaXspcg5slClyWuRE8hJ3NntTLL18D4zoFuIJe7l1oCTMzgWvMQ9HZzSmJ3PKa/IURYtg5xsWLTSMmMSIAESIAESIIFSIVAwgW4JaPv1iy5sSf0A28+4o7Db9+0ZdWcW/fev+8+ei2fj8i9X584JCGfN/FZhe59LnWPmQ/NoNk0AqPET5qybFFxs/Ji5VF5zhrr9jI9Al5feB3K+3YtGY2bfI3blB71L2617KqFi3Qt8ncW5VmvwQg6AZT04i4FXzP3+tqAx7ykFupTeU53IHGvINj2RlzV4YQkqq2yq1ys4ZKxskPYKq77Ga7EikFP/V7V7EYMiVJA494CTPRuu+Y2wg8SJPmotn88xr1iBz2NhcrJhHvNnUiRAAiRAAiRAAvOTQJEE+uc4ah6pdnVsACfebkHLqwdw4tNLmfvQhVA3Z9GNZcqKyO2yqI+LGXN37pwl30Z9LedZqtj5fWkBWmEuTZVupd/as65VaDVWr0ozaroju+xndDPo/jPhGWWwxYZOoDv1zDgf3X5Wmkk0MphCzx5nSbi1NDz9ethcAu7sv/UObNhlHO9EjbktIHgGPd/piVJkI9CdpciustqV4Zs4Esip/2vavb3KpFw+Zg3uY9a87VkKLllmrLIxj1mblY9ZMwcBpd+YnPKKowHyUKacbJiHfJkECZAACZAACZDA/CZQFIE+cmQ9FjzejN5P3sGalDVTLF4rsebPnytE+hhOvCDuZ557LovzUphBN5rj5cOmgKzHG5e9DdQRbPK+at379HL1MILQSVe9xN0rlr3l8ny2xYZaoNtHiImI1dbSdisJ+1lvnk4ZM+tr5qN91kpcvGp4qGbQ852eUQxN/nIR7fdOnSnQbSixf5OTuNO2tVmMerahOO1/MRq6OtFkCHRPf7nVj6ZVcnR457e2YtU+dHZsSAegcw305ZhX7C2SfQFzsmH22fAJEiABEiABEiABEnARKLxAH+nAivIn0PLBBIzj0lK7cGJMHK92CSderETZygPKgHG9LwvnUjqqzV4CLx/Nlvwl7oZ1tI66uOsItu9tbkH7/n2+f4eGxF7zMILQSTcvAh2DpmjYgZ7brjbnqoMjNBzxoLzmEhHe9KTPvuys72l4xFKgWzP4GzIHMqzq8DV2BHISd0Ft9+YwOjta0GAEFdyG7R0nMXBTRJe0VoS04Jx7NwyAOxg/24mmnRuMYIT1O9tw6OwVTGMW5/am+1yNalVNTnnFzgxzKlBONpxTjnyYBEiABEiABEiABAp1Drotpgfwh/oUlv1xwJglNwS6tGQ9fb55M3rt7zvimwLdaa6BS9ydr5rv8rHE3TM7l5GH94J1hre1zF6+7wwGKMW4uVzXdS+sQBeDEWYwvJJY4n6zG+sMHqqBDpkp38eJQE7iTinQZzF9+47xN6MJzmjHl5CWquNu+pnp2xmKPY1pdhBNRj+pgrMyI8e84gQ+j2XJyYZ5zJ9JkQAJkAAJkAAJzE8CBZxBH0P/b9xHqhmCXJoxHzm0FmWpFvRToGcctyQ3TzlIXJfinPCZD9vSR3et2gHrvu3E5xwkLluBHjBDJ1fI+14pVLxf0n2WgrrVJj9InAgaaAxUrFYFqNMx4PViE8hJ3CnbvTXQlUK9eV65q27S6QwNPebJDADEFhKj3ej6+1EraKTcR3LLy1WeEvqQkw1LqP6sCgmQAAmQAAmQQHEIFEygT55tRnVqPQ6OOLPik927sKC8Eo8+34yW5kY8mkphwe5uTFKg+wr09BnjZqA4+cg0zOLGh/uw3JxBXtI+jBmrXUlnqmccs2YfzZZe8pqfJe6SSFBGP7cKpnhVChXF93SX7Oc9x6wpAmQ5s4fyedKeffP5Tg9WZPYUlh8eTdtodgLjX3pnO51Bju+9OaqrLa/HkEBO4s5uZ+7BMHtwzXPM4fSFk2g0j2Us8x7FaM+Qm33AaluuPlCFdfJRjGK1vHXaQzZ5xZB/PoqUkw3zkTHTIAESIAESIAESmNcECiPQv+hF0+OVeO4v3ijtYxg8sgvLHhTC8CFUb3wd/V84Al4OAMcl7p52KgJAWc65Ykn4wq3dGUeCzQy1mWekZ+73rli1DeuM47x0UdzdosFTGvXHW91oMMqW5RFhGqGizkR9dfyMdR58Zl0Xbt1mDoB4jjlT7UE3k893ek60bKd8roERka/NIUt+aiS8WkACOYk7297evjaBnl/XpWfEFX29rHoburyBFgHMXHjLHqxzbRcx0qhCzT5pAM9mk1te9uMl9CYnG5ZQ/VkVEiABEiABEiCB4hAojEBXzIjL4juf74uDMTPXOTl3Wkfdk8+9KZw71oKG2sWm816F1NM70N4zimnPV+2PNwfxxs61SJmz7AtrN6CxYxA37jn7wl1CMWxZ7AzkN9Jy863d+jLJj4j3c8rTSWzmcjdat9ZhoSlqFtZuQ6vBJosgcU5yyG96sxjtasHypemVEKJs7UZAPytDiV22KxCsJPhaNAI59X/fdi+CvR1GY4PTniuWrkXj/m6MZgRhlKotgr21b0ON2c7KyhdjydYWHPpwSvqS922OeXmTSfjnnGyY8Dqz+CRAAiRAAiRAAsUnQIEekQ3o3Jlgxzux3Jyx0wZti8gGeUl2NiDYlsjEFlZZnhXvU8CZ4X3maocqNH3oXfru8yBvxYIA+38szDCnQtCGc8LHh0mABEiABEiABHIkQIGeI7igx+jcOYTOv2kuz12kOPPc+Vo83w21ocIYYNCVfRYD7Wb9ag8jLzvF7w6j1dy+ULG334kjEE9CLJWCAPu/AkrCLtGGCTMYi0sCJEACJEACJUIgMoF+5++TxlFq+Vy+HpSWyDMu/+jcyZaYQOfm9FLusto2DPgtyZUfi8V7qezVG9D+4QTs467uTuDcvrWmgK9C4xkninbORb97BYdkVndzTokPFpEA+38R4ecpa9owTyCZDAmQAAmQAAmQQFYEIhPoM/+4XXCBLvKMyz86dx5L2EHt6tD0YR6ErCf5SD+KGe1V5gCDuZ/dHXRrMRqOXcnPTPe1k1gn4gMkcbVBpEZIVuLs/8myl6q0tKGKCq+RAAmQAAmQAAlETSAygf7f//4Xtws4iy7yEnnG5R+dO4UlrvXjUN+E4kYSLmUGziqrrkP9zsM4Zx1hladqzFzoRtdl7jvPE86iJMP+XxTsec2UNswrTiZGAiRAAiRAAiQQkkBkAl3k/+97/yqISBfiXOQVp3907uJkDZaFBApLgP2/sLyjyI02jIIq0yQBEiABEiABEggiEKlAtzKf/ecdfPP133D71o28/ok0Rdpx/EfnLo5WYZlIoDAE2P8LwznKXGjDKOkybRIgARIgARIgAR2Bggh0XealfJ3OXSlbl3UjAX8C7P/+fJJwlzZMgpVYRhIgARIgARIoPQIU6BHZlM5dRGCZLAkkgAD7fwKMFFBE2jAAEG+TAAmQAAmQAAlEQoACPRKsAJ27iMAyWRJIAAH2/wQYKaCItGEAIN4mARIgARIgARKIhAAFeiRYKdAjwspkSSARBCjuEmEm30LShr54eJMESIAESIAESCAiAhToEYGlcxcRWCZLAgkgwP6fACMFFJE2DADE2yRAAiRAAiRAApEQoECPBCtn0CPCymRJIBEEKO4SYSbfQtKGvnh4kwRIgARIgARIICICFOgRgaVzFxFYJksCCSDA/p8AIwUUkTYMAMTbJEACJEACJEACkRDISqDfu/c/4F84BsK5I6twrMiJnEqtDbD/J79NU6BH4nMwURIgARIgARIggQACWQn0G//v/4J/4RgI546swrEiJ3IqtTbA/p/8Nk2BHuA98DYJkAAJkAAJkEAkBLIS6DPfTIF/4RgI546swrEiJ3IqtTbA/p/8Nk2BHonPwURJgARIgARIgAQCCFCgRzToQAc9+Q56qYlG1qdwbZL9v3Cso2rXFOgB3gNvkwAJkAAJkAAJREKAAp0CnTP9EbWBqIQD042/+KNAj7+NgvoRBXokPgcTJQESIAESIAESCCBAgR6ROKODnnwHPciB533aWNcG2P+T3zYo0AO8B94mARIgARIgARKIhAAFOgU6Z9AjagM68cbryRdvQTakQE++jSnQI/E5mCgJkAAJkAAJkEAAAQr0iMQZHfTkO+hBIoz3aWNdG2D/T37boEAP8B54mwRIgARIgARIIBICFOgU6JxBj6gN6MQbrydfvAXZkAI9+TamQI/E52CiJEACJEACJEACAQQKKtD/eedvyOdfkJNczPt00JPvoBez/TDvZLcf9v9k20/0Pwr0AO+Bt0mABEiABEiABCIhELlA/8ftv+HO37/E9NREJH8ibZFH3AQNHfTkO+hxa1MsT3LaFPt/cmyl61cU6JH4HEyUBEiABEiABEgggECkAv3u1zcjEeUqsS/y0jlaxbhOBz35Dnox2g3zLI12w/6ffDtSoAd4D7xNAiRAAiRAAiQQCYHIBLpYyq4S0lFeE3nGReDQQU++gx6XtsRyJK8tsf8nz2befkaBHonPwURJgARIgARIgAQCCEQm0O/8/UbBBbrI0+tkFeszHfRCOOif1rJ08gAAIABJREFU4cjGavy087PY2L1Y7Y35hmlvor08gg3/O/r2wv4fxh7x/g4FeoD3wNskQAIkQAIkQAKREIhMoH/91fWCC3SRZ1yECh30qJ3v6zjdXI2y8hTKHtiE42NR58f049K3ci3H1Xc34T7RXspr8dIH0f5WsP8nv79QoEficzBREiABEiABEiCBAAKRCfQol7L7pZ2r857v57Jx0K92PpsWmuWV2NUbXjhM9+42BUcKP+68FJvBCRfLD/aadduLvjweZ3ax89l03R94Fm+OhGfmKlseyzPf0rXb7Po/4WpojpdwZL0QyIVor314yRDjKbz0gSUWr6Pvt7XmoM6zOHLRup7/12z6v9N2xnGxez9+sb4W3zLLft8jK7Hht39Cn2YAyraD+X1jwErxPra/D6HbTv5t5HBXp02BHuA98DYJkAAJkAAJkEAkBCjQI3IQs3HQXU7288cwGapM4zj+fFrsFEbwqJ3YmW+uY/L6uPE3rSp3FAL94p/wY0OEVHJ5u4p5Aa7ZbTZRAl20YbHMvdIQ6fdt/BMuRsQqm/5vCMWbQ3jzeXNFiEJglz2wEi+9P54xCGfbQfWMdI0CXff7pb9OgR6Jz8FESYAESIAESIAEAggUTKBfPdOGNUvSjvH99btw8JMxzxL4IRxsqET1y72YnMORbEGzIoW6n42D7nayV+PNC3qn0S7/hbfxZBwc8MuWWH4WRy4ryp13gX4dp3ebAuuFd0MOZijKFZEws+1T4unbbTZxAn0KM9IAzy9PR7P6Ipv+P/PNON57Id2mxfL7Xxzuw9Wv0m12cuQYdv3Iuhfyt0G0PSH4zYGIsmV70XedfSDbvkmBHuA98DYJkAAJkAAJkEAkBAoj0D89gGXlKdz/zC60vNqMn9VVoiy1C6cmnLPRRw6tR9njbeifgzgXS9+zdcKi+n42DrotdkzBXfXaR4H1+Pi1GnPpeKGWDGsc/EILdHtgIguxUuJiOao27Jeu3WaTKNC/mcLH+8yl7qvfjmQWPZv+P/3BXlQZfb8Gu95XDBjc7MNLy8zVMmFW2Nz8CK88ZYp6ivPA31JdO6dAj8TnYKIkQAIkQAIkQAIBBAoj0M82o6x8PQ5eMAW597Mh4Nfj4Igj2P32mfvd0zlbhb6ejYNuix1rRvyB3ThtzqApy/3VGex6wFneXtQl7gUW6B/vMwcmwggVCvOcxYmy3Uk87TabUIE+c+0YNpii+JVPNINPUn2DeHjvh+//YkVICPH9yWumiA8YmBJi3ppxpzifU/unQA/wHnibBEiABEiABEggEgLFF+gTvWh6vBJrjgy5l7xbIv7scWwRM+4PrsXvPxjDpa5f4dFUCgvqfoUTCkHvdZSL9Tm8gz4FW+w8vQkbHk076xvezdxvatVl8t1NZqCr1XhyVfr7yj2mX1/C6cO7seFHj5gB1R7BY8/vxpu9qoBy7gBe0yPH8NLzVrCqSnzn/9uL43IwNluYuwcKrCBVdmAu1xL3S+h7YyuefMSc3XtoNX7xxpkslqkP4U2zvqqlyTZHa6BD+Zq5FH/y02N45YXV+I456HHfI6Jcf8VFxbLgvt+a9f3tGVw8vRc/teriEapXe9/GL59faaZZie/8aBN+efgMrn6dixh022Zm7Axel8r7rWWb8NK7H+k5inbg4l6LH7+wH6fHpLbnKX+6rY3j43d2Y8Myc2/0Q+nn+q4FPHe9D0d2b8LDD6VZfWvZ06adPfXwCuDrH+H4a1L7eOARPPnCfrx3Qd8XZi7+VbJdmvNL7w5h+htVkDiZvSOMH+sYmpOQs/ql/Bq+//fhJbPdqdq0k6bT9pV9XbCUZ9opzudsUwr0SHwOJkoCJEACJEACJBBAoDACXbvEfQy9Lz+BBQ0dGPEubTcE+lr87MVfYfurv8KyVAplzzRiy/O70PLiWtwvxNeW47jqec5xaGVnvPDvwzvobrFz+vDqtPjWLr39DG+uTgufqteO6aNiX3wXv7CWxSqE6sPb3/Us7XXEU9VTq/Gw4pmyB5529sePvYtfrlqJxyzxXy7E0Uo8Jq6tWonXB0zmtkBfjSetZbeetL+1PeRe8rFj+Knx7Fa8pxDPuQh0Oxq8p0zGQMNDm3DcE+nbFugPVNoR9I3v2gL3M7y33Vw+rUpz2Q6850kzuM06tnls4yY85lk9YQ2K3LfxbVz0rryQZ1S95XlgJTZsXJlub3b5TbvJe5izeG565G38VFe+H23CT3UDShf/pH2urLxaeXb55Ond6nZansK3nt9kBhKUo7i7fwcm39uarvvGY1lEonenobNd6P5vD3RlDhx50+572Roc6ssUn9fPOMvgKc4z+XgHg0J8pkAP8B54mwRIgARIgARIIBIChRHoUxNQBYmbPNOM76YaceKyYmm7IdBT2H4mfW/k0FqUlVv71sdw6sUUylItGXvWvU5tsT6HdtC/cQv0q0FLb11LXR3h5ppV+0ras7psB458cglGhPWvLuHjzh22qHm4rS993XBWnbSE4Ht4+5/w8TUhRq7jau/v8KQlurxCLkhg2AJdnFe+Gi/1fpbO89pHOGIL2ZDHy1lprcpy37Ak/h7+rVPn6YHfmSwq8WTbGTsw1/TlM3jJGkxY9jt8LIleW6CXp3DfU7/D6cvynuHr+LjNEue1+EXnR5g0nr2OyU/+5AyYeNIMbqNu25QZNjVnlb/6DKdfe9o+lsttUyegnogCvuvdIUwaM/iiPG9jgznD7R5gSNu877dWjAOfegjhLrcH0e7MFSDpMqrbnchP115dTEXd2labAyG1eGlAYm23O9MOF817N+Vn0oLWXs3hFWUX3sZjxuBDfo8AFPYM3f+tNl0eXAZ7AEpmLur01Ud45UemeJcGU4yVFd2f5UWsBrfRcAMXSUqHAj0Sn4OJkgAJkAAJkAAJBBAomEDP2Df+RRe2pH6A7We80dzlfeopNJ1Nf750ZD3KypvRa86Y9xqzSc5nK/24OIChHXSvQP/mOk43p5eA39d8RhLQaQe477fm8nBjD7Yj3GTB4yyBV5/17Mwab8JxQ4SLtJ20yhSz99OnrTPXn8Vx+UxmWyhpZgBtAVKJzCW8Q/ZqgPvaFLOCHkFlz3i+fCa86JCW/bqP1XJWIsii3W4/N89glyk2nzzsiBxboIs4ATc9osQeXNEc/yYNFPhtYbDLYNdfsk25xqbvPJueDS6XbGoH1NMEH7OjmXuEtv1cJX7xnmJ5uea5i9bqjwe24j27XTmMLtpldAt0+zkx8+tl+s119L1sDhbY7dLpI2XLXsPHNicrL+mZcv0M+sxXf8UvDUGrXpGRaQcr/eDX0P3f7h9zEOjfTGH6/b14+JFn8VLnX3G696848tpWe6XFw83ZbCMJrttcuCTpWQr0AO+Bt0mABEiABEiABCIhUCSB/jmOmkeqXR0bwIm3W9Dy6gGc+PSSsw/dnEGffwJ9CjP2LLkktoyZMis4nDXj7Ag3R6BfwvGN6dm0x97U7a39CK+Y4vOn/9vajy6l9Y4jSB2H+gx2mbNzrhnJ0AJdLUAuvvO0eol1huiSVhr8NljMp8vtnHltHDUliz97ubxmYOGbKVzsMJd/S0ugbYG++68ZgydX/7cpklftx7Ci/KJMdvR9K82B/fa2AGt7gPX6y/cybVOmyNeoqy02U7aodsqjW3Hg7MOWZ8Jze05qd7o93VIZVe3VueYRifZMtzU4FGLftv2Mj0C396nr24DT/j1l0tjX+n5ogT7wO3OFgLp/WOmJV+0Muq4s9oCQZqBF9xyvGwOAFOiR+BxMlARIgARIgARIIIBAUQT6yJH1WPB4M3o/eQdrxN5ye1lmJdb8+fO0SJ/PAv0bZ3ZXnmm1Z8YftWYNJVHdaYk5JzjWrvf1oiJzP6sqLfl5J918CvRsRIf93VAC/Tr6fmsuN39AMetsz1zK7U/33hFPtkBXlMG+5zfD//5es72bafqUwxGsQbYRdnK+Y61GsMujKKsl/Gym0rLp3J7TtA+X2HPK6NTNec75HdDZwRTbQYNCRp5Ouq726iqP9Z0iCnS7Lk/jSEBsgjB2sexqvdqDTJJ9rXt8lX/fMt9ToAd4D7xNAiRAAiRAAiQQCYHCC/SRDqwofwItH0zAWLae2oUTY2IZ+yWceLESZSsPpAPGzWuBPgVbjNvLeh3R7iy59hc8emEyhSQK9BlL3L4QFFTuOj7eJ+1d/kDau2wJNFsYr8YvXvsdXvH9cwLq+Ykkv3u2GLLqEGLPsf2MJL4dYesVFE5bSKpAf/KFIDv8Du9dmMKMLWr9hLUlvn1m0O1VFM4AjMPcyze7z6Fn0MUsvhnfQbmdwGqv34SI4m5/Vyqr3c7zX8d8sYprOhTokfgcTJQESIAESIAESCCAQIEF+gD+UJ/Csj8OGLPkhkB/pgOXzH3lrn3m81ygz9hnndfAOKdZuezdEWWOcJOWGmuXuA/hdTOatnKJuz0bLzn69nJgj+AJEksBAkE1g6t12C0GD/xOse/YKauzx16zF1wIGVuc+Yk8J02rTH4i3Fkarl/iPvxm5rJ5K239q2PnebnEPUN4OqI2M66BabMwS9yt5eX2ipRMe+tt4v/d8AJd2k/vN8tttf1y6Rx0+9punJYCGcpltuM2ZBtYMYO5f33lPEvlPQV6gPfA2yRAAiRAAiRAApEQKKBAH0P/b9xHqhmC3Joxn5qAEandisw+3wW6tF/5vuZ38Z4ycJwj3ByBLs2+q5Z2i73Vnc+a+17lPe7qtBxnWzMjWUiBbu9hXukc9+YREtMf7HWi1EsR2516WELDWZHgjnxu3R/CkefNY+Nec/a8+wn0GQaJSy/fzzlInDtivmWzi+9sSu/T/9Fr6DPsLYnaOQSJs5d/6/b1e9qWVZ4wr+EFejrmRPpYQ92A0mf2cYplRnBIs43ag3gp/FgZN0IKwuizzSFMfebjdyjQI/E5mCgJkAAJkAAJkEAAgYIJ9MmzzahOrcfBETNK+9QEJrt3YUF5JR59vhktzY14NJXCgt3dmBQz6hTomLGjaVt7cs3ZdFs4aET1HI9Zk8W+45hrBLotmivxSyvi97UhXLSieOdzBv2bcbz3QpqFs8zfEtRTmLGDYqXwcPNfMWlzkr4jXXOOWavGhjf67GPWZuQj4DyDHL4C/Zu4HbMmeJlR/zOOWZOOfRMxIFyzt2L/vuqYtSn3cXHe53THrH097jrez++YtW89vx991tF1ruc84tUeGPIcs+Y6mi3dVtRbPZwl4/5Ly9Vtx+kX6vtZCXRXu3G3xemL0pF/8uy52Y7Fqo37jBgenucun8Er66vNAZNncfyyupxB9ZjP9ynQA7wH3iYBEiABEiABEoiEQGEE+he9aHq8Es/9RYrSbixrH8PgkV1Y9qBwpB9C9cbX0f/FfD9mTXakx3H8eUucp5B5/JlGoAvn/eK7zrnbdhA+J62Htzv7qtNOuE9ahhjQCHSXuHDSt0VRXgW6tDpAsSzZFs+K+soByJwBiOsY7rAEjlN2+7sPrMRLnv3rdh7aGcnP8J59vrsizWU78F5AMLBMUeTY5rGNm+zjs+xymvV1HyNntiPpmDnv98XZ6Bs2mkvuXQJ9CjM3P8Ir1lnwXp4+z01/8hqeNPdUe/O770eb8FNza4Vjg3Q5p0fexk81z5WVV+KxNuf8eovPxfd22KslvHl96/lN+LFZbrstyoMzH+xFlXFfXkUi9725vc9OoIu8PsPx501B7eUtPou2+L7iyDtxDF3bSlOkK9qbog1b/Pjqb2MK9Eh8DiZKAiRAAiRAAiQQQKAwAt3cY26dVR7la1yczmwcdL992NO91vnjKcgR3dP1dISbV/AY97++hNOHd2PDMmsm7RE89vxuvNlrRXyXHdSAtHR70A3Rcwl9r23Cww8JgVCJ7zy1FcdFMC9xL88C3dmbn8nDFs8qgSNd87Ka/PQYXnlhNb5jCcSHarFh99s4LZ/3boo7Ow+tQE/X+2rv2/jl87X4lpFvJb7zo0345eEzuPq1zDzse49txs7g9ReeNnmn8K1lm/DSux/pVwyIdvDGVjz5iDmb/lAtfvzCfqN+fm1PRIbvk5974BE8Gea5a6J8Ds/7HlmNX7wh6u6phySYjbZy/SMcf00qZ3k1Hta21zS76ZFjeMnmLLPQDSiJ55ztDfc1n8k4Li/dt8LaRv29bPq/nN/V3v34xXqr3aRw3yMrseG3f0Kfoi3Kz01+IjistNtw+rlj+NhayeJlzc/p3ycfDhToAd4Db5MACZAACZAACURCgALdx0GTHeBs3+fqoGebz3z8/sXDq82lu7txWj7bPCJbFp9xgLAt2Xqrxe9c7eEsC5cCruWZIft/NLabq+2zeZ4CPRKfg4mSAAmQAAmQAAkEEKBAz7NjbjmAdNCjdNA/wivL0st5lcu6I7KpZdvCv1Kg5425FKfgyY6hwFnUXPNl/4+y/xcmbQr0AO+Bt0mABEiABEiABCIhEJlA//qr68ZRalEuZ/emLfLM1aHO93N00CN2oiWh9fBvz+iXd5eEWKdAz0v/vPZX7CrQwA77f8T9vwD9mgI9Ep+DiZIACZAACZAACQQQiEygfzN9o+ACXeSZF0c+D84fHfToHfTJ07vTQcKW7cbpkt5rS4Gej35tH8G3bC/6It4awf4fff/PR5vwS4MCPcB74G0SIAESIAESIIFICEQm0IXjU8hZ9DjNnou600EvjIN+8fTbOJ11VPTClM3P+c/uHgV6drz09r14+k/oK8BgDvu/3gb5smXU6VCgR+JzMFESIAESIAESIIEAApEK9H/c/ltBRLoQ5yKvqB22bNKng558Bz0be0f93enr45gUf1+Ra9Ss85E++3/y2ykFeoD3wNskQAIkQAIkQAKREIhUoFuO7jfTk7h960tDrAsxna8/kaZI28onTq900JPvoMepPbEsyWpP7P/Jspeqf1GgR+JzMFESIAESIAESIIEAAgUR6Crnp9Sv0UFPvoNe6m2U9YuujbL/R8e2UO2WAj3Ae+BtEiABEiABEiCBSAhQoOchIJzKYaSDnnwHXWVXXqNdw7QB9v/ktxMK9Eh8DiZKAiRAAiRAAiQQQIACnQI9llsEwoggfif5IqhUbUiBnvy2SYEe4D3wNgmQAAmQAAmQQCQEKNAp0CnQI2oDpSo+Wa9g8UmBHswo7u2IAj0Sn4OJkgAJkAAJkAAJBBCgQI9InNFBT76DHncBwfLFt42x/8fXNmH7DQV6gPfA2yRAAiRAAiRAApEQoECnQOcMekRtIKwQ4PeSL+a8NqRAT75NKdAj8TmYKAmQAAmQAAmQQAABCvSIxBkd9OQ76F7Rxc+0adg2wP6f/LZCgR7gPfA2CZAACZAACZBAJASyEuj/vDMF/oVjIJw7sgrHipzIqdTaAPt/8ts0BXokPgcTJQESIAESIAESCCCQlUCfnBgD/8IxEM4dWYVjRU7kVGptgP0/+W2aAj3Ae+BtEiABEiABEiCBSAhkJdAjKUGJJkrnrkQNy2qRQAgC7P8hIMX8K7RhzA3E4pEACZAACZBAiRKgQI/IsHTuIgLLZEkgAQTY/xNgpIAi0oYBgHibBEiABEiABEggEgIU6JFgBejcRQSWyZJAAgiw/yfASAFFpA0DAPE2CZAACZAACZBAJAQo0CPBSoEeEVYmSwKJIEBxlwgz+RaSNvTFw5skQAIkQAIkQAIREaBAjwgsnbuIwDJZEkgAAfb/BBgpoIi0YQAg3iYBEiABEiABEoiEAAV6JFg5gx4RViZLAokgQHGXCDP5FpI29MXDmyRAAiRAAiRAAhERoECPCCydu4jAMlkSSAAB9v8EGCmgiLRhACDeJgESIAESIAESiIRAQQX6f/7zb+TzLxIieUqUzl2eQDIZEkggAfb/BBrNU2Ta0AOEH0mABEiABEiABApCIHKB/u97/8I/7tzC119dx/TURF7/RJoibZFH3P7RuYubRVgeEigcAfb/wrGOKifaMCqyTJcESIAESIAESMCPQKQC/V+z/8yrIPcT+CKvOP2jcxcna7AsJFBYAuz/heUdRW60YRRUmSYJkAAJkAAJkEAQgcgE+n/+fa9g4twS7iLPuPyjcxcXS7AcJFB4Auz/hWee7xxpw3wTZXokQAIkQAIkQAJhCEQm0P/xzXTBBbrIMy7/6NwB412bsHDzSYzHxSgsR4wJTKBz81I0nJqIcRnDF439PzyruH6TNoyrZVguEiABEiABEihtApEJ9Nu3bhRcoIs84/Jvvjt3Mx+2YGF5CmXlVWjomYqLWViOmBK40bMNFUZ7qUPr0GxMSxm+WPO9/4cnFd9v0obxtQ1LRgIkQAIkQAKlTCAygW4tOy/0a1yMlY1zd6NrE8oMcSIErfuvYmk9ara2ofPDK4jP+oAAytdOYt2itDhfd/QKZgK+ztv5JWC3p4aTCD9kNYXOhnTbq++KekBFldcsBtrr0u1/0SZ0Xssvk0Knlk3/d8p2B+NnD6Oxoc4c3EpB9P+G9pMYuOl8S/fOsnv09tOVoLSu52bD0mLA2pAACZAACZAACRSeAAV6RMyzce4sx9orzr2fK1btQefluM8uTthCr4LL2yNqXf7J2u0pUQJd1Eksc68yRHrS2042/d+w5t0rOLR1ccYAnf0bsKgerYN3fA0/8EqhBlh8i1EyN7O2YcnUnBUhARIgARIgARIoJoGCCfSrZ9qwZkml4YDeX78LBz8Z8yyBH8LBhkpUv9yLyaDj2M42G+msOPK5J4347F/NxrnzE1Qztycw0NWG+mprZj3eS4Bn+lrSS5UX7UDPrWI27fmbt1970lNRzWrrvz23Oz55XTuJenNrxPa+uA9G6Slk0/+BO+jZmR6YKCuvQ+OxYdwwqz59uRtNq6x7a3FIG9BhFO2PUaDrLZL9nexsmH36fIIESIAESIAESIAEVAQKI9A/PYBl5Snc/8wutLzajJ/VVaIstQunJpxz0UcOrUfZ423oDxLn4v48Eui20e6Oov1p01GP7RLgCRx6Ki0Slh+9YhedbwpLINECHcD5N82l7k91JjbAYDbibmaoDd8zBiV+iKZBxaDE3WG01poDdFu7lVtdxk8422S4xD0//S0bG+YnR6ZCAiRAAiRAAiRAAkBhBLohqNfj4AVTkHs/GwJ+PQ6OOILdd+/6fBToorVKjnrFzl6lo17URn3hLVNobEMXZ8+LZoqkC3Tc6kaDKVjbLxQN45wyDi/uZnFur7/4Ngpi9y3PLPrdCZzbt9YMsMcZ9DkZzfNweBt6HuRHEiABEiABEiABEpgDgeIL9IleND1eiTVHhjKWqwuRfvX9A3iu/iFjSfuCJT/BlmND83MG3TSyiI6ejna9CZ1feix/bwrnOnZg+VJzpr26DvU7D+PcTUAp2r60lhMr0hJJD7WZe2LbMODJSvVx/Gh9+vt7+zMDw9l5mWLEEwzP2mubMft3exRd+6U6LVqK5TsPo2c8cz/uQLuZdvsgxvvasM7i4NmLfePDTmzfWo+UGcgutWobth8bxI17qloFXfMs1745iDd2rjXTTmFh7Ta09oz6DKbcwWhPGxpqzf3Hi5YaQQG7Ru8E8L+D8ydanOdMWw/c0tjaqsbtYXTu3YYl5paJhbUb0NgxiGl46mF933rNwg7WI8g1LziitSahKzHCi7thtBrtMAX/Jf1XcGi1W4Db7d3TlzL6kG0QvsmGQHgbZpMqv0sCJEACJEACJEAC/gQKI9C1S9zH0PvyE1jQ0IER1dL2D9pQbTifD2HFiy3G8vjn6r+P7bt3zZs96Jnmc/aaNp6RRKqYXbf3qnpE8KJ6NGw2xbMsVm3RnA+BPoWuzel8XeWyKmDn5Smbn7iwo8GrnlmccWa2LVgWVblmFMvsOk+g59fm8mlPvsYAQe0e9GQdPdwRtjWbt6HGFFvWgIP1WrG5E+MZq5cn0KUNDLYYDVutZcueARIRUMwMpmalb7/qbA1g5nKnGV0/k2fFqm1Y5xGAlumQpR3EcznnZWY6fWZHerBnc3cWkejtEhf9TWhxZ/cLTR+UamIFgStrHzauptv7YixZLQaYTqJ9fdquFOgStDm8DW3DOeTBR0mABEiABEiABEjAS6AwAl3MhCuCxE2eacZ3U404cVm1tH0Mp14UDucTaDorB5QbwtGN6Rn1+RAkzmswSLOL33tz1LwtZhyt/en1aOq5gmljNngW0xc60WAHmEvBEasAgsRBVjPow2g1RG+9TyCrzNrIkbvLatswcNeqkrPvtuLpfTj3paluZ+UlvXVoHXZUry3Qy1NwPWMkOYvz+yxxXofGrlFMG48KRifRaO3xrd2H806SqgJ7rjkC3RDJtXvQecEcOBFl3b/BPjJryb5h18qC8aNrzRUKi9HQ4QQGm7nWLwUGE31AFujiOLIfms/51EPYwh6YADA7jFYziFiZUcapdFlmp3C+aw+WSAMWLoEnnjPZuJj62CHnvGSy452oMcok113+QrzfhxZ3WfQx5SoYG4PTDl32s+/zTbYEQtsw24T5fRIgARIgARIgARLwIVAwgZ6xp/yLLmxJ/QDbz8jiWxbqn+PgMymULc0MHDd5aj7PoAO2EDVn0jDeieWGmNEEmbIjY3tEWz4F+u1eNGYtqPRnX48fM8WrLNrthjyLgVdMkSoFErO5LGrBOUvoW8/Y+5qrsK5LEe1fmiVu6JFWJljPa18dYVRWrj6/2wngJe3Nnx1EkznbXn9CUZ67g2iyBLUs0G1bV0G5UkFja5unJrq+U8YUZIFnP5eFHexnsszLhXi2H9uN9rQDPbdddxLxIbS4o0CPrT1D2zC2NWDBSIAESIAESIAEkkigSAL9cxw1j1S7OjaAE2+L5esHcOLTS9I+9F40CQf9mQ5c8i5/n69B4owW5uzPtWbQb5wyl0Kv1kW9dp5xzarmU6DbaYWf8Rzv2mQuRfceHecsl5fFoquD2TOsm9B1M33HFuiKPfAOo8Ow1h240hPRw/ebot8HqlB1AAAgAElEQVReVj2MN1bXo0b1t6fXXHotCXRFvmmTWWIz5Yjq4X1m3VtwTjNjb+/plwS6U49sbO3w1O7ptgWxLNCd58LbwXkmu7y81rBWZAQv/fY+GYfPocWd3Q6C+w1n0Atr2dA2LGyxmBsJkAAJkAAJkECJEyiKQB85sh4LHm9G7yfvYE1K3g9biTV/ts42p0BXt73MPei2MLVm1BUPKp17W1RrRFAWs3vOcvlgoSGKJ46WSi+rVs1oW+JMbhv6961D6Qr7cbDvvTKooGNeGvQGxfMph7183BHoWhErBWCr2JfeP6y0h7dkCv52PbKytVMPi5U3K0hldOrhPGfvcTdmtdW2SKftPJNdXt4SWelo2qb36zH7HFrc2X1wAzoD4h/42z5MO4wZpJgXJ7QNY14PFo8ESIAESIAESCBZBAov0Ec6sKL8CbR8MIFLR9Yb56GfGBNL2y/hxIuVKFt5wAwYR4GuakqqKO7+jns6FaUgtMWBRgQpBKKqTOlrg+kVD+XBS5JnLryF5eby7iXt7n3Z6bQscZbC8p370L7f/69nPP2UHwe/e3adMgS6fcfnTRhh5HwnqQI9vB0c281JoN/sxrqst0z4mKnAt8KLOyeKu3LLgl3uzCju9i3jjdPGnAEW9zf4KTsC4W2YXbr8NgmQAAmQAAmQAAn4ESiwQB/AH+pTWPbHAWMpuyHQpSXsxufyZvQaS9q5Bz3DcJpz0HNb9iwHidPM3mUlWK2Z/Sq0pieJM4pvXJD2eldsPglTW3u+6yyTzkZs+Ilwh5F+ifvoYTPSvb3E3VMs5UdHGJXNxyXuGUwc281pibu19Puxt3A+I4/4Xwgv7mZxrtUM8GivylDUT3cOuv1Vpx1m02fsx/kmg0B4G2Y8ygskQAIkQAIkQAIkkDOBAgr0MfT/xn2kmiHI7RnzCYwcWouyVAv6DYGuj+J+sKFy/h2zdncU7U9bkdo9wcjswGFZBomDM3u3POO8aSkyvLQHWt/SnH3uWmEmDTC4IrYrErUDjWmiqo+f2JbeG77qLfuMdj+BDgaJS0d+zzJwWy52sJ/JMi+5Gdj773WDHvKXY/g+K3F34S2f7R6ichPobDC3FWztxrSyvhToSixzuJiVDeeQDx8lARIgARIgARIgAZlAwQT65NlmVKfW4+CIE6l9snsXFpRX4tHnm9HS3IhHUyks2N2NSSsonOIc9J/VPTS/zkG/O4GBrjbU20eleQOqCXPeQc9OS7x7j1mTjhATS4Zds3TS7F15nXM8m+sILSEMwu0rt8+uliKrO41tAp3W2d21LTh3y7mjfCcd77Vw62EMWMes3bsjHQvm3r/uK9ARv2PWzr9pHfvmPWZtEK3WYEzGMm/dMWtwHxfntbXumDUXz7QIdM3A5mAH7TFrQXnZDcFZzu2/7Nt+IHZvshN3ctv0awtrfY4wpEDPdyPIzob5zp3pkQAJkAAJkAAJzFcChRHoX/Si6fFKPPcXOUq7EOpjGDyyC8seFMLgIVRvfB39XzgCXhzNdvX9A3iuPn3uedmDP8GWIwMQYl8ErSq5c9ANMWbOlCneV6zag87LmpDf8uy099lF9WjYbC7fdgl0ALd60WiLfznvKix/2jqnO5xAd2apf4j2C54uZe9nl/NQvJfKN3O5E+vMveqZQcqqUOM5V9xfoIvyTKDn15YoVuRduwc9AYG6PLWCHFytZvM21GjKq17OLw1aeG1WvhgNW83o/N4BEnk1hfc5H1vLe/+9PCtWbcO61WkmLoEuAvplaQfBKNe8jGeH2vA9o17SsXSZ4GN9JXtxN4GurYvN8+0VbXNRPVoH/Y7/o0DPd4PI3ob5LgHTIwESIAESIAESmI8ECiPQrRnxArzGxYjZOHd2ADev2BKfq+tQs7UFh85e0SxtlWp8bwrnOnZg+VJzNr26DvU7D+PcTcDOQxLA9pO3BvHGzrVYaORfhdTTO/DGh1OALapDCnRIM/Lepbh2WgrxIdfbW77bo+jaL9WpfDGWCB6ifJ5/wQI9/cCNDzuxfWudU99V27D92CBu3PMkGOqjRxjdFCw3YIk56LGwdhtae0Z9bHcHoz1taKg1xdmipajZ2oau0TsB/KcwINt60VIsz8LWKXMgoWLpWjR2iLp76uGtexZ2sB8121V2eU3g0FPpNlLROogZO7Fkvcmm/8s1u/HhYTQ2WG0zhYql9WhoP4kB8yhB+bvu9wH2c3+Zn0IQyNWGIZLmV0iABEiABEiABEhAS4ACXYtmbjfi79zNYvr2HeNvRiNM7SXr2vPVFYzs/fBV2N6nme1XPJbcSxRG+bSdCOZXYQzY+C3nzmeO0aQV//4fTb1LKVXasJSsybqQAAmQAAmQQHIIUKBHZKv4O3dW1PUUMgPECShOYKrv7R/NipK9t3qRJ5hdVqkk5csU6HmzlBThX90m85ZT5AnFv/9HjiDxGdCGiTchK0ACJEACJEACiSQQmUC/8/dJ4yg1sY+8UH8iz7j8S4Jz58xW1qGxaxTT1oT3rVF0Wnu1F21C15fZUpX2Vte2YeB2ts8n6fsU6Hmx1q1+NNWaS9u1x+/lJaeCJJKE/l8QEAnOhDZMsPFYdBIgARIgARJIMIHIBPrMP24XTJhbAwAiz7j8S4ZzN4uBffXmkmLV3vA6NPVl7vUOxdgWXHVo+tAvuFWo1GL8JQr0fBhnZqgtfdSYGNC5m48Ui5tGMvp/cRnFPXfaMO4WYvlIgARIgARIoDQJRCbQ//vf/+J2AWfRRV4iz7j8S5JzN32hG61b62EF8xKB6Rr2dhrB5ebE81o/DvVNzCmJ+D9MgZ4vG433ncRA0PF7+cos4nSS1P8jRpHY5GnDxJqOBScBEiABEiCBRBOITKALKv++96+CiHQhzkVecfpH5y5O1oi2LDNmsD17i0C02TH1BBBg/0+AkQKKSBsGAOJtEiABEiABEiCBSAhEKtCtEs/+8w6++fpvuH3rRl7/RJoi7Tj+o3MXR6uwTCRQGALs/4XhHGUutGGUdJk2CZAACZAACZCAjkBBBLou81K+TueulK3LupGAPwH2f38+SbhLGybBSiwjCZAACZAACZQeAQr0iGxK5y4isEyWBBJAgP0/AUYKKCJtGACIt0mABEiABEiABCIhQIEeCVaAzl1EYJksCSSAAPt/AowUUETaMAAQb5MACZAACZAACURCgAI9EqwU6BFhZbIkkAgCFHeJMJNvIWlDXzy8SQIkQAIkQAIkEBEBCvSIwNK5iwgskyWBBBBg/0+AkQKKSBsGAOJtEiABEiABEiCBSAhQoEeClTPoEWFlsiSQCAIUd4kwk28haUNfPLxJAiRAAiRAAiQQEQEK9IjA0rmLCCyTJYEEEGD/T4CRAopIGwYA4m0SIAESIAESIIFICGQl0O/d+x/wLxwD4dyRVThW5EROpdYG2P+T36Yp0CPxOZgoCZAACZAACZBAAIGsBPqN//d/wb9wDIRzR1bhWJETOZVaG2D/T36bpkAP8B54mwRIgARIgARIIBICWQn0mW+mwL9wDIRzR1bhWJETOZVaG2D/T36bpkCPxOdgoiRAAiRAAiRAAgEEKNAjGnSgg558B73URCPrU7g2yf5fONZRtWsK9ADvgbdJgARIgARIgAQiIUCBToHOmf6I2kBUwoHpxl/8UaDH30ZB/YgCPRKfg4mSAAmQAAmQAAkEEKBAj0ic0UFPvoMe5MDzPm2sawPs/8lvGxToAd4Db5MACZAACZAACURCgAKdAp0z6BG1AZ144/Xki7cgG1KgJ9/GFOiR+BxMlARIgARIgARIIIAABXpE4owOevId9CARxvu0sa4NsP8nv21QoAd4D7xNAiRAAiRAAiQQCQEKdAp0zqBH1AZ04o3Xky/egmxIgZ58G1OgR+JzMFESIAESIAESIIEAAgUV6P+88zfk8y/ISS7mfTroyXfQi9l+mHey2w/7f7LtJ/ofBXqA98DbJEACJEACJEACkRCIXKD/4/bfcOfvX2J6aiKSP5G2yCNugoYOevId9Li1KZYnOW2K/T85ttL1Kwr0SHwOJkoCJEACJEACJBBAIFKBfvfrm5GIcpXYF3npHK1iXKeDnnwHvRjthnmWRrth/0++HSnQA7wH3iYBEiABEiABEoiEQGQCXSxlVwnpKK+JPOMicOigJ99Bj0tbYjmS15bY/5NnM28/o0CPxOdgoiRAAiRAAiRAAgEEIhPod/5+o+ACXeTpdbKK9ZkOepCD/hmObKzGTzs/i43NitVWmG9QWwl3f/qDvXjsR79D381w34+SO/t/8W0wV/tSoAd4D7xNAiRAAiRAAiQQCYHIBPrXX10vuEAXec7VKcvX83TQ/Rz06zjdXI2y8hTKHtiE42N+3+W9fLXJkk7n6z68sixltKn7Nv4JF4scmZ/9P/n9lgI9Ep+DiZIACZAACZAACQQQiEygR7mU3S/tuIiQbBz0q53PpsXq+j/hqq+wuIQj69Mi5Medl2IzGJEt84udz+I+Q5w/izdHPIMq1z/C8de24sfLLAH/CB57fi+OfPD/t3euv1Fc6br/5D+ihfkU8umkiTRmNCGIjRIxZBysXAiMI5KQkZ3NbC5DTLJFJh6ZsQxmgPiAggayGTACJ1s2wwREFCLLVqIYIgzIUWyChC1ObMKxgxmTMZfMmLMzez9Hq6rWqlW3rup2V7ur/SBZ3e7qWpffepd5n1rvelfE/g4ew+r5JqOyUJ4BIuLcNnM8UtvQk3E8Au4vpXtmlEWW9q6N/aKdPZicwXHIZv4b8ydHu5d/O5L89yDbvx+F+j4Feoj3wMskQAIkQAIkQAKxEKBAj8mJz8ZBl052uKDMUrDE1LdpOciDx/CCEOepCm94uyawjNV143uW2E5VYGlLmOgawvF1FZa4TiOcZ4DAnlFRGtCmmRrLGWWRvb2LMPdFht1Uoemc6+FPARlmM/+npmH3PduT/8BuWn9PYhxTCvRYfA4WSgIkQAIkQAIkEEKgYAL9elcLXlxsiqeHVtXj8KVhVwh8Hw6vrcDC7d0YN45k+xqHXxXOZyO63Ue0fdpoiLCtn3qPbisWZy8bB332CPQxdDaYNlD+5kmMO5zr8ypEuazyLbRdGjJXQG9dRmdLtbninqrAhtMjgZED1/9srcxLYc8V9EBWkedJwgT61P0x9GxfZj6kqT40Y6Hu0ef/dOz+PHY/SYEe2ZYdf2/CH4RRoId4D7xMAiRAAiRAAiQQC4HCCPQv30NlKo2HXq1H8zuN+NWzFShL1+OjUVtgDxypQdlTLTirxDgFutfxzH5F0VtGuGMa2z1XDmG5IZ6rcfCKsx3jp+usle/X0DbovOYQXSsDRNe1Diu0vQKLKi2BRoE+CwX6BKZunMQGY5tDBeq7Z2YVPapAn47dD75vbY1JpcEQd/ffjOn/ToEei8/BQkmABEiABEiABEIIFEagGyveNTh8xRLk7t8NAV+DwwO2YJ+coED3CuVkC/QL+yzhvLHDtXo+gQstVmh6w8f+e4cv7cUCQ9zX4fSY2/m2Q9tFgrAeKVwo0GenQL8/gQt7LVvzRGq4bSee36MK9Jzs3hFVwhV079/J/IwpBXqI98DLJEACJEACJEACsRCYeYE+2o2tT1XgxbY+V8g7BbrX8QwR6HeG0Hm0AbXPL7GSsIkEaw042O2XYK0HTVYoeNM5H4f2mtwr/hrartnXe3aagqBsZxcGO7dh9RJLWIeK4T4cXGne+0ane1UzpF8iNDWgPYKRCm2fb66+R98yYPfLwdoR1j2EngN1WC77+Vg1Nhzo8jxgUPe7k309VoUX3tyF41/6hOY76vG2xb8fOqs+XDhah+WPyTHpiSzIr3cfwhsbqzDPsoF5levxxtEuXL/jakdYG41yVuARa8X6kecDytHCi8e/7MDuN6ute9IoX1KNDXs70O/z4CUwKeKtHjTJrO1+R6tdOYSlRt8a0Hnb1SetLWrc8vxZNIGuj6XfHPXavZp/1rjJXA1cQc//GFOgx+JzsFASIAESIAESIIEQAoUR6IEh7sPo3v405qxtxYAKbZer6BToXvGQwaEfPIkNlmCRTrv+umjLSdd+3GkK9PkV1r5wSxyGCfThDqw2RIXfCngE5/rcNqs+V2Z1LbRdnqnuL2wj1CFFmhKl1Vj+kvUAwiWI5m1x76GfwOSlvVguM8i7vi+S4i3fd94ZHaDqcfXJaod/P2wbKJ/vatvOKAJ9CJ2NVXYiPVc7y91iN7CNl3F6S3A5Io/AaZ+tCv2trjwBev2Prcdxxz12Xx0CVBPnZZXbAs49l/uzK9DUm8XYSxuY5ms0gR6hXS67NwX6QixaKR6EHMPuNeb8c/CZZtu9f3citLME66RAD/EeeJkESIAESIAESCAWAoUR6BOj8EsSN97ViJ+kN+HENSnK9VcKdK+jHCBYbturiY4Ea7eHcKH9LSurdRqLHFnQpynQU2mUv7QLndfcq+EBzrwUekF7yDM6+Ha/yxu7NJHrDG2XZ1/7C9uAdvnVK9sqxOP8ajR1XzbrvHEebUqUuvY3qwcFFpdBi4sjHLkCq/+srZSqenIT6OIBzKItx3DhRvS+XdgnRXUVNrSfx7ixujyG8UuHUGutxJev67CP+/Nt4xgutASVc8x+UFS5Cxe01Wux39o4Xk88rGjpwuAts92Tgx+j/nnrYYPjHnvclQC9cxltMlN/ZQM6A/suEhLOnHjNj0C3+++0ezne9nXFx8+e+VnkyBL9by4Feiw+BwslARIgARIgARIIIVAwge45u/zbU3g9/XNs6XJnc5ciXQp0a4VWX2mz3pdcFnefPuqr4Pp73SEfP7neXBG1Qrx1J1O8V+eOp9bjuBI00xTo8xvQaQksd31+v6tkWNu7snaW7fZXYfclKU68oe2y3vwJ9Ap4w/H7cLDatMnyFnvFWu159l3RHUPPTkvQPrkXF6Rg8hW/Wv/arSRgjugEW5SVZZul/EYHag0b88+GL44oM/f5L7M5+7VRK0dGLUj2xqt2bFjtSRnaL1e001i077zXBtQWhrSWqd/uq2nvmjgPsHW9HYOtK4x5scCvPjkGMb3mQ6AH2b3dRzcf23bs7/CzXFlQoId4D7xMAiRAAiRAAiQQC4EZEuhf4wPrSLXrw704cagZze+8hxNfDmn70KVA/yV+/Y64rv28/kvD8aZAF863WEU2BePSg31e4WMIEFsc2Su40xToQcncAgSPEs2RwrBtUWGLFNe56WrF2vW52JPuK2xFmT14d+UKLPX7qT8Zsmqsten9NeYDESWce9BkhbZvOBMQUaCJWhVy7Sd+NX7+/bBF2dLWoPG226qLE7FX33jIs3I/+rV69O943vu0MUo56oGFXI3v3WWtnr+F05Ef7Nh9feH98/ZDjtRreHcggLPWL8UvS5vzMNDKjHptugI90O4dbdH4tGuRGY7v+NtC1H7M5u9RoMfic7BQEiABEiABEiCBEAIzItAH2mow56lGdF96Hy+m9RXyCrz4n19bIl0KdJ6DbjvJfg65LbTrPw92xnu2W5yVWLHvyy1JnL16bLcvuP5cxJI4RsoMiU5j0c4eLbR9BKfftJPTydB22Q5VlxLQsl12n/VoBOO9/l0fUSrLFq+e8tXq7xqfI+Jk3ZfR5t4vnG09hvDyswFZR+ZXlWBM2UDm7xt99mmjKidTNMTn28yHASkzfN/DLJKItPvq3G+/DPWfl65AD7Z793jZfPSIGt1W+d7NLPrvFOgh3gMvkwAJkAAJkAAJxEKg8AJ9oBXPpZ5G87lRDLXVGOehnxgWYe1DOPF2BcpWvGcljKNA9zrXfg65LTp9hbYlhGZaoE9JwRbp2KsxXNhXrfYrL3XsndczW+sPdzK/z8TGw9lHlOrf8YhNJdCdGe/1e6buF5FAzySs3cLZh4US6JmEvhxvt0Bfc8yVrDCTYLLt3XygUoUXaqytAhG2WMgjzF54/3JAZEmmuqd3LbcV9BC7d4/NfZsPBfr0xss5V82yKNBj8TlYKAmQAAmQAAmQQAiBAgv0XvxxVRqV/9FrrJIbAv3VVgxZGdyN31NyxZwC3es0+jnkUULc+/CudcSZX4i778r7YNgxa9mtoE/Jc8zn77L3YHsEh3CMR9DTskKJ89WtfdrKueWEK0GcWZTrq+SxCvT7EULcb32MDdb+76gh7oOeUHrRfz8bsLj48rSvRQlN99icj0CPUk7/QXP/d1meQtxFFnxjv7uWELE84zYLe15sOC33wdssPP0MYZft97MX6BHs3tPG3G0h2/7Mxu9ToId4D7xMAiRAAiRAAiQQC4ECCvRhnP2D80g1Q5CrFfNRDBx5GWXpZpw1BDsFutcp9nfIc0sSZwsYP6Ez2FpthSg7V4UjrZ56hMQEpm5/jDcMgboCB68ECSX9CLAKrM5x5dOzwu3Xnkyf+YhSfSz8yld7rrNJEqeOnsucjK5MD7+fhkCf0vbB+yZ3kw9RUtX2GPmxCCsnLEmcY7uCZQtamfXdMnzdtvele+0tDpO9u6yTCfyT3RljFcneguxw+p9nJ9BztXubD1fQpz9m+hwX7ynQY/E5WCgJkAAJkAAJkEAIgYIJ9PFPG7EwXYPDAzJL+yjGz9RjTqoCT25sRHPjJjyZTmNOwxmMU6AHhOQGOOTaqmL0Y9YmMHhUinDz2Kvr4kisOyOOo9nKUnkS6PfFvnFzxXv5Ub+Q48s4vnGh9VCgChtO+30nmhPuJ6DdznfG3/1EqSbofctXSeuyOGbt/mWVET74OLc08ibQ708g0jFr+sq0L4sYj1lzZKYPsHe9H/PrcFqdTGDbx2Rng2lLetZ8bQwzjn8evhddoE/H7oP5xN2/2VA+BXqI98DLJEACJEACJEACsRAojED/thtbn6rAr/+iZ2kXQn0YF9vqUfkzIdwew8J17+Lst1LAcwXd6wRncMgHT9rnT/sc17Zoy0mfvb/n8a48f9p1z6KXqq0jt/Il0CegVvp9RJMSva526GHq5ntne7yMfJK4ZSu4fEWpLf5UWx0r2xOYvLQXy61s7t52V2D5vvPecP1L+7HU954qLH9pmSkyHfVksIFI/dRXa71bBMpf2osLepb1QBaXcVqdCe8tRzwoOj1oMzPHaQz9rXbiPw8jzz2Z+noeuyvNeh3nthsM7PsW7PU50i0SJ3fbs/s9qkBXtpST3dv95Ap6duPj93fD/RkFeiw+BwslARIgARIgARIIIVAYgW7tMfechR7D524na6Z+j+qgi/YpJ90hxPwczhCH/M4QOo82oLbSWomevwRLNzbgYHeGI5hu9eH4ztfwiCUS51WuR9PJPkyqfd5OQZxziLsQRbe7UG/VY5+PbfZTMchJqDhZqbJCeTrvU7YSKEpdbfUrf+w8ju+tw/IlVpb5x6rwwpu7cPzL4H3QkwMdaPrXJda++4VYtHEbjg+MBdhFiA1EFJ/Xuw/hjY1VmGfxNsf9PMbd94excJRTgUeeX483jnbh+p0AtvcnMP5lB3a/Wa1srnxJNTYc8LsnpK9XDmG50X7nUXuT3Q0WSy1U392vmH+POv+VreZk9yF8Yu6jmi8lWg8Feoj3wMskQAIkQAIkQAKxEKBAj8m5jOqgl7qT6+6fCquPkIXbfS9/Dxa9ZGOx0bZ7lDd2eSMWYprvbv6c/8m3VQr0WHwOFkoCJEACJEACJBBCgAI9JoedDnqQg66HJmdz5FZQefzcLQ5n7+9j6NkZ/Ri2ODlx/id/XlKgh3gPvEwCJEACJEACJBALgdgE+p3bY8ZRaoUIa5d1iDrjdLqzKZsOegYHXcvyvWhnlzesOqaHJtmMH7+bYfyKcnz0/e1VaDo3s38LOP+TZj/e9lKgx+JzsFASIAESIAESIIEQArEJ9PuTNwsu0EWdxSKs6KB7HV59bMY7G8yjsiob0OmThVv/Lt9nZkk+gs9ltK0T+/6d+9Fnig3nf/JtlgI9xHvgZRIgARIgARIggVgIxCbQhWNcyFX0Ylo9F32ngx7uoA92HkKnJ9N3+H0zJbpYb5GPza3zOC4SHBbBCj/nf5HbSgQboUCPxedgoSRAAiRAAiRAAiEEYhXof7/714KIdCHORV3FJKDooCffQS8me2JbkmVPnP/JGi+/+UWBHuI98DIJkAAJkAAJkEAsBGIV6NLpuT85jrvff2eIdSGm8/UjyhRly3qK6ZUOevId9GKyJ7YlWfbE+Z+s8fKbXxTosfgcLJQESIAESIAESCCEQEEEup/zU+qf0UFPvoNe6jbK/sVno5z/8bEtlN1SoId4D7xMAiRAAiRAAiQQCwEK9Ah7EXNxCOmgJ99Bz2XceQ/HXdgA53/y7YACPRafg4WSAAmQAAmQAAmEEKBAp0Avyi0CFLrJFzizeQwp0JNvvxToId4DL5MACZAACZAACcRCgAKdAp0CPSYbmM0Cdbb3nQKdAj2W/7FZKAmQAAmQAAmQQMkToECPSZzRQU++gz7bRSb7n7sNc/7nzq5Y7I4r6CXv/7CDJEACJEACJFCUBCjQKdC5gh6TDRSL0GA7Ci8WKdALzzzfdk6BXpQ+CxtFAiRAAiRAAiVPgAI9JnFGBz35Dnq+HX6WN3tsgvM/+WNNgV7y/g87SAIkQAIkQAJFSSArgf6PexPgTzQGwrkjq2isyImcSs0GOP+Tb9MU6EXps7BRJEACJEACJFDyBLIS6OOjw+BPNAbCuSOraKzIiZxKzQY4/5Nv0xToJe//sIMkQAIkQAIkUJQEshLoRdmDIm0UnbsiHRg2iwQKQIDzvwCQY66CYxgzYBZPAiRAAiRAAiTgS4AC3RfL9D+kczd9hiyBBJJKgPM/qSNnt5tjaLPgOxIgARIgARIggcIRoECPiTWdu5jAslgSSAABzv8EDFJIEzmGIYB4mQRIgARIgARIIBYCFOixYAXo3MUElsWSQAIIcP4nYJBCmsgxDAHEyyRAAiRAAiRAArEQoECPBSsFekxYWSwJJIIAxV0ihiljIzmGGfKyXlwAACAASURBVPHwIgmQAAmQAAmQQEwEKNBjAkvnLiawLJYEEkCA8z8BgxTSRI5hCCBeJgESIAESIAESiIUABXosWLmCHhNWFksCiSBAcZeIYcrYSI5hRjy8SAIkQAIkQAIkEBOBggr0//7vfyKfPzExyUuxdO7ygpGFkEAiCXD+J3LYHI3mGDpw8BcSIAESIAESIIECEYhdoP/zx//C3+99jzu3xzA5MZrXH1GmKFvUUWz/6NwV24iwPSRQOAKc/4VjHVdNHMO4yLJcEiABEiABEiCBTARiFej/9eAfeRXkmQS+qKuY/tG5K6bRYFtIoLAEOP8LyzuO2jiGcVBlmSRAAiRAAiRAAmEEYhPo//3PHwsmzqVwF3UWyz86d8UyEmwHCRSeAOd/4Znnu0aOYb6JsjwSIAESIAESIIEoBGIT6H+/P1lwgS7qLJZ/dO5mcCR+6MeOqmexo+/BDDaCVSeGwI0P8coTm3HqRv5azPmfP5YzVRLHcKbIs14SIAESIAESmN0EYhPod7+/WXCBLuosln907mZqJL7BkZoFKEulUVb1J3xVPEEVMwWE9WYkMIFTddJeWtD7Q8YvR77I+R8ZVdF+kWNYtEPDhpEACZAACZBASROITaDLsPNCvxbLaGXj3N08td4UlKkF2PpF9FXfqS+aMVcI0VQaq05NaF0fxal/fwJzU4/jmf39mNKulPbbB+jd86wlzpvx2fel3dvi690E2tf62WNYS/uxw7LjHX1h353m9b4Wa661oFcWZURcmO2e+5sPMSI/n8ZrNvPfruYeRj49ik1rn8XDFo+5T6zC2j0foveW/S2/d5NXz2BH3SqkH7X68cTL2NR6FiN3/b7Nz6IQyG0Mo5TM75AACZAACZAACZBAMAEK9GA207qSjXNnC/Q0yurOIFqg/j2cqjOdcY9A7/+TcvDLUptxakaE6gNM3r1n/BTqAcHUxRb81BA2DG+flvHmfHNCBbrorwhzN8TtArxyajRnAvLGbOa/cc8P3+BI3ePWwwN7XhuRIMKmH12FHRfvyeK11wfo3bdKPahT37cEftnC/IbuaxWX/Nusx7DkibCDJEACJEACJEAChSBQMIF+vasFLy6uMBzQh1bV4/ClYVcIfB8Or63Awu3dGBfHsV1pxXOGk1mBLWf07w7jo7ctB/bVVgy5jm4rBLQodWTj3DkEeuplHImyhDfSjmekE16MK+jffYhVRvvWo/27KMSm+51vcOQl0y4WH7w63cJ4f04EEizQAYycsCJZHm3GZ9MMdc9m/gP38MlvrTD71LPY1NGPm1YgzeS1M9i6Ul7z/m24+dF6S5wvwDP7LmLEaPcDTF75EJuqrL+TYqtHTuM5u2/KbgxnNyv2ngRIgARIgARIIH8ECiPQv3wPlak0Hnq1Hs3vNOJXz1agLF2Pj0btc9EHjtSg7KkWnJWC2xDov0TlqjTmNJwxRbu4NnoKr6fSqFz1S5SVpEBP46f7wwXmV/t/4Vhtc4a4589Aci6pwAJdhfvnQVzl3OdZf2OyBTpwFXssUftMx/RW0bMRd1N9MvLjF9h60WeLixaC74ywuYo9S62HUnt8trJ8341NVlTApi6/1fdZb7AZAWQzhhkL4kUSIAESIAESIAESyIJAYQT6p40oS9Xg8BVLkLt/NwR8DQ4P2ILdXEGvQfOeTQ4xP/5RPcpS9Wje81zJCvQyITJ9/HQ1rg8uYqu111SGtM5ugS5WIE2hEuXhhuLIN3kmkHSBDkx+stl88LV0eqvO0cXdA3y2zVrpzrS95cqfrO0b2iq6+uz3+CRgxX/kg1Vmf37bHXHrTJ5NIsHFRR/DBHeSTScBEiABEiABEig6AjMv0Ee7sfWpCrzY1ucMebdC3Lf+5Th+nZJh7sP4qKECZW+fwkfb06Un0Gs2Y621Irb2k+AVLyUiHn0Zz1Sbzr1ToAcIJceq9gNc/aQFa6usfa+PPoFX9pzBVbej75dUSzNjFZ6/9kMYOfRVHZbo0MLwxcMEdxIwkdxqz29fnl5yqwdnscWoZ5Xv9oDePf5tkQ83zFctaZjVv5tftGNLnZ2w6+Gqzdhxqh83PZnhdd7f4KuOt/DMQqvOPf02rR8n8FlHM9auFAn8xL7iJ7CsrhlHvtAT/NlfD3/nTK5mJgqT7V2A9Jq3cCBT2bcu4oDG/uGqWmxqvYibP+r98Wnb3X60b9uMxVYf5X2TCLnvxlltrBcgvXIzdnzyDabg7Ie737nYyMin+7Bpjc65BaeuPQBC7BkhtuRuW9Dv0cVdP3ZYD9u29GR6KvcNjrjmughvN2xXzj2/xoT11+8efmYQiD6GBEYCJEACJEACJEAC+SNQGIEeGOI+jO7tT2PO2lYMyNB2+SoF+qdDOPG6FeY+egZb0mm8/tHXxmclF+K+9kN81vGy6XS/1B6QTXpU7bX+6f4zAVmzA4SSEs+/wDNrrGznLgE9t8ZVb4iD7xHot7qxpXoVlkkRmhJCbBWWic+qV+GApldHTsn9sz4COpvkVv37TMEbsOqZvUDXssG7+AhBNHflPtdxXDbvuY/K/cIugX6j294T7FPm4t91B4x3psluC9tVdZu1xIBOnot3XPSsnk717cMyVxSGfGAxd+VmvOISg7IVU9farWRqzjpMLsH3TfY0Y7FPv8V9D9dttvIVeB/gZG8jE/hsh79tl6Uex9o6eWKC94GM2Uc7GuOVj3weTkgQIa+RxZ2ak+G5Gnp3O21Kzb2aDJnn1fwNLz+kS7PucuQxnHVk2GESIAESIAESIIE4CRRGoE+Mwi9J3HhXI36S3oQT17TQdpdAf67ta1z/iwhzb0R3VyPmpMTe9a9x+NUSXEEXK2Hfn8FaQ8j8Anuu+Ay9CmsVoa62MMxuBV04+s9i06mrmBSrwQ9G8dm+l1UmaEdZysH3FzRKJLhX8UKEx1T/PkuwmcmtZFKsqe8uYscaeS71PnyVaVHRwqPasO1sVkfKib2/pmh0Zu62E29pjABH4q25vzljRgwYbbDHQQjOxb/7EF/pmfMf9GOHStj1e7RfmTDb+WACX536vRKui/f57CP2MQH7I1ugGwJ5zT589p0F7PuraP+9zO69AA6x+cNZbLHE+dyVYmXZitYQ7elwCn2HLYh+WBEeZVXB/RBtcdynbCGNuaKNN6w2/uC0O3GfHmGRi40oW0jpSdOAqRuaXRnzy9+eBVsVFq5HP9jQI72LLO5C5pdemeqbnGvywVQqQoi7i61eLt/7E4g8hv6381MSIAESIAESIAESyIlAwQS65zz0b0/h9fTPsaVLz9CuCXVrBV0IdDMxXAUWPvVzI7x9fKIXf1xRogIdD/DZDlOgzt1x0SM4e/dY4tXYr2oLQ4cgCgo11oTSMx984zIYsRfWKlsXnyECwiMaZKmqLr+VOzsKYLFfcqsfLmKrJQSjJOv66qCZMG/ViSwSe6ljtdJwtEHt73eKdtktcRyXmZ1eP7PeHocyn8gHe0vCerTfUCWpN/YqcbZH4mkCfWmLa1VfFP8AvbutZIJadMGIjNLwvUfLZu4S2uq+R9/CJ/oDCKsnKgu64z7bnst8s4lrbXSIyBxsRI1dGr6Z/DW7KksFC/SpnuZp79uOLO5C5pcyEgCeuaY9MHHYsLxJJYkzV971hx/yK3wNJhB5DIOL4BUSIAESIAESIAESyJrADAn0r/GBdaTa9eFenDjUjOZ33sOJL4fsfehSoB8Re9OH0f2H5/Dkiuew1RD03dgqVsFKLYu7XBlTq+QuwaYEiBSHtjDMTqDX+gpFXGwxhYkuXkIEhEc0SBPMJNBvncErxiqmn3g3C1CrmPrDAlm261WGsDsZuL6k/6plxZ77G1d4sFyVfDRIwNlJvebuk/H69jgs8zz4mMCp35gCadlR90MR2Sg7G7dc6b7Z9Xu1LUBuD5Cv9jYBW6B767XKHmnHMkdEhtYeT1ute9Q+bH0lPNf7IuyxVm3UVtBzsRE5dqngJIvKrnQbl8MgX6XNy/koP8/iNbK4U20Osje7Ur+5Zkd7OCMGHMesGeOvsbWL5LsMBCKPYYYyeIkESIAESIAESIAEsiUwIwJ9oK0Gc55qRPel9/Fi2tpXaTiRFXjxP782Rbol0Mu2d9uiXYa/T5S4QIe9eqgni1MrsWo11BaGTnEa8Hkm0SwsRwoTXbz4faZZmZ9oMC5nqkuVqY990Ptw4ZKdQB9F+29kCL131Vn1xxI1Iuw68EcJuADeBghbRG+9qIFzvQ3cX+xTv70Sapdtf+YqWEvAZor/KPf49SfH+zLZgWqqT9k52IgaOzUuqgL7jSo3g13J72Qqxy7R911kcaf4BDw000qXdl7mCL1/gKuubQm2vT6OtafazYeZqeCHYVoVfKsRiDyG2j18SwIkQAIkQAIkQALTJVB4gT7QiudST6P53CiG2mqMI9RODIvQ9iGceLsCZSveMxPGzWqBrh33pEKmbdFuh337CSlhEgGfKzEQ4KxLYVIwgf4yNu3fhz0Zf8KTp42cqDVE9E8Php0fP4pPfmclEHvUP9xcibyl67E1Y7v2YU9Hv5V8LYC3MTt9xKfPrHULdJ+v+HwUpWz7O8kU6NFtRI1dJmHtZ+Musio7+u4MT1Rc97h/jS7u7AiDzGeVe7O4O+q81Y/21masNZIxbsaW1g/Re0tsqJcRFMFRBY5y+IsiEH0M1S18QwIkQAIkQAIkQALTJlBggd6LP65Ko/I/eo1VcUOga2Hqxu+pRnSLlfJZLtChwtmtZHG+Ye9BwjDg8xgEuhTHZW5RlKmuCOHL2Vj2ZNdb5ip3xnB4PTP7s9jRF5B9ToYcB4a4+7UsgLfxVS00PDDE/RscsLKmyxB3v1q8n9niezaGuHt4yLGbZoj7V/vMCIvwBz6eFqgPoos7bY++ew6p0gCo+a+dg44HmLx7z/iZ8hz9Z96s8gZkKluvh+8VgehjqG7hGxIgARIgARIgARKYNoECCvRhnP2D80g1Q5DLFfOJUQwceRll6WacpUA3Bvar/WaCr7k7uvGJb+K4IGEY8Hkm0Sxq9FtdVGJ6AbznNH+jjnzLSqBrIfz+mcu/QXuddTTbfrnPO4OtR1gltBOxBSR/k8WrByOuzOfy+g8XscM6Mm6tOoYrgLd1j9qaELBqb7fNlXNA1hn4agv0Mt+Eb1oCNrUtAlCizfeeIkwS55vd3sdG1NhNJ0mcvVLttffAgfBcyErcXfmT72kCdqGj6jjFMiM5pLxi5y7wTZCoZevXt8rIu/mamUBWY5i5KF4lARIgARIgARIggcgECibQxz9txMJ0DQ4P2Jnax8/UY06qAk9ubERz4yY8mbbOO6dANwdwpB3POPYgu49eCxKGAZ/nItA1MV326MvY8cWomVleHOMlw8VFG90rdCrR2AJs6bKO8fr+G4xY2b/tI7Qex9rWfshj1qCXGyBovdYthYpMnuf8huM4tQ++8WTGd34bUIm3Hl2FrZ98Yx5FB8B5BJy+fz2Atyy42I5Z07J7e45Z0459E3uZHbkNtKzhjmPWfrznOC7Oc5+yO9cxa67j/cR9+l76XGxEhbm7j1nTj+8z5lTAHnT1sOctfHJXDmD2r9mJuwf4ap88u905H5zHw+mr52ab1MMW/dhE15GAZVXRjivMvpelfUd2Y1jaLNg7EiABEiABEiCBwhEojED/thtbn6rAr/+iZWk3Er4N42JbPSp/JhJxPYaF697F2W8tAT/bQ9wNG7iHU3VakjK1H10aSJAwDPhcCaUs9qCLqq4cxTLr3Gw7AZVo17N4Zo11jJdboEMXHXYfbAH2AFc/WK/OXneWm0bZo6uCw9Bl97VXGW3gXGEUX7BZeOpwPPzQxeEEPtshBZPddnX/ws045Tguza7DIWi19uFGNzbJs9Bd9YpyF/8ufK+9Xpz53l5BX1XnPL9ctVWU7XOUnf3Qwtu/uSs34xUr5N7dn6krf8IzvraQRqb7Rrrs8971ton3D9dtto6u08dA9DAXG9HyDHg4P461deu9JxUosGIbhGXPjpVq9YXIb7IXd6M4Vfd4cEJCMR8uWg+6HK3I1N80yjy26riZv2QgkP0YZiiMl0iABEiABEiABEggIoHCCHRDjNsr554z0fN4PWK/Y/9aNs6dWvXziFxg6otmJWK9YapBwjDg81wFulg9vnYGO9Y9YbXlcSyua8Gpaw+8ZzM7yE6gd/9mLF4oROACpNe8hVMjji9g8uoZ7Pnty0hL0bfwWazd1o7PRIKrbP6paIPgKAO3MHT/bj88MCu++UU7ttQ9i4ctoTf3CZGw7AyuelZWA3i72//jBD7raMbaKkuIPfoEltU148gXE+5vRvzdFuii7YLljrpVFkuT94FMZd+6iAMa+4erarGp9SJu/hjSn++d9xlcItxn2JDG8+GqzdjxyVVMapnm3WMgQGRvIw9w9ZMWm3PKster9/y3cUjayob8IzHk16K8ZjP/9fJufnEUm9bqNrcKa/dYCd/0Lzre38PIp+77gmzVcSN/yUAg1zHMUCQvkQAJkAAJkAAJkEAoAQr0UES5fYHOXW7ccr9LS7bliTTIvdTivtMp0Iu7rcXeOpHMzzp+Lw/2w/lf7OMd3j6OYTgjfoMESIAESIAESCD/BCjQ88/UKJHOXUxgMxWr7a32C+vOdGsyr1Gg52vc7ER93n3eudTB+Z8LteK6h2NYXOPB1pAACZAACZDAbCEQm0C/97dx4yi1OMPZ3WWLOovlH527mRkJe2/1ArxyYnRmGlGwWinQ84F6sqc5JIt69rVw/mfPrNju4BgW24iwPSRAAiRAAiQwOwjEJtCn/n634AJd1Fks/+jczdRI2InF5v6mHSMBx53PVOvyWy8F+vR5isRwZkLAfEZdcP5Pf2RmugSO4UyPAOsnARIgARIggdlJIDaB/j//8z+4W8BVdFGXqLNY/tG5m8mReICvTnyIr36YyTYUom4K9PxQHsVnpy5iMj+FGaVw/ucR5gwVxTGcIfCslgRIgARIgARmOYHYBLrg+s8f/6sgIl2Ic1FXMf2jc1dMo1G6bZm6ew+Td+9h6sfS7WMSe8b5n8RRc7aZY+jkwd9IgARIgARIgAQKQyBWgS678OAf93D/zl9x9/ubef0RZYqyi/EfnbtiHBW2iQQKQ4DzvzCc46yFYxgnXZZNAiRAAiRAAiQQRKAgAj2o8lL+nM5dKY8u+0YCmQlw/mfmk4SrHMMkjBLbSAIkQAIkQAKlR4ACPaYxpXMXE1gWSwIJIMD5n4BBCmkixzAEEC+TAAmQAAmQAAnEQoACPRasAJ27mMCyWBJIAAHO/wQMUkgTOYYhgHiZBEiABEiABEggFgIU6LFgpUCPCSuLJYFEEKC4S8QwZWwkxzAjHl4kARIgARIgARKIiQAFekxg6dzFBJbFkkACCHD+J2CQQprIMQwBxMskQAIkQAIkQAKxEKBAjwUrV9BjwspiSSARBCjuEjFMGRvJMcyIhxdJgARIgARIgARiIkCBHhNYOncxgWWxJJAAApz/CRikkCZyDEMA8TIJkAAJkAAJkEAsBLIS6D/++P/An2gMhHNHVtFYkRM5lZoNcP4n36Yp0GPxOVgoCZAACZAACZBACIGsBPrN//t/wJ9oDIRzR1bRWJETOZWaDXD+J9+mKdBDvAdeJgESIAESIAESiIVAVgJ96v4E+BONgXDuyCoaK3Iip1KzAc7/5Ns0BXosPgcLJQESIAESIAESCCFAgR7TQwc66Ml30EtNNLI/hbNJzv/CsY7LrinQQ7wHXiYBEiABEiABEoiFAAU6BTpX+mOygbiEA8stfvFHgV78YxQ2jyjQY/E5WCgJkAAJkAAJkEAIAQr0mMQZHfTkO+hhDjyvc4yDbIDzP/m2QYEe4j3wMgmQAAmQAAmQQCwEKNAp0LmCHpMNBIk3fp588RY2hhToyR9jCvRYfA4WSgIkQAIkQAIkEEKAAj0mcUYHPfkOepgI43WOcZANcP4n3zYo0EO8B14mARIgARIgARKIhQAFOgU6V9BjsoEg8cbPky/ewsaQAj35Y0yBHovPwUJJgARIgARIgARCCBRUoP/j3l+Rz58wJ3kmr9NBT76DPpP2w7qTbT+c/8kePzH/KNBDvAdeJgESIAESIAESiIVA7AL973f/int/+w6TE6Ox/IiyRR3FJmjooCffQS82m2J7kmNTnP/JGaugeUWBHovPwUJJgARIgARIgARCCMQq0H+4cysWUe4n9kVdQY7WTHxOBz35DvpM2A3rLA274fxP/jhSoId4D7xMAiRAAiRAAiQQC4HYBLoIZfcT0nF+JuosFoFDBz35Dnqx2BLbkTxb4vxP3pi55xkFeiw+BwslARIgARIgARIIIRCbQL/3t5sFF+iiTreTNVO/00EvLgd9sP01zFt3DINMCFc0c2Sm5mZ4vWPo2bkCS1t6MJmjvXD+F9f8Dx9zb3sp0EO8B14mARIgARIgARKIhUBsAv3O7bGCC3RRZy6OWBz30EH3OrxxcI5S5mR3A+al0ihLVaD25FDR2EiUtvM7M2BHvXuxyLKX1e2Xc7IXzv8ZGLccH6YEzTEK9Fh8DhZKAiRAAiRAAiQQQiA2gR5nKHumsoOcrUJ/nouDfr17PzbUVFliMo15levRdPI8xvPseBaaRT7qu97+GsqEaKo5huvZ8Bg8htXzTXG+urUv5xXRfPRhVpZxbps5bqlt6Mli3HIe7yzqMMdjCG01wj7SeKHdfngjIi7KDZFehaZz2T/4y2X+T90fweAZ59+A8iUrULvzGHqGgwSv3X5jfhhtNvtj//4a2q4F3c/Pg+YlBXqI98DLJEACJEACJEACsRCgQM/aoY/m0GbnoI+gZ2eVJWTcznUa5QzNRm6C7bISX2QYzW6DxErOnydUoE/dF2Hu1pys3IaeW9nxy27+T2DqVh8OblwY+DegbP4KNH0+4rOa34MmX1Gu/x2hQM/FfinQY/E5WCgJkAAJkAAJkEAIgYIJ9OtdLXhxcYXhgD60qh6HLw27QuD7cHhtBRZu78a4fiTbtW788e2XsfBnpsM5Z/Fz+NU7ZzA07n9sWy6OWBz3ZOOgj5+uU6t1G9rPY/yOEANjuH5mG5Yaq79pLD+aW6htHH2biTJzEeiTnQ0m1/l1OH0jO4E1E30syToTK9CFaO5C/ZPm353lrX0+4jjYprKZ/2Ll/PSb5t/GslQVNhztwfXbZtnjAx2of15eq8bBK646x05igyHQKcLzPX8o0EO8B14mARIgARIgARKIhUBhBPqX76EylcZDr9aj+Z1G/OrZCpSl6/HRqC2yB47UoOypFpzVxflAK15Mp1GW/he8+HYzmt9pxus1/4I5qTTmPPuu87vWffl20nItL7qDboeoLj3oFQGDrdXmqtqTe3EhptX+XPtYyPuyF+iXcbA6N3FVyH6VfF1JFuj3J6Aens1vQKclmqOMWfT5P4HJc9uwwBDZy1D/uU84/a0eNFVaK+IbO5xbXq4cwlLj3uzaF6UPs/07FOix+BwslARIgARIgARIIIRAYQT6p40oS9Xg8BVLkLt/NwR8DQ4P2IJd7DPv3i5Wjn6J/33J+bkh5lNp/PovQ65V+NGsVrnidECjO+h2iGrTOdfqmBDkg8fwgrVCdjxwH6rPfSUm5rMW6Jf2WqJnPY5z9Xzm5kXCBfrU/fPYba2ibzjtF2LuP/eiz/8xdDYEiG99Dit7dq2iS77zd83qB3hx/C2nQA/xHniZBEiABEiABEggFgIzL9BHu7H1qQq82NbnEttf4/CrwnFtRLe+qi7eD3fjj+80o/kv7nuSKND7cHCl6aDXnowuAKRDer37EN7Y6Eos196D60aYvL948LvnjaNdwffcGULn0QbUPr/EChlfgqUbG3Cw206qJdszdc1+oNB2bQz9J7ehttLaWzt/CVbv7EB/4H7eEVx4v8H+/mNVeOHN/ei5MZH1HvTB1hVm5EHDx97EcKqNljAyHoB43+tJw4z+SQ6yP6mFWLRxG9rO+XCQwkkkRxv8GE3/arFLOUORx7/swO4312DRY2b98yrXYMPeDvSP+Y+d4qyLN+2940GGaO+BOixfYoVIP1aFWsE/Q9miPU3KnirwyPMyUWHmB0mDZ3Zhw0u6fWzD8YExTOkctHaa/chxvLMZB1nnWA/aGtY7OR/owvh9O4LFM97WvRltSZbveo0u0HvQZG1jeaPTZ/VclWv/ndDb6Rhv9d3cbCfMtmbbdQr0WHwOFkoCJEACJEACJBBCoDACPTDEfRjd25/GnLWtGHCL8IlhfPS2EC3/hg+uOVfQSy2L+4V9VjKq+dVo6r7sFZS+jreWxMpHYJY/v8snsdUQOhszJKPzu2fwJDbI8FqfehZtOek8W1yJ32VY/pJ/XeVrDjnvEf0TSbLWyb22LrE8fwVq11mCO1IW9yEcX2eW4bvqqdroqsfVP10ITelhxq7viePbPGdmK2FagXJLgJlZtaVAH8OFfdVW7gGfdsyvxu5LmQSbvwhTgm3la6hVe5dd5c9/DQeveMse/PN6dYKAnQHcvHfexvVWJEcazkiPTDa1ELUbrez77izuuY53tuNwfwKTA4esTP4uDqk0yp9fj9XWAzLHeOtzTq5eZ7FKHVmgK1uUduE/rkIc92y32r+zR0VEXNi3zHwQ1XgSF/SHYdbDrdNXsn/oN9uEeFB/KdBDvAdeJgESIAESIAESiIVAYQT6xCj8ksSNdzXiJ+lNOBEgwMc/bcRPxH7zF5vx0RV3Ujl/0R7kbBX688gOuiFOe9Cki6n51gr1mT4rYZzXab/+Z/sYKDux3ATGLx1Tgrp8XYfjSDL1IEAkohLJ6Iw9tWMYv3QItdYKruOe29re18q30HZpyHx4cHsIF9rfss6KTmNRS4/9UEEJDiEmrHrEav7ty+hssQWpUwyJhw2W0JD3qLbZ/TFEYySBLld7V3iTaunCy/P+MtrkQwJH5m4h+K2HBwYHS/TcGdE4VGD1XIigJwAAD5JJREFUn7WVdCXQ0yjzefBij18Flrd0YdCKKpgc7ELTS1Zd81/D8SyPx1IC3XiIoPEXSQe79+IFa5zLKnfhgr6n+sohLLcePMzbuB891ywBf+syTm9f4XiQoAt0u74M/TDK1Y9Zy3W8cxgHYcNWiHpZBhsWtuW0SW3O3f4Ybxh9CBfR8u9M5Pmv7ETno9Wt2ahireaAFh5vjV2Z+NuxcgUeUQ+FFqL2z7M7waQck2xfKdBj8TlYKAmQAAmQAAmQQAiBggl0z6r3t6fwevrn2NKVWXgPdPw7nhSJ4oRQX/xL/PqdVnz0pXfvuSw/Wycsru9HdtClAy7DkaWAUg73CrzR7jq/+3YX6g0HvAKr232cb7VvvQL13ZbQutGBWqPMCvitKuuJqnZfMgXC+Mn15urc/NfQNugVDfZZ0do+b02gezNfC0FhiU/94YESh/5ts/fhRzwHXWW2Dhc99vhrEQmu/k52y2zwARzet1aJ9URiSnhVwBu6bO9rXrRTe7ghbUFbJV6w97xaLbXb6h0LeU2JOCE4389kG2nYWyrG0NlojUvNMW90gzhybLt8gKKtoCs7TGPRPp92alnQy/QV9BzHO5dxGDxqJVkMyOQ/KMcuk0C/L8PLl0HODck76DXy/Fd2Em6ramyVQLfD89XDMGlD4u+JeiBWhaZeb8REUNv5uTm/KNBDvAdeJgESIAESIAESiIXADAn0r/GBdaTa9eFenDgkMrS/hxNBwnu0D2c73sPr657GQ5bIfPIPruPYEpvF3Su2Jof70Nm+Cxuq7XORHavUvbusveBBTr29slbeYobDihVbYwV65X70Syc+46sdJu6XXd504m2hqVaPlUBf4yvqpz7fZrZDE2x223xC34022v0pU+LEy00JC9WGID7ee+2HDVVoOucUMxdaTPFaroUWq7pE+9QKawWaeq2ylfDyya4txy/1Fk4H7Me3H47I5F9DOF2/wlgdFSukzp/9KkGYEnEpn3rdLN88aWUEj7APWmUL1wS66kdQXRNQ+7fzMN7Zj4Nmw0HHpKmxy7CCru1T16MHHDbgmkuRBbpiGG6ramzVHBhB/8lDqH9zDTb4rpJrD8TUWHttP1M/ZvM1CvRYfA4WSgIkQAIkQAIkEEJgRgT6QFsN5jzViO5L75vHqMnV4lQFXvzPr13J4lyh7ONf40TD0xD7fksji3smh3kM/a0ylN3O3qwcdcXNu7fWEOPiuuXM9+z07l/N7HzLMPE06j8PbqNnX6wSxwHhwEq42oIkSttUn5U4CW6TnajOriNTX0X0wCLrwY83IkFfpczA2RoLFSbt00/ZBtWXNX6r1Va/VBSE5JipHXY/VdkZOKnvyD3VYWNmiE/bHqRIVeVkqMsvSVxu452p/95xMcfB22Y5BvarXa4aO5fYnopToCv2AQ+0tLZE4Wb3y7IjuX8+8IFNhnmk1e0pdxZco0AP8R54mQRIgARIgARIIBYChRfoA614LvU0ms+NYqitxjgP/cSwEOFDOPF2BcpWvOeTMM4l0kdP4XUhiF4/juuu5HLF4khGXUEbP3cIu/fuwu69rmRrygG2V6llaLoSRk++hnrjXnF/wM/RHmOVVDn327sihkxHETc+iauU4JDC0iUAfISralvQCvX9bLO4d6HeEMx1OJ0hY7mwlclLe7Hc2q/rG26uibMF6xqCOVv8D56z9qf79FPaphq/TMLWI9BdHJV9OD+PUrb6TkIFevRxiGLDUQS6jDAIF9FyjKPO/6n7suy079YTWd6UCrPXVvrvjGF8bATjY86ID/ueCdgPqwLmY4AdOcqYpd+hQI/F52ChJEACJEACJEACIQQKLNB78cdVaVT+R6+xSm4I9FdbMWSJbON3eaza1eN4fcVz+NUR71FqkxPd2CoEmHZvYvegq5DvIAfaR0DIsNj59sppmENth5HnM8S9D+9aGbC9Ie4B/fERrnbb8hTirs6u1kLO/UTG4DGV3bt8XfBqdmhotV/ZPv1UYyTHL0OI++SZt6z9/zLE3SnEVVmuupX4Dlwx1bYLqLBnWyR698tb9SYhxN3FQqx8y2z+S6cT4j7cgdURH/jIcYku0J37/697+mDxVyvhdiTNlPosYK6Jss5tsxL8BW9DkG3mq3OOUaCHeA+8TAIkQAIkQAIkEAuBAgr0YZz9g/NINUOQayvmA0deRlm6GWcNwd6NrSI5nAiF/9a5gm5kf0+l8ZN3ejzh8MXiZEZ20EVCs0wruCq5m5agSiXncmUOl879rS40WfuUa2VmcVVOQGI55ezbAsDeBx2QHK1dht/7JYkLEA1+wjXHpGHBY22L0EBhpiViK3NkbHc66aIOPTmZX1b1ye5t5p7w5+vsrOt+/ZTjox4gpOG7aq+1jUnijqmTCHIZh3wkiZvsbLDyNwQ9QPLaTOT5L2zi0t4MWyxE2ZfRVmOF8W/ssPIGiM/t6JoF27vskxSUndmnEpRvkfkGvG0Nnkez+7sU6LH4HCyUBEiABEiABEgghEDBBLo4Mm1hugaHB2yxPX6mHnNSFXhyYyOaGzcZ2drnNJzBuFxR7/g3Myncz57Gr94WieSa7URxT9XjI5/j2YrF2czGQR9stTJNp8yjqq5bx19NDn6Menn8WrVTHIhV53Kxqjd/BepP2sexTV7TjulyCc9Ix6w1fGw7+tM6Zi0LgS6yhPses+Y8Ns7YV58pLFwJkwmMn64zRZWLm2kftnApq2xA540wIWIf71X+/DYcH5BnS4ujy3b5h8hnFOgTUONnjfmMH7OmRGIa7mPW7GzgpkiUe9AFS3vF3nXMmm6HxuqzHu2R63jnMA5Bx6w5jsgz++W/B91+2LPAL1O9ZnP6355s5v/U/TFcaKmykicuRO2BHth/A7T5nLIfnsm6hJ0bfwdSFVhafwwXLFuevNaDdzfKJJNVkbPPy3L5OgEK9BDvgZdJgARIgARIgARiIVAYgf5tN7Y+5ZfUbRgX2+pR+TPhID+GhevexVnXavn13vexdd1z+F/qqLXn8Kvt7+OisW/dFvuJDXE3HPwhdDZKB91aKTNEjfX+sfU47jnmLP/3lL+0FxfcWcUHT6pz1VXiOa1ti7a49s7nsAfdEAO3zmO3PP9bK9+oc/4K1K5bYQqYiAJ9SkUMaJEHUkwp8ezDWq9br+vGx6ivDP7+vI0dzuPJVB26MNUfBIzhwj77XHgP2/nV2H0pw95i2RfXqxLMK19DrXy4o/dJvHcdIyfFmJ3J3tvPeRvX4wWrHF2gi9Xd01uCbHchajdapwdoWdynNd7ZjoMrz4Cbc/nz67Ha2qbhK9CVPfvYkYu95ChesxPowi4u47gS1F7+4kFc0+fywZDTjvqPrsc89xjL38UDvM6hiHkn9HL5ngI9Fp+DhZIACZAACZAACYQQKIxAdyVyk2I6jlfdSZ7J99k76BO4fu4YmjZWKWe7fEk1NuztQH+GRGfXuw/hjWneM69yPZpOntdCZ13OuThT+WgDaiutFbn5S7B0YwMOdvs4/krQZLOCLusbQs+BOixfYp3JPX8Jlr+5H53D2kqtLpozCCSxKqnO9naEBZv7ct1Czfd3d11uDqkKPPJSHXb7sQsV6Gafx7/swO43q/GItc1hXuWa0DHPZNdKoIu2i/YeqMMLctweq0Ltzsz2JNpj22AFHnle2kamhGtj6D+5zbaP1EIs2rgNx78cMfZAm2z9HlTkON7ZjIO0kRtdeFfjbMytA10GIxk+7hXomg35RmJIu/W+5jL/xbhe796PDTX634AVqN15DD3D3jp0OxCRM+++uQaLHrPEvTHW4ffpZfC9kzEFeoj3wMskQAIkQAIkQAKxEKBAlw58nl9zddDpJDud5Gnx0Pa2ByY/y/O4T6u9eWiLQ6DnobyZ7s9M1j/Zu0vtDa/vzi6agfM/j/N4huyYAj0Wn4OFkgAJkAAJkAAJhBCgQI/J+aODXhwOutp3HxDWPZMCMI66KdDzZHdaor5yPS9DxL8XnP95GoeIvOOYSxToId4DL5MACZAACZAACcRCIDaBfuf2mCfDehwh7XqZos44HLVcyqSDXiwOup4Qbht6MmwXyGWci+0eCvQ82N2tPhxcZ22zcCVajDrenP95GIcZFOdinCnQY/E5WCgJkAAJkAAJkEAIgdgE+v3JmwUX6KLOqA503N+jg15EDrpKLFaF+m6/RFtF1NZpihIK9DyM5eAxrBY5AaYRdcH5n4dxmOZcmO7feAr0EO+Bl0mABEiABEiABGIhEJtAF85RIVfRi2n1XPSdDnqROeiDH+Ng5+WieYAzXfEQdD8Fen7sbvJSB44P5B6Rw/mfn3EIsvNCfE6BHovPwUJJgARIgARIgARCCMQq0P9+968FEelCnIu6CuG0Ra2DDnryHfSoY11U37s9gvEx8ZO7uCyq/szwKmquLDj/kz//KdBDvAdeJgESIAESIAESiIVArAJdOrf3J8dx9/vvDLEuxHS+fkSZomxZTzG90kFPvoNeTPbEtiTLnjj/kzVefvOLAj0Wn4OFkgAJkAAJkAAJhBAoiED3c35K/TM66Ml30EvdRtm/+GyU8z8+toWyWwr0EO+Bl0mABEiABEiABGIhQIEeUwgtHfTkO+iFEgKsp/RshfM/+WNKgR6Lz8FCSYAESIAESIAEQghQoFOgF+UWAYrW5Auc2TyGFOjJt18K9BDvgZdJgARIgARIgARiIUCBToFOgR6TDcxmgTrb+06BToEey//YLJQESIAESIAESKDkCVCgxyTO6KAn30Gf7SKT/c/dhjn/c2dXLHbHFfSS93/YQRIgARIgARIoSgIU6BToXEGPyQaKRWiwHYUXixTohWeebzunQC9Kn4WNIgESIAESIIGSJ0CBHpM4o4OefAc93w4/y5s9NsH5n/yxpkAvef+HHSQBEiABEiCBoiSQlUD/x70J8CcaA+HckVU0VuRETqVmA5z/ybdpCvSi9FnYKBIgARIgARIoeQJZCfTx0WHwJxoD4dyRVTRW5EROpWYDnP/Jt2kK9JL3f9hBEiABEiABEihKApEFelG2no0iARIgARIgARIgARIgARIgARIggRIhQIFeIgPJbpAACZAACZAACZAACZAACZAACSSbAAV6ssePrScBEiABEiABEiABEiABEiABEigRAhToJTKQ7AYJkAAJkAAJkAAJkAAJkAAJkECyCVCgJ3v82HoSIAESIAESIAESIAESIAESIIESIUCBXiIDyW6QAAmQAAmQAAmQAAmQAAmQAAkkmwAFerLHj60nARIgARIgARIgARIgARIgARIoEQIU6CUykOwGCZAACZAACZAACZAACZAACZBAsgn8f9pmkkUOKZnyAAAAAElFTkSuQmCC)"
      ]
    },
    {
      "cell_type": "code",
      "metadata": {
        "colab": {
          "base_uri": "https://localhost:8080/"
        },
        "id": "S_otnFxuC2IP",
        "outputId": "f1d934bb-473b-48eb-94d9-310ac2e03b71"
      },
      "source": [
        "megas20[\"date_occured\"] = pd.to_datetime(megas20[\"date_occured\"], format=\"%m%d%Y %H:%M:%S\")\r\n",
        "                        \r\n",
        "megas20.date_occured.head()"
      ],
      "execution_count": 33,
      "outputs": [
        {
          "output_type": "execute_result",
          "data": {
            "text/plain": [
              "0   2020-01-04\n",
              "1   2019-12-31\n",
              "2   2019-12-21\n",
              "3   2019-12-19\n",
              "4   2019-12-17\n",
              "Name: date_occured, dtype: datetime64[ns]"
            ]
          },
          "metadata": {
            "tags": []
          },
          "execution_count": 33
        }
      ]
    },
    {
      "cell_type": "markdown",
      "metadata": {
        "id": "HmsoSXYgHh9a"
      },
      "source": [
        "## Importando Dados de Banco de Dados\r\n",
        "\r\n",
        "- Os bancos de dados relacionais organizam dados em formato de tabelas\r\n",
        "- As linhas representam instâncias\r\n",
        "- As colunas representam atributos"
      ]
    },
    {
      "cell_type": "markdown",
      "metadata": {
        "id": "T00qLSWNImw2"
      },
      "source": [
        "Bancos de dados relacionais comuns incluem Microsoft SQL Server, Oracle, PostgreSQL e SQLite\r\n",
        "\r\n",
        "Abaixo exemplo de código lembrando que é necessário a criação de um banco local para execução dos códigos."
      ]
    },
    {
      "cell_type": "markdown",
      "metadata": {
        "id": "mg0sXuWUNGuV"
      },
      "source": [
        "\r\n",
        "\r\n",
        "```\r\n",
        "# Importar biblioteca para SQL\r\n",
        "from sqlalchemy import create_engine\r\n",
        "\r\n",
        "# Criar o engine, ou seja, a conexão com o bando de dados\r\n",
        "engine = create_engine(\"https://sqliteonline.com/#fiddle=0b384c6d719185515989ba4175d6b66008e7596926b0e0d18aee119451d051db\")\r\n",
        "\r\n",
        "# Ler os dados do banco com SQL\r\n",
        "demo = pd.read_sql(\"demo\", engine)\r\n",
        "```\r\n",
        "\r\n"
      ]
    },
    {
      "cell_type": "markdown",
      "metadata": {
        "id": "6NB3_y26Njio"
      },
      "source": [
        "Para consultar os bancos de dados no Pandas\r\n",
        "\r\n",
        "\r\n",
        "\r\n",
        "```\r\n",
        "SELECT [nome coluna] FROM [nome tabela]\r\n",
        "```\r\n",
        "\r\n",
        "- Uso de WHERE para obter dados através de filtros em linhas\r\n",
        "\r\n",
        "\r\n",
        "\r\n",
        "```\r\n",
        "SELECT [nome coluna]\r\n",
        "FROM [nome tabela]\r\n",
        "WHERE [condição]\r\n",
        "```\r\n",
        "\r\n",
        "\r\n",
        "\r\n"
      ]
    },
    {
      "cell_type": "markdown",
      "metadata": {
        "id": "gKBlCEmPRtr_"
      },
      "source": [
        "## Importando Dados JSON\r\n",
        "\r\n",
        "JSON é baseado em Javascript, mas as linguagens de programação populares têm versões das estruturas de dados que os JSONs usam, tornando-as fáceis de serem geradas e analisadas por programas, embora ainda sejam legíveis por humanos. Formato mais livre que o CSV."
      ]
    },
    {
      "cell_type": "code",
      "metadata": {
        "colab": {
          "base_uri": "https://localhost:8080/",
          "height": 296
        },
        "id": "qID4qfA6R2xU",
        "outputId": "a3d9890f-3067-484e-f155-330964ba7aac"
      },
      "source": [
        "url_json = \"https://dados.ifrn.edu.br/dataset/3a1dee1c-a359-4435-8f69-facab670cb4b/resource/e2659ab4-9c81-441e-90cd-12db070595de/download/dados_extraidos_recursos_setores.json\"\r\n",
        "dados = pd.read_json(url_json)\r\n",
        "dados.head()"
      ],
      "execution_count": 34,
      "outputs": [
        {
          "output_type": "execute_result",
          "data": {
            "text/html": [
              "<div>\n",
              "<style scoped>\n",
              "    .dataframe tbody tr th:only-of-type {\n",
              "        vertical-align: middle;\n",
              "    }\n",
              "\n",
              "    .dataframe tbody tr th {\n",
              "        vertical-align: top;\n",
              "    }\n",
              "\n",
              "    .dataframe thead th {\n",
              "        text-align: right;\n",
              "    }\n",
              "</style>\n",
              "<table border=\"1\" class=\"dataframe\">\n",
              "  <thead>\n",
              "    <tr style=\"text-align: right;\">\n",
              "      <th></th>\n",
              "      <th>telefones</th>\n",
              "      <th>nome</th>\n",
              "      <th>hierarquia</th>\n",
              "      <th>total_servidores</th>\n",
              "      <th>campus</th>\n",
              "      <th>chefes</th>\n",
              "      <th>sigla</th>\n",
              "    </tr>\n",
              "  </thead>\n",
              "  <tbody>\n",
              "    <tr>\n",
              "      <th>0</th>\n",
              "      <td>[]</td>\n",
              "      <td>Assessoria de Coordenação do Curso Técnico de ...</td>\n",
              "      <td>[IFRN, RE, DG/PAAS, DIAC/PAAS, ACTMIN]</td>\n",
              "      <td>0</td>\n",
              "      <td>PAAS</td>\n",
              "      <td>[]</td>\n",
              "      <td>ACTMIN</td>\n",
              "    </tr>\n",
              "    <tr>\n",
              "      <th>1</th>\n",
              "      <td>[]</td>\n",
              "      <td>Assessoria de Apoio Acadêmico (APAC) do Campus...</td>\n",
              "      <td>[IFRN, RE, DG/LAJ, DIAC/LAJ, APAC/LAJ]</td>\n",
              "      <td>1</td>\n",
              "      <td>LAJ</td>\n",
              "      <td>[]</td>\n",
              "      <td>APAC/LAJ</td>\n",
              "    </tr>\n",
              "    <tr>\n",
              "      <th>2</th>\n",
              "      <td>[]</td>\n",
              "      <td>APOSENTADOS</td>\n",
              "      <td>[IFRN, RE, APOSEN/RE]</td>\n",
              "      <td>0</td>\n",
              "      <td>RE</td>\n",
              "      <td>[Maria Soares de Macedo, Regia Lucia Lopes]</td>\n",
              "      <td>APOSEN/RE</td>\n",
              "    </tr>\n",
              "    <tr>\n",
              "      <th>3</th>\n",
              "      <td>[]</td>\n",
              "      <td>Assessoria Acadêmica do Campus Avançado Lajes</td>\n",
              "      <td>[IFRN, RE, DG/LAJ, DIAC/LAJ, ASAC/LAJ]</td>\n",
              "      <td>1</td>\n",
              "      <td>LAJ</td>\n",
              "      <td>[]</td>\n",
              "      <td>ASAC/LAJ</td>\n",
              "    </tr>\n",
              "    <tr>\n",
              "      <th>4</th>\n",
              "      <td>[(84) 4005-4115 (ramal: 8204)]</td>\n",
              "      <td>Assessoria Acadêmica do Campus Avançado Parelhas</td>\n",
              "      <td>[IFRN, RE, DG/PAAS, DIAC/PAAS, ASAC/PAAS]</td>\n",
              "      <td>1</td>\n",
              "      <td>PAAS</td>\n",
              "      <td>[]</td>\n",
              "      <td>ASAC/PAAS</td>\n",
              "    </tr>\n",
              "  </tbody>\n",
              "</table>\n",
              "</div>"
            ],
            "text/plain": [
              "                        telefones  ...      sigla\n",
              "0                              []  ...     ACTMIN\n",
              "1                              []  ...   APAC/LAJ\n",
              "2                              []  ...  APOSEN/RE\n",
              "3                              []  ...   ASAC/LAJ\n",
              "4  [(84) 4005-4115 (ramal: 8204)]  ...  ASAC/PAAS\n",
              "\n",
              "[5 rows x 7 columns]"
            ]
          },
          "metadata": {
            "tags": []
          },
          "execution_count": 34
        }
      ]
    },
    {
      "cell_type": "markdown",
      "metadata": {
        "id": "JVD2OBj75Qoj"
      },
      "source": [
        "## Importando arquivo em HTML\r\n",
        "\r\n",
        "- Link da planilha de dados, salvar como HTML: https://www.fdic.gov/resources/resolutions/bank-failures/failed-bank-list/\r\n",
        "- temos ainda os arquivos XML - linguagem de marcação extensível: mas não tratarei nestes exemplos\r\n",
        "- utilizam-se por exemplo as bibliotecas lxml ou o Beautiful Soup internamente para fazer parse de dados de HTML.\r\n",
        "- XML e HTML são estruturalmente semelhantes, porém o XML é mais genérico."
      ]
    },
    {
      "cell_type": "code",
      "metadata": {
        "colab": {
          "base_uri": "https://localhost:8080/"
        },
        "id": "zKKti7bJ44YG",
        "outputId": "0cbf6aa1-deaf-482a-b384-a652a5abcd92"
      },
      "source": [
        "url_html = \"/content/FDIC _ Failed Bank List.html\"\r\n",
        "tabela = pd.read_html(url_html)\r\n",
        "tabela"
      ],
      "execution_count": 35,
      "outputs": [
        {
          "output_type": "execute_result",
          "data": {
            "text/plain": [
              "[                                            Bank Name  ...       Closing Date\n",
              " 0                                   Almena State Bank  ...   October 23, 2020\n",
              " 1                          First City Bank of Florida  ...   October 16, 2020\n",
              " 2                                The First State Bank  ...      April 3, 2020\n",
              " 3                                  Ericson State Bank  ...  February 14, 2020\n",
              " 4                    City National Bank of New Jersey  ...   November 1, 2019\n",
              " 5                                       Resolute Bank  ...   October 25, 2019\n",
              " 6                               Louisa Community Bank  ...   October 25, 2019\n",
              " 7                                The Enloe State Bank  ...       May 31, 2019\n",
              " 8                 Washington Federal Bank for Savings  ...  December 15, 2017\n",
              " 9     The Farmers and Merchants State Bank of Argonia  ...   October 13, 2017\n",
              " 10                                Fayette County Bank  ...       May 26, 2017\n",
              " 11  Guaranty Bank, (d/b/a BestBank in Georgia & Mi...  ...        May 5, 2017\n",
              " \n",
              " [12 rows x 6 columns]]"
            ]
          },
          "metadata": {
            "tags": []
          },
          "execution_count": 35
        }
      ]
    },
    {
      "cell_type": "code",
      "metadata": {
        "colab": {
          "base_uri": "https://localhost:8080/",
          "height": 195
        },
        "id": "vShv0V1M5h4I",
        "outputId": "51dcb60e-97a1-486d-fb26-2a3f66ceb5d2"
      },
      "source": [
        "# Primeiro DataFrame da lista gerada\r\n",
        "tabela1 = tabela[0]\r\n",
        "tabela1.head()"
      ],
      "execution_count": 36,
      "outputs": [
        {
          "output_type": "execute_result",
          "data": {
            "text/html": [
              "<div>\n",
              "<style scoped>\n",
              "    .dataframe tbody tr th:only-of-type {\n",
              "        vertical-align: middle;\n",
              "    }\n",
              "\n",
              "    .dataframe tbody tr th {\n",
              "        vertical-align: top;\n",
              "    }\n",
              "\n",
              "    .dataframe thead th {\n",
              "        text-align: right;\n",
              "    }\n",
              "</style>\n",
              "<table border=\"1\" class=\"dataframe\">\n",
              "  <thead>\n",
              "    <tr style=\"text-align: right;\">\n",
              "      <th></th>\n",
              "      <th>Bank Name</th>\n",
              "      <th>City</th>\n",
              "      <th>State</th>\n",
              "      <th>Cert</th>\n",
              "      <th>Acquiring Institution</th>\n",
              "      <th>Closing Date</th>\n",
              "    </tr>\n",
              "  </thead>\n",
              "  <tbody>\n",
              "    <tr>\n",
              "      <th>0</th>\n",
              "      <td>Almena State Bank</td>\n",
              "      <td>Almena</td>\n",
              "      <td>KS</td>\n",
              "      <td>15426</td>\n",
              "      <td>Equity Bank</td>\n",
              "      <td>October 23, 2020</td>\n",
              "    </tr>\n",
              "    <tr>\n",
              "      <th>1</th>\n",
              "      <td>First City Bank of Florida</td>\n",
              "      <td>Fort Walton Beach</td>\n",
              "      <td>FL</td>\n",
              "      <td>16748</td>\n",
              "      <td>United Fidelity Bank, fsb</td>\n",
              "      <td>October 16, 2020</td>\n",
              "    </tr>\n",
              "    <tr>\n",
              "      <th>2</th>\n",
              "      <td>The First State Bank</td>\n",
              "      <td>Barboursville</td>\n",
              "      <td>WV</td>\n",
              "      <td>14361</td>\n",
              "      <td>MVB Bank, Inc.</td>\n",
              "      <td>April 3, 2020</td>\n",
              "    </tr>\n",
              "    <tr>\n",
              "      <th>3</th>\n",
              "      <td>Ericson State Bank</td>\n",
              "      <td>Ericson</td>\n",
              "      <td>NE</td>\n",
              "      <td>18265</td>\n",
              "      <td>Farmers and Merchants Bank</td>\n",
              "      <td>February 14, 2020</td>\n",
              "    </tr>\n",
              "    <tr>\n",
              "      <th>4</th>\n",
              "      <td>City National Bank of New Jersey</td>\n",
              "      <td>Newark</td>\n",
              "      <td>NJ</td>\n",
              "      <td>21111</td>\n",
              "      <td>Industrial Bank</td>\n",
              "      <td>November 1, 2019</td>\n",
              "    </tr>\n",
              "  </tbody>\n",
              "</table>\n",
              "</div>"
            ],
            "text/plain": [
              "                          Bank Name  ...       Closing Date\n",
              "0                 Almena State Bank  ...   October 23, 2020\n",
              "1        First City Bank of Florida  ...   October 16, 2020\n",
              "2              The First State Bank  ...      April 3, 2020\n",
              "3                Ericson State Bank  ...  February 14, 2020\n",
              "4  City National Bank of New Jersey  ...   November 1, 2019\n",
              "\n",
              "[5 rows x 6 columns]"
            ]
          },
          "metadata": {
            "tags": []
          },
          "execution_count": 36
        }
      ]
    },
    {
      "cell_type": "markdown",
      "metadata": {
        "id": "pDACR3SfG00C"
      },
      "source": [
        "## Importando dados com API\r\n",
        "\r\n",
        "- Importando dados de páginas WEB através de APIs"
      ]
    },
    {
      "cell_type": "code",
      "metadata": {
        "colab": {
          "base_uri": "https://localhost:8080/"
        },
        "id": "Zu_O4267HiyJ",
        "outputId": "2fd927cf-bea6-4574-c4a5-36ce54570564"
      },
      "source": [
        "import requests\r\n",
        "\r\n",
        "# URL para realizar obtenção dos dados\r\n",
        "payload = {'key1': 'value1', 'key2': 'value2'}\r\n",
        "r = requests.get(\"http://httpbin.org/get\", params=payload)\r\n",
        "\r\n",
        "print(r.url)"
      ],
      "execution_count": 37,
      "outputs": [
        {
          "output_type": "stream",
          "text": [
            "http://httpbin.org/get?key1=value1&key2=value2\n"
          ],
          "name": "stdout"
        }
      ]
    },
    {
      "cell_type": "code",
      "metadata": {
        "colab": {
          "base_uri": "https://localhost:8080/",
          "height": 69
        },
        "id": "sXvy0RkIIEwg",
        "outputId": "aa8881a5-6ac2-41dc-c83b-70181c2f3030"
      },
      "source": [
        "# Conteúdo em string\r\n",
        "r.text"
      ],
      "execution_count": 38,
      "outputs": [
        {
          "output_type": "execute_result",
          "data": {
            "application/vnd.google.colaboratory.intrinsic+json": {
              "type": "string"
            },
            "text/plain": [
              "'{\\n  \"args\": {\\n    \"key1\": \"value1\", \\n    \"key2\": \"value2\"\\n  }, \\n  \"headers\": {\\n    \"Accept\": \"*/*\", \\n    \"Accept-Encoding\": \"gzip, deflate\", \\n    \"Host\": \"httpbin.org\", \\n    \"User-Agent\": \"python-requests/2.23.0\", \\n    \"X-Amzn-Trace-Id\": \"Root=1-6025d13a-239f49e05872be6527d80fec\"\\n  }, \\n  \"origin\": \"34.75.24.184\", \\n  \"url\": \"http://httpbin.org/get?key1=value1&key2=value2\"\\n}\\n'"
            ]
          },
          "metadata": {
            "tags": []
          },
          "execution_count": 38
        }
      ]
    },
    {
      "cell_type": "markdown",
      "metadata": {
        "id": "MLxc3bbE8ai-"
      },
      "source": [
        "## Conclusões"
      ]
    },
    {
      "cell_type": "markdown",
      "metadata": {
        "id": "SuerILYb8eL-"
      },
      "source": [
        "- Ter acesso aos dados é a primeira etapa da análise de dados\r\n",
        "- Temos diversas possibilidades e fontes de dados, fora as conversões que podemos realizar após a importatação com Pandas"
      ]
    }
  ]
}